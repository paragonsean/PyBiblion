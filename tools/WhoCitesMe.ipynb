{
 "cells": [
  {
   "cell_type": "code",
   "execution_count": 67,
   "id": "initial_id",
   "metadata": {
    "collapsed": true,
    "ExecuteTime": {
     "end_time": "2023-12-16T14:39:29.015414500Z",
     "start_time": "2023-12-16T14:39:29.008939200Z"
    }
   },
   "outputs": [],
   "source": [
    "\n",
    "from furnace.semantic_scholar_paper import *\n",
    "\n",
    "from furnace.crossref_paper import *\n",
    "import shelve\n",
    "import requests\n",
    "from bs4 import BeautifulSoup\n",
    "import Levenshtein\n",
    "# url = f\"{self.S2_QUERY_URL}?query={self.ref_obj}&fieldsOfStudy=Computer Science&fields=url,title,abstract,authors,venue,externalIds,referenceCount,tldr,openAccessPdf,citationCount,influentialCitationCount,influentialCitationCount,fieldsOfStudy,s2FieldsOfStudy,publicationTypes,publicationDate,publicationVenue&offset=0&limit=1\"\n",
    "\n",
    "\n",
    "# response = reply.json()\n",
    "import re\n",
    "import Levenshtein\n",
    "\n",
    "def is_same_person(name1, name2, threshold=2):\n",
    "    # 分割名字\n",
    "    name1_parts = re.findall(r'\\b\\w+\\b', name1)\n",
    "    name2_parts = re.findall(r'\\b\\w+\\b', name2)\n",
    "\n",
    "    # 排序名字\n",
    "    sorted_name1 = \" \".join(sorted(name1_parts))\n",
    "    sorted_name2 = \" \".join(sorted(name2_parts))\n",
    "\n",
    "    # 计算编辑距离\n",
    "    normalized_distance = Levenshtein.distance(sorted_name1, sorted_name2)\n",
    "\n",
    "    if normalized_distance <= threshold:\n",
    "        # print('direct')\n",
    "        return True\n",
    "    else:\n",
    "        # 判断是否为缩写名字\n",
    "        if name1.split(' ')[-1] in name2.split(' '):\n",
    "            initials1 = ''.join(word[0] for word in name1_parts)\n",
    "            initials2 = ''.join(word[0] for word in name2_parts)\n",
    "            # print(initials2)\n",
    "            if initials1 == initials2:\n",
    "                    return True\n",
    "\n",
    "        return False\n",
    "def get_IAPR_fellows():\n",
    "    url = \"https://iapr.org/fellows/chronological-list-of-iapr-fellows/\"\n",
    "    \n",
    "    with shelve.open('.Famous') as cache:\n",
    "        if url in cache:\n",
    "            reply = cache[url]\n",
    "        else:\n",
    "            reply = requests.get(url)\n",
    "            cache[url] = reply\n",
    "    content = reply.content\n",
    "    \n",
    "    # 使用 BeautifulSoup 解析网页内容\n",
    "    soup = BeautifulSoup(content, 'html.parser')\n",
    "    \n",
    "    # 查找包含所需内容的 <div> 标签\n",
    "    div_tag = soup.find(\"div\", class_=\"entry-content\")\n",
    "    \n",
    "    # 在特定的 <div> 中查找所需的内容\n",
    "    fellow_names = []\n",
    "    strong_tags = div_tag.find_all(\"strong\")\n",
    "    for strong_tag in strong_tags:\n",
    "        fellow_name = strong_tag.text.strip()\n",
    "        fellow_names.append(fellow_name)\n",
    "    \n",
    "    return fellow_names\n",
    "def get_ACM_fellows():\n",
    "    from selenium import webdriver\n",
    "    from selenium.webdriver.chrome.service import Service\n",
    "    from selenium.webdriver.common.by import By\n",
    "    from selenium.webdriver.chrome.options import Options\n",
    "    \n",
    "    # 设置 ChromeDriver 的路径\n",
    "    webdriver_service = Service(r\"C:\\Users\\Ocean\\Downloads\\chromedriver-win64\\chromedriver.exe\")\n",
    "    \n",
    "    # 设置 ChromeOptions\n",
    "    chrome_options = Options()\n",
    "    chrome_options.add_argument(\"--headless\")  # 无头模式，不显示浏览器界面\n",
    "    \n",
    "    # 创建 Chrome 浏览器实例\n",
    "    driver = webdriver.Chrome(service=webdriver_service, options=chrome_options)\n",
    "    \n",
    "    url = \"https://awards.acm.org/fellows/award-recipients\"  # 请将URL_OF_THE_PAGE替换为实际的页面URL\n",
    "    \n",
    "    # 访问网页\n",
    "    driver.get(url)\n",
    "    \n",
    "    # 等待页面加载完成，可以根据实际情况调整等待时间\n",
    "    driver.implicitly_wait(5)\n",
    "    \n",
    "    # 获取完整页面内容\n",
    "    content = driver.page_source\n",
    "    \n",
    "    # 关闭浏览器\n",
    "    driver.quit()\n",
    "    \n",
    "    # 使用 BeautifulSoup 解析网页内容\n",
    "    soup = BeautifulSoup(content, 'html.parser')\n",
    "    \n",
    "    table = soup.find(\"table\", {\"role\": \"rowgroup\", \"class\": \"awards-tables--fullWidth awards-tables\"})\n",
    "    # print(table)\n",
    "    # 遍历每一行并提取姓名\n",
    "    names = []\n",
    "    if table:\n",
    "        # 查找表格中的每一行\n",
    "        rows = table.find_all(\"tr\")\n",
    "    \n",
    "        for row in rows:\n",
    "            # 查找包含姓名的单元格\n",
    "            name_cell = row.find(\"td\")\n",
    "            if name_cell:\n",
    "                # 提取姓名文本并替换特殊字符\n",
    "                name_text = name_cell.get_text().replace(\"\\xa0\", \" \")\n",
    "                names.append(name_text.strip())\n",
    "    fellows = []\n",
    "    # 打印提取的姓名列表\n",
    "    for name in names:\n",
    "        name_parts = name.split(\", \")\n",
    "        rearranged_name = \" \".join(name_parts[::-1])\n",
    "        # print(rearranged_name)\n",
    "        fellows.append(rearranged_name)\n",
    "    return fellows\n",
    "\n",
    "import requests\n",
    "from bs4 import BeautifulSoup\n",
    "import time\n",
    "\n",
    "def fetch(url):\n",
    "    # d = BeautifulSoup(open(url,encoding='utf-8'),features='html.parser')\n",
    "    headers = {\n",
    "        'User-Agent': 'Mozilla/5.0 (Windows NT 6.1; rv:26.0) Gecko/20100101 Firefox/26.0',\n",
    "        'Cookie': 'GSP=CF=4'\n",
    "    }\n",
    "    while True:\n",
    "        try:\n",
    "            with shelve.open('.Famous') as cache:\n",
    "                if url in cache:\n",
    "                    # print(True)\n",
    "                    resp= cache[url]\n",
    "                else:\n",
    "                    resp = requests.get(url, headers=headers)\n",
    "                    cache[url] = resp\n",
    "    # content = reply.content\n",
    "            \n",
    "            break\n",
    "        except Exception as e:\n",
    "            print(e)\n",
    "            pass\n",
    "    time.sleep(2)\n",
    "    d = BeautifulSoup(resp.content, \"html.parser\")\n",
    "    main_table = d.find(name=\"table\", attrs={\"class\": \"wikitable\"})\n",
    "    trs = main_table.findAll(name=\"tr\")\n",
    "    fellow_list = []\n",
    "    for tr in trs:\n",
    "        tds = tr.findAll(name=\"td\")\n",
    "        if len(tds) == 3:\n",
    "            fellow_list.append(tds[1].text)\n",
    "    print(url, len(fellow_list))\n",
    "    return fellow_list\n",
    "def fetch_NAS(url):\n",
    "    # d = BeautifulSoup(open(url,encoding='utf-8'),features='html.parser')\n",
    "    headers = {\n",
    "        'User-Agent': 'Mozilla/5.0 (Windows NT 6.1; rv:26.0) Gecko/20100101 Firefox/26.0',\n",
    "        'Cookie': 'GSP=CF=4'\n",
    "    }\n",
    "    while True:\n",
    "        try:\n",
    "            with shelve.open('.Famous') as cache:\n",
    "                if url in cache:\n",
    "                    # print(True)\n",
    "                    resp= cache[url]\n",
    "                else:\n",
    "                    resp = requests.get(url, headers=headers)\n",
    "                    cache[url] = resp\n",
    "    # content = reply.content\n",
    "            \n",
    "            break\n",
    "        except Exception as e:\n",
    "            print(e)\n",
    "            pass\n",
    "    time.sleep(2)\n",
    "    d = BeautifulSoup(resp.content, \"html.parser\")\n",
    "    main_table = d.find(name=\"table\", attrs={\"class\": \"wikitable\"})\n",
    "    trs = main_table.findAll(name=\"tr\")\n",
    "    fellow_list = []\n",
    "    for tr in trs:\n",
    "        tds = tr.findAll(name=\"td\")\n",
    "        if len(tds) == 3:\n",
    "            fellow_list.append(tds[0].text)\n",
    "    print(url, len(fellow_list))\n",
    "    return fellow_list\n",
    "\n",
    "    # print(len(fellow_table))\n",
    "def get_IEEE_fellows():\n",
    "    urls = [\n",
    "    \"https://en.wikipedia.org/wiki/List_of_fellows_of_IEEE_Aerospace_and_Electronic_Systems_Society\",\n",
    "    \"https://en.wikipedia.org/wiki/List_of_fellows_of_IEEE_Broadcast_Technology_Society\",\n",
    "    \"https://en.wikipedia.org/wiki/List_of_fellows_of_IEEE_Circuits_and_Systems_Society\",\n",
    "    \"https://en.wikipedia.org/wiki/List_of_fellows_of_IEEE_Communications_Society\",\n",
    "    \"https://en.wikipedia.org/wiki/List_of_fellows_of_IEEE_Computational_Intelligence_Society\",\n",
    "    \"https://en.wikipedia.org/wiki/List_of_fellows_of_IEEE_Consumer_Electronics_Society\",\n",
    "    \"https://en.wikipedia.org/wiki/List_of_fellows_of_IEEE_Control_Systems_Society\",\n",
    "    \"https://en.wikipedia.org/wiki/List_of_fellows_of_IEEE_Dielectrics_%26_Electrical_Insulation_Society\",\n",
    "    \"https://en.wikipedia.org/wiki/List_of_fellows_of_IEEE_Education_Society\",\n",
    "    \"https://en.wikipedia.org/wiki/List_of_fellows_of_IEEE_Electromagnetic_Compatibility_Society\",\n",
    "    \"https://en.wikipedia.org/wiki/List_of_fellows_of_IEEE_Electron_Devices_Society\",\n",
    "    \"https://en.wikipedia.org/wiki/List_of_fellows_of_IEEE_Engineering_in_Medicine_and_Biology_Society\",\n",
    "    \"https://en.wikipedia.org/wiki/List_of_fellows_of_IEEE_Power_%26_Energy_Society\",\n",
    "    \"https://en.wikipedia.org/wiki/List_of_fellows_of_IEEE_Power_Electronics_Society\"\n",
    "]\n",
    "\n",
    "    fellow_list = []\n",
    "    for url in urls:\n",
    "        fellow_list.extend(fetch(url))\n",
    "    return fellow_list\n",
    "import requests\n",
    "from bs4 import BeautifulSoup\n",
    "def get_NAS_fellows():\n",
    "    urls = [\"https://en.wikipedia.org/wiki/List_of_members_of_the_National_Academy_of_Sciences_(Animal,_nutritional_and_applied_microbial_sciences)\",\"https://en.wikipedia.org/wiki/List_of_members_of_the_National_Academy_of_Sciences_(Anthropology)\",\"https://en.wikipedia.org/wiki/List_of_members_of_the_National_Academy_of_Sciences_(Applied_mathematical_sciences)\",\"https://en.wikipedia.org/wiki/List_of_members_of_the_National_Academy_of_Sciences_(Applied_physical_sciences)\",\"https://en.wikipedia.org/wiki/List_of_members_of_the_National_Academy_of_Sciences_(Astronomy)\",\"https://en.wikipedia.org/wiki/List_of_members_of_the_National_Academy_of_Sciences_(Biochemistry)\",\"https://en.wikipedia.org/wiki/List_of_members_of_the_National_Academy_of_Sciences_(Biophysics_and_computational_biology)\",\"https://en.wikipedia.org/wiki/List_of_members_of_the_National_Academy_of_Sciences_(Cellular_and_developmental_biology)\",\"https://en.wikipedia.org/wiki/List_of_members_of_the_National_Academy_of_Sciences_(Cellular_and_molecular_neuroscience)\",\"https://en.wikipedia.org/wiki/List_of_members_of_the_National_Academy_of_Sciences_(Chemistry)\",\"https://en.wikipedia.org/wiki/List_of_members_of_the_National_Academy_of_Sciences_(Computer_and_information_sciences)\",\"https://en.wikipedia.org/wiki/List_of_members_of_the_National_Academy_of_Sciences_(Economic_sciences)\",\"https://en.wikipedia.org/wiki/List_of_members_of_the_National_Academy_of_Sciences_(Engineering_sciences)\",\"https://en.wikipedia.org/wiki/List_of_members_of_the_National_Academy_of_Sciences_(Environmental_sciences_and_ecology)\",\"https://en.wikipedia.org/wiki/List_of_members_of_the_National_Academy_of_Sciences_(Evolutionary_biology)\",\"https://en.wikipedia.org/wiki/List_of_members_of_the_National_Academy_of_Sciences_(Genetics)\",\"https://en.wikipedia.org/wiki/List_of_members_of_the_National_Academy_of_Sciences_(Geology)\",\"https://en.wikipedia.org/wiki/List_of_members_of_the_National_Academy_of_Sciences_(Human_environmental_sciences)\",\"https://en.wikipedia.org/wiki/List_of_members_of_the_National_Academy_of_Sciences_(Immunology)\",\"https://en.wikipedia.org/wiki/List_of_members_of_the_National_Academy_of_Sciences_(Mathematics)\",\"https://en.wikipedia.org/wiki/List_of_members_of_the_National_Academy_of_Sciences_(Medical_genetics,_hematology,_and_oncology)\",\"https://en.wikipedia.org/wiki/List_of_members_of_the_National_Academy_of_Sciences_(Medical_physiology_and_metabolism)\",\"https://en.wikipedia.org/wiki/List_of_members_of_the_National_Academy_of_Sciences_(Microbial_biology)\",\"https://en.wikipedia.org/wiki/List_of_members_of_the_National_Academy_of_Sciences_(Physics)\",\"https://en.wikipedia.org/wiki/List_of_members_of_the_National_Academy_of_Sciences_(Physiology_and_pharmacology)\",\"https://en.wikipedia.org/wiki/List_of_members_of_the_National_Academy_of_Sciences_(Plant_biology)\",\"https://en.wikipedia.org/wiki/List_of_members_of_the_National_Academy_of_Sciences_(Plant,_soil,_and_microbial_sciences)\",\"https://en.wikipedia.org/wiki/List_of_members_of_the_National_Academy_of_Sciences_(Psychology)\",\"https://en.wikipedia.org/wiki/List_of_members_of_the_National_Academy_of_Sciences_(Social_and_political_sciences)\",\"https://en.wikipedia.org/wiki/List_of_members_of_the_National_Academy_of_Sciences_(Systems_neuroscience)\",\"https://en.wikipedia.org/wiki/List_of_members_of_the_National_Academy_of_Sciences_(Animal,_nutritional_and_applied_microbial_sciences)\",\"https://en.wikipedia.org/wiki/List_of_members_of_the_National_Academy_of_Sciences_(Anthropology)\"]\n",
    "    fellow_list = []\n",
    "    for url in urls:\n",
    "        fellow_list.extend(fetch_NAS(url))\n",
    "    return fellow_list\n",
    "\n",
    "def get_CAS_fellows():\n",
    "    url = \"https://en.wikipedia.org/wiki/List_of_members_of_the_Chinese_Academy_of_Sciences\"  # 替换为实际的网页URL\n",
    "    with shelve.open('.Famous') as cache:\n",
    "        if url in cache:\n",
    "            response = cache[url]\n",
    "        else:\n",
    "            response = requests.get(url)\n",
    "            cache[url] = response\n",
    "\n",
    "    soup = BeautifulSoup(response.text, \"html.parser\")\n",
    "    fellows_list = []\n",
    "\n",
    "    div_elements = soup.find_all(\"div\", class_=\"div-col\")\n",
    "    for div in div_elements:\n",
    "        li_elements = div.find_all(\"li\")\n",
    "        for li in li_elements:\n",
    "            name = li.text.strip()\n",
    "            fellows_list.append(name)\n",
    "\n",
    "    return fellows_list\n",
    "def get_EASC_fellows():\n",
    "    url = \"https://en.wikipedia.org/wiki/List_of_members_of_the_European_Academy_of_Sciences_and_Arts\"  # 请将URL_OF_THE_PAGE替换为实际的页面URL\n",
    "    \n",
    "    with shelve.open('.Famous') as cache:\n",
    "        if url in cache:\n",
    "            response = cache[url]\n",
    "        else:\n",
    "            response = requests.get(url)\n",
    "            cache[url] = response\n",
    "    content = response.content\n",
    "    \n",
    "    # 使用 BeautifulSoup 解析网页内容\n",
    "    soup = BeautifulSoup(content, 'html.parser')\n",
    "    \n",
    "    # 查找指定的 <div> 标签\n",
    "    div = soup.find(\"div\", class_=\"hlist nowraplinks\")\n",
    "    \n",
    "    # 查找 <div> 内部的所有 <li> 标签\n",
    "    li_tags = div.find_all(\"li\")\n",
    "    \n",
    "    # 存储名字的列表\n",
    "    names_list = []\n",
    "    \n",
    "    # 提取每个 <li> 标签中的文本内容（名字）并添加到列表中\n",
    "    for li in li_tags:\n",
    "        name = li.text.strip()  # 获取文本内容并去除首尾空白字符\n",
    "        names_list.append(name)\n",
    "    return names_list\n",
    "def get_CAS_fellows():\n",
    "    url = \"https://en.wikipedia.org/wiki/List_of_members_of_the_Chinese_Academy_of_Sciences\"  # 替换为实际的网页URL\n",
    "    with shelve.open('.Famous') as cache:\n",
    "        if url in cache:\n",
    "            response = cache[url]\n",
    "        else:\n",
    "            response = requests.get(url)\n",
    "            cache[url] = response\n",
    "    soup = BeautifulSoup(response.text, \"html.parser\")\n",
    "    fellows_list = []\n",
    "\n",
    "    div_elements = soup.find_all(\"div\", class_=\"div-col\")\n",
    "    for div in div_elements:\n",
    "        li_elements = div.find_all(\"li\")\n",
    "        for li in li_elements:\n",
    "            name = li.text.strip()\n",
    "            fellows_list.append(name)\n",
    "\n",
    "    return fellows_list\n",
    "def get_CAE_fellows():\n",
    "    url = \"https://en.wikipedia.org/wiki/List_of_members_of_the_Chinese_Academy_of_Engineering\"  # 替换为实际的网页URL\n",
    "    with shelve.open('.Famous') as cache:\n",
    "        if url in cache:\n",
    "            response = cache[url]\n",
    "        else:\n",
    "            response = requests.get(url)\n",
    "            cache[url] = response\n",
    "    soup = BeautifulSoup(response.text, \"html.parser\")\n",
    "    fellows_list = []\n",
    "\n",
    "    div_elements = soup.find_all(\"div\", class_=\"div-col\")\n",
    "    for div in div_elements:\n",
    "        li_elements = div.find_all(\"li\")\n",
    "        for li in li_elements:\n",
    "            name = li.text.strip()\n",
    "            fellows_list.append(name)\n",
    "\n",
    "    return fellows_list\n",
    "def get_SPIE_fellows():\n",
    "    from selenium import webdriver\n",
    "    from selenium.webdriver.chrome.service import Service\n",
    "    from selenium.webdriver.common.by import By\n",
    "    from selenium.webdriver.chrome.options import Options\n",
    "    \n",
    "    # 设置 ChromeDriver 的路径\n",
    "    webdriver_service = Service(r\"C:\\Users\\Ocean\\Downloads\\chromedriver-win64\\chromedriver.exe\")\n",
    "    \n",
    "    # 设置 ChromeOptions\n",
    "    chrome_options = Options()\n",
    "    chrome_options.add_argument(\"--headless\")  # 无头模式，不显示浏览器界面\n",
    "    \n",
    "    # 创建 Chrome 浏览器实例\n",
    "    driver = webdriver.Chrome(service=webdriver_service, options=chrome_options)\n",
    "    \n",
    "    url = \"https://spie.org/membership/member-recognition/spie-fellows/complete-list-of-spie-fellows\"  # 请将URL_OF_THE_PAGE替换为实际的页面URL\n",
    "    \n",
    "    # 访问网页\n",
    "    driver.get(url)\n",
    "    \n",
    "    # 等待页面加载完成，可以根据实际情况调整等待时间\n",
    "    driver.implicitly_wait(5)\n",
    "    \n",
    "    # 获取完整页面内容\n",
    "    content = driver.page_source\n",
    "    \n",
    "    # 关闭浏览器\n",
    "    driver.quit()\n",
    "    \n",
    "    # 使用 BeautifulSoup 解析网页内容\n",
    "    soup = BeautifulSoup(content, 'html.parser')\n",
    "\n",
    "    divs = soup.find_all('div', class_='row filteredListRow')\n",
    "    fellow_lst = []\n",
    "    for div in divs:\n",
    "        name_div = div.find('div', class_='col-12 col-sm-4 subtitle2')\n",
    "        name = re.sub(r',', '', name_div.text.strip())\n",
    "        fellow_lst.append(name)\n",
    "    return fellow_lst\n",
    "\n"
   ]
  },
  {
   "cell_type": "code",
   "execution_count": 57,
   "outputs": [
    {
     "name": "stdout",
     "output_type": "stream",
     "text": [
      "timed out\n",
      "timed out\n",
      "[WinError 10061] 由于目标计算机积极拒绝，无法连接。\n",
      "[WinError 10061] 由于目标计算机积极拒绝，无法连接。\n",
      "https://en.wikipedia.org/wiki/List_of_fellows_of_IEEE_Aerospace_and_Electronic_Systems_Society 159\n",
      "https://en.wikipedia.org/wiki/List_of_fellows_of_IEEE_Broadcast_Technology_Society 42\n",
      "https://en.wikipedia.org/wiki/List_of_fellows_of_IEEE_Circuits_and_Systems_Society 427\n",
      "https://en.wikipedia.org/wiki/List_of_fellows_of_IEEE_Communications_Society 694\n",
      "https://en.wikipedia.org/wiki/List_of_fellows_of_IEEE_Computational_Intelligence_Society 185\n",
      "https://en.wikipedia.org/wiki/List_of_fellows_of_IEEE_Consumer_Electronics_Society 68\n",
      "https://en.wikipedia.org/wiki/List_of_fellows_of_IEEE_Control_Systems_Society 381\n",
      "https://en.wikipedia.org/wiki/List_of_fellows_of_IEEE_Dielectrics_%26_Electrical_Insulation_Society 75\n",
      "https://en.wikipedia.org/wiki/List_of_fellows_of_IEEE_Education_Society 132\n",
      "https://en.wikipedia.org/wiki/List_of_fellows_of_IEEE_Electromagnetic_Compatibility_Society 105\n",
      "https://en.wikipedia.org/wiki/List_of_fellows_of_IEEE_Electron_Devices_Society 562\n",
      "https://en.wikipedia.org/wiki/List_of_fellows_of_IEEE_Engineering_in_Medicine_and_Biology_Society 267\n",
      "https://en.wikipedia.org/wiki/List_of_fellows_of_IEEE_Power_%26_Energy_Society 77\n",
      "https://en.wikipedia.org/wiki/List_of_fellows_of_IEEE_Power_Electronics_Society 80\n",
      "timed out\n",
      "timed out\n",
      "[WinError 10061] 由于目标计算机积极拒绝，无法连接。\n",
      "[WinError 10061] 由于目标计算机积极拒绝，无法连接。\n"
     ]
    }
   ],
   "source": [
    "easc = get_EASC_fellows()\n",
    "acm = get_ACM_fellows()\n",
    "ieee= get_IEEE_fellows()\n",
    "iapr = get_IAPR_fellows()\n",
    "cas = get_CAS_fellows()\n",
    "cae = get_CAE_fellows()\n",
    "spie = get_SPIE_fellows()\n"
   ],
   "metadata": {
    "collapsed": false,
    "ExecuteTime": {
     "end_time": "2023-12-16T13:46:31.273069200Z",
     "start_time": "2023-12-16T13:45:32.127671100Z"
    }
   },
   "id": "b1bd400662d7a8d2"
  },
  {
   "cell_type": "code",
   "execution_count": 64,
   "outputs": [
    {
     "name": "stdout",
     "output_type": "stream",
     "text": [
      "https://en.wikipedia.org/wiki/List_of_members_of_the_National_Academy_of_Sciences_(Animal,_nutritional_and_applied_microbial_sciences) 58\n",
      "https://en.wikipedia.org/wiki/List_of_members_of_the_National_Academy_of_Sciences_(Anthropology) 82\n",
      "https://en.wikipedia.org/wiki/List_of_members_of_the_National_Academy_of_Sciences_(Applied_mathematical_sciences) 57\n",
      "https://en.wikipedia.org/wiki/List_of_members_of_the_National_Academy_of_Sciences_(Applied_physical_sciences) 97\n",
      "https://en.wikipedia.org/wiki/List_of_members_of_the_National_Academy_of_Sciences_(Astronomy) 125\n",
      "https://en.wikipedia.org/wiki/List_of_members_of_the_National_Academy_of_Sciences_(Biochemistry) 214\n",
      "https://en.wikipedia.org/wiki/List_of_members_of_the_National_Academy_of_Sciences_(Biophysics_and_computational_biology) 97\n",
      "https://en.wikipedia.org/wiki/List_of_members_of_the_National_Academy_of_Sciences_(Cellular_and_developmental_biology) 130\n",
      "https://en.wikipedia.org/wiki/List_of_members_of_the_National_Academy_of_Sciences_(Cellular_and_molecular_neuroscience) 65\n",
      "https://en.wikipedia.org/wiki/List_of_members_of_the_National_Academy_of_Sciences_(Chemistry) 226\n",
      "https://en.wikipedia.org/wiki/List_of_members_of_the_National_Academy_of_Sciences_(Computer_and_information_sciences) 55\n",
      "https://en.wikipedia.org/wiki/List_of_members_of_the_National_Academy_of_Sciences_(Economic_sciences) 66\n",
      "https://en.wikipedia.org/wiki/List_of_members_of_the_National_Academy_of_Sciences_(Engineering_sciences) 87\n",
      "https://en.wikipedia.org/wiki/List_of_members_of_the_National_Academy_of_Sciences_(Environmental_sciences_and_ecology) 107\n",
      "https://en.wikipedia.org/wiki/List_of_members_of_the_National_Academy_of_Sciences_(Evolutionary_biology) 47\n",
      "https://en.wikipedia.org/wiki/List_of_members_of_the_National_Academy_of_Sciences_(Genetics) 139\n",
      "https://en.wikipedia.org/wiki/List_of_members_of_the_National_Academy_of_Sciences_(Geology) 90\n",
      "https://en.wikipedia.org/wiki/List_of_members_of_the_National_Academy_of_Sciences_(Human_environmental_sciences) 43\n",
      "https://en.wikipedia.org/wiki/List_of_members_of_the_National_Academy_of_Sciences_(Immunology) 153\n",
      "https://en.wikipedia.org/wiki/List_of_members_of_the_National_Academy_of_Sciences_(Mathematics) 0\n",
      "https://en.wikipedia.org/wiki/List_of_members_of_the_National_Academy_of_Sciences_(Medical_genetics,_hematology,_and_oncology) 137\n",
      "https://en.wikipedia.org/wiki/List_of_members_of_the_National_Academy_of_Sciences_(Medical_physiology_and_metabolism) 94\n",
      "https://en.wikipedia.org/wiki/List_of_members_of_the_National_Academy_of_Sciences_(Microbial_biology) 103\n",
      "https://en.wikipedia.org/wiki/List_of_members_of_the_National_Academy_of_Sciences_(Physics) 200\n",
      "https://en.wikipedia.org/wiki/List_of_members_of_the_National_Academy_of_Sciences_(Physiology_and_pharmacology) 60\n",
      "https://en.wikipedia.org/wiki/List_of_members_of_the_National_Academy_of_Sciences_(Plant_biology) 71\n",
      "https://en.wikipedia.org/wiki/List_of_members_of_the_National_Academy_of_Sciences_(Plant,_soil,_and_microbial_sciences) 68\n",
      "https://en.wikipedia.org/wiki/List_of_members_of_the_National_Academy_of_Sciences_(Psychology) 106\n",
      "https://en.wikipedia.org/wiki/List_of_members_of_the_National_Academy_of_Sciences_(Social_and_political_sciences) 60\n",
      "https://en.wikipedia.org/wiki/List_of_members_of_the_National_Academy_of_Sciences_(Systems_neuroscience) 56\n",
      "https://en.wikipedia.org/wiki/List_of_members_of_the_National_Academy_of_Sciences_(Animal,_nutritional_and_applied_microbial_sciences) 58\n",
      "https://en.wikipedia.org/wiki/List_of_members_of_the_National_Academy_of_Sciences_(Anthropology) 82\n"
     ]
    }
   ],
   "source": [
    "nas = get_NAS_fellows()"
   ],
   "metadata": {
    "collapsed": false,
    "ExecuteTime": {
     "end_time": "2023-12-16T14:20:40.207155700Z",
     "start_time": "2023-12-16T14:19:34.904494900Z"
    }
   },
   "id": "6020023c2084c226"
  },
  {
   "cell_type": "code",
   "execution_count": 65,
   "outputs": [],
   "source": [
    "def get_the_title_of(name,**kwargs):\n",
    "    total_title = ''\n",
    "    for title, famous in kwargs.items():\n",
    "        for famous_name in famous:\n",
    "            if is_same_person(name,famous_name,0.9):\n",
    "                # print(title)\n",
    "                total_title+=(f'{title.upper()}-({famous_name}) || ')\n",
    "    return total_title\n"
   ],
   "metadata": {
    "collapsed": false,
    "ExecuteTime": {
     "end_time": "2023-12-16T14:20:40.209841Z",
     "start_time": "2023-12-16T14:20:40.206155500Z"
    }
   },
   "id": "fa757f2810426596"
  },
  {
   "cell_type": "code",
   "execution_count": 68,
   "outputs": [
    {
     "name": "stderr",
     "output_type": "stream",
     "text": [
      "  9%|▉         | 125/1334 [00:58<11:38,  1.73it/s]"
     ]
    },
    {
     "name": "stdout",
     "output_type": "stream",
     "text": [
      "{'message': 'Network error communicating with endpoint'}\n"
     ]
    },
    {
     "name": "stderr",
     "output_type": "stream",
     "text": [
      " 59%|█████▉    | 788/1334 [07:16<04:27,  2.04it/s]"
     ]
    },
    {
     "name": "stdout",
     "output_type": "stream",
     "text": [
      "[None]\n"
     ]
    },
    {
     "name": "stderr",
     "output_type": "stream",
     "text": [
      " 71%|███████▏  | 952/1334 [08:26<02:20,  2.71it/s]"
     ]
    },
    {
     "name": "stdout",
     "output_type": "stream",
     "text": [
      "{'message': 'Network error communicating with endpoint'}\n"
     ]
    },
    {
     "name": "stderr",
     "output_type": "stream",
     "text": [
      "100%|██████████| 1334/1334 [11:29<00:00,  1.94it/s]\n"
     ]
    }
   ],
   "source": [
    "# print(fellow_list)\n",
    "s2paper = S2paper('Selective Kernel Networks')\n",
    "s2paper.authors\n",
    "s2paper.citations_detail\n",
    "len(s2paper.citations_detail)\n",
    "citing_authors = []\n",
    "from tqdm import tqdm\n",
    "import csv\n",
    "citing_authors = []\n",
    "from tqdm import tqdm\n",
    "csv_file_pth = r'../metrics/authors.csv'\n",
    "with open(csv_file_pth, 'w', newline='',encoding='utf-8') as csvfile:\n",
    "    writer = csv.writer(csvfile)\n",
    "    Title = [\"Title\",\"Venue\",\"Paper Citation\",\"Name\",\"H-Index\",\"Published Paper Count\",\"Received Citation Count\",\"Possible Title\"]\n",
    "            # print(data)\n",
    "    writer.writerow(Title)\n",
    "    for citing_paper in tqdm(s2paper.citations_detail):\n",
    "        for i in range(len(citing_paper.authors)):\n",
    "            s2author  = citing_paper.authors[i]\n",
    "            title = get_the_title_of(s2author.name,easc=easc,acm=acm,ieee=ieee,iapr=iapr,cas=cas,cae=cae,spie=spie,nas=nas)\n",
    "            # if title!='':\n",
    "            #     print(title)\n",
    "            data = [citing_paper.title,citing_paper.publication_source,citing_paper.citation_count,s2author.name,s2author.h_index,s2author.paper_count,s2author.citation_count,title]\n",
    "            # print(data)\n",
    "            writer.writerow(data)\n",
    "            citing_authors.append(data)"
   ],
   "metadata": {
    "collapsed": false,
    "ExecuteTime": {
     "end_time": "2023-12-16T14:51:04.499406700Z",
     "start_time": "2023-12-16T14:39:35.231787800Z"
    }
   },
   "id": "98c282bda711547f"
  },
  {
   "cell_type": "code",
   "execution_count": 34,
   "outputs": [
    {
     "data": {
      "text/plain": "'IAPR-(Tieniu Tan) || CAS-(Tan Tieniu) || '"
     },
     "execution_count": 34,
     "metadata": {},
     "output_type": "execute_result"
    }
   ],
   "source": [
    "get_the_title_of('Tieniu Tan',easc=easc,acm=acm,ieee=ieee,iapr=iapr,cas=cas,cae=cae,spie=spie)"
   ],
   "metadata": {
    "collapsed": false,
    "ExecuteTime": {
     "end_time": "2023-12-16T11:22:31.292421600Z",
     "start_time": "2023-12-16T11:22:31.271975500Z"
    }
   },
   "id": "4cdb853f9adb2844"
  },
  {
   "cell_type": "code",
   "execution_count": 3,
   "outputs": [
    {
     "data": {
      "text/plain": "[{\"CACHE_FILE\": \"C:\\\\Users\\\\Ocean\\\\Documents\\\\GitHub\\\\Dynamic_Literature_Review\\\\CACHE\\\\.authorsCache\", \"name\": \"Xiang Li\", \"_s2_id\": \"2144439048\", \"_s2_url\": \"https://www.semanticscholar.org/author/2144439048\", \"_h_index\": 21, \"_citationCount\": 4757, \"_paperCount\": 57},\n {\"CACHE_FILE\": \"C:\\\\Users\\\\Ocean\\\\Documents\\\\GitHub\\\\Dynamic_Literature_Review\\\\CACHE\\\\.authorsCache\", \"name\": \"Wenhai Wang\", \"_s2_id\": \"71074736\", \"_s2_url\": \"https://www.semanticscholar.org/author/71074736\", \"_h_index\": 27, \"_citationCount\": 9822, \"_paperCount\": 62},\n {\"CACHE_FILE\": \"C:\\\\Users\\\\Ocean\\\\Documents\\\\GitHub\\\\Dynamic_Literature_Review\\\\CACHE\\\\.authorsCache\", \"name\": \"Xiaolin Hu\", \"_s2_id\": \"2109753669\", \"_s2_url\": \"https://www.semanticscholar.org/author/2109753669\", \"_h_index\": 44, \"_citationCount\": 12274, \"_paperCount\": 141},\n {\"CACHE_FILE\": \"C:\\\\Users\\\\Ocean\\\\Documents\\\\GitHub\\\\Dynamic_Literature_Review\\\\CACHE\\\\.authorsCache\", \"name\": \"Jian Yang\", \"_s2_id\": \"51460259\", \"_s2_url\": \"https://www.semanticscholar.org/author/51460259\", \"_h_index\": 63, \"_citationCount\": 19612, \"_paperCount\": 441}]"
     },
     "execution_count": 3,
     "metadata": {},
     "output_type": "execute_result"
    }
   ],
   "source": [],
   "metadata": {
    "collapsed": false,
    "ExecuteTime": {
     "end_time": "2023-12-16T08:06:55.998182200Z",
     "start_time": "2023-12-16T08:06:55.950836400Z"
    }
   },
   "id": "4c6559610b9024a4"
  },
  {
   "cell_type": "code",
   "execution_count": 4,
   "outputs": [
    {
     "data": {
      "text/plain": "'fb8cf663a71bf31f59557a35d36aaf8c465b50af'"
     },
     "execution_count": 4,
     "metadata": {},
     "output_type": "execute_result"
    }
   ],
   "source": [],
   "metadata": {
    "collapsed": false,
    "ExecuteTime": {
     "end_time": "2023-12-16T08:06:55.998182200Z",
     "start_time": "2023-12-16T08:06:55.994907900Z"
    }
   },
   "id": "9ff7a4ff47740280"
  },
  {
   "cell_type": "code",
   "execution_count": 5,
   "outputs": [
    {
     "data": {
      "text/plain": "[a study on attention-based fine-grained image recognition: towards musical instrument performing hand shape assessment\t,\n defect detection of microled with low distinction based on deep learning\t,\n multi-level attention network: mixed time–frequency channel attention and multi-scale self-attentive standard deviation pooling for speaker recognition\t,\n pin-casnet: detecting pin status in transmission lines based on cascade network\t,\n the counterattack of cnns in self-supervised learning: larger kernel size might be all you need\t,\n a multi-scale information integration framework for infrared and visible image fusion\t,\n towards open-set gesture recognition via feature activation enhancement and orthogonal prototype learning\t,\n enhancing pedestrian target recognition in open community multi-scene spaces using the yolo-stp network\t,\n an image deblurring method using improved u-net model based on multilayer fusion and attention mechanism\t,\n channel attention for sensor-based activity recognition: embedding features into all frequencies in dct domain\t,\n sar-atr with knowledge hierarchy division and information dissemination networks\t,\n hsh-unet: hybrid selective high order interactive u-shaped model for automated skin lesion segmentation.\t,\n enhanced face morphing attack detection using error-level analysis and efficient selective kernel network\t,\n sga-net: a sparse graph attention network for two-view correspondence learning\t,\n a real-time application-oriented cyber-physical systems for surface defects detection\t,\n dm-cnn: dynamic multi-scale convolutional neural network with uncertainty quantification for medical image classification.\t,\n small and dim target detection in ir imagery: a review\t,\n utilizing multiple inputs autoregressive models for bearing remaining useful life prediction\t,\n multi-channel representation learning enhanced unfolding multi-scale compressed sensing network for high quality image reconstruction\t,\n innovative horizons in aerial imagery: lsknet meets diffusiondet for advanced object detection\t,\n forward collision warning strategy based on millimeter-wave radar and visual fusion\t,\n multimodal deep learning for mapping forest dominant height by fusing gedi with earth observation data\t,\n a novel lightweight object detection network with attention modules and hierarchical feature pyramid\t,\n application of a dense fusion attention network in fault diagnosis of centrifugal fan\t,\n a comparative study of knowledge transfer methods for misaligned urban building labels\t,\n a classification method for soybean leaf diseases based on an improved convnext model\t,\n multi-scale local intensity and gradient networks for infrared small target detection\t,\n a position-aware attention network with progressive detailing for land use semantic segmentation of remote sensing images\t,\n multimodal hate speech detection via multi-scale visual kernels and knowledge distillation architecture\t,\n multi-scale feature fusion and transformer network for urban green space segmentation from high-resolution remote sensing images\t,\n lightweight multiattention recursive residual cnn-based in-loop filter driven by neuron diversity\t,\n mwa-mnn: multi-patch wavelet attention memristive neural network for image restoration\t,\n frequency-guidance collaborative triple-branch network for single image dehazing\t,\n spatiotemporal convolution sleep network based on graph attention mechanism with automatic feature extraction.\t,\n atmospheric turbulence aberration correction based on deep learning wavefront sensing\t,\n predicting sequenced dental treatment plans from electronic dental records using deep learning\t,\n deep learning-powered beamforming for 5g massive mimo systems\t,\n a lightweight speaker verification model for edge device\t,\n regression-based sound event detection with semi-supervised learning\t,\n skeletal spatial-temporal semantics guided homogeneous-heterogeneous multimodal network for action recognition\t,\n exploring the knowledge transferred by response-based teacher-student distillation\t,\n dynamic view synthesis with spatio-temporal feature warping from sparse views\t,\n towards flexible and universal: a novel endpoint-based framework for vessel structural information extraction\t,\n point cloud part segmentation combined with adaptive sampling and channel attention mechanism\t,\n polarization image defogging based on detail recovery generative adversarial network\t,\n refconv: re-parameterized refocusing convolution for powerful convnets\t,\n deep learning enabled semantic communication systems for video transmission\t,\n bidirectional knowledge reconfiguration for lightweight point cloud analysis\t,\n low-resolution self-attention for semantic segmentation\t,\n clep: contrastive learning for epileptic seizure prediction using a spatio-temporal-spectral network\t,\n semantic segmentation of remote sensing images combined with attention mechanism and feature enhancement u-net\t,\n bayesian large-kernel attention network for bearing remaining useful life prediction and uncertainty quantification\t,\n automated building layout generation using deep learning and graph algorithms\t,\n rga-net: an effective deep learning method combined with an electronic nose system to identify the pork quality\t,\n skgnet: robotic grasp detection with selective kernel convolution\t,\n mlp-based efficient convolutional neural network for lane detection\t,\n duala-net: a generalizable and adaptive network with dual-branch encoder for medical image segmentation\t,\n arirtn: a novel learning-based estimation model for regressing illumination\t,\n bl-yolov8: an improved road defect detection model based on yolov8\t,\n optimized convolutional fusion for multimodal neuroimaging in alzheimer’s disease diagnosis: enhancing data integration and feature extraction\t,\n lightweight detection network based on receptive-field feature enhancement convolution and three dimensions attention for images captured by uavs\t,\n study on autonomous ship enhancement by optimizing the object detecting algorithms\t,\n dskca-unet: dynamic selective kernel channel attention for medical image segmentation\t,\n adaptive receptive field based on multi-size convolution kernel for micro-defect detection of turbine blades\t,\n idaf: iterative dual-scale attentional fusion network for automatic modulation recognition\t,\n physics inspired hybrid attention for sar target recognition\t,\n improved yolov5-based for small traffic sign detection under complex weather\t,\n mfd-net: modality fusion diffractive network for segmentation of multimodal brain tumor image\t,\n secp-net: se-connection pyramid network for segmentation of organs at risk with nasopharyngeal carcinoma\t,\n cmnet: a novel model and design rationale based on comparison studies and synergy of cnn and metaformer\t,\n hierarchical interactive multi-granularity co-attention embedding to improve the small infrared target detection\t,\n multi-dimension queried and interacting network for stereo image deraining\t,\n edge based oriented object detection\t,\n fse-net: feature selection and enhancement network for mammogram classification\t,\n video super-resolution with multi-level attention\t,\n remote sensing object detection meets deep learning: a meta-review of challenges and advances\t,\n smit: symmetric mask transformer for disease severity detection\t,\n selective kernel fusion complex-valued cnn for modulation recognition\t,\n enhancing cardiac mri segmentation via classifier-guided two-stage network and all-slice information fusion transformer\t,\n large separable kernel attention: rethinking the large kernel attention design in cnn\t,\n spatial-temporal attention network for depression recognition from facial videos\t,\n ssck-net: spine segmentation in mri based on cross attention and key-points recognition-assisted learner\t,\n itf-wpi: image and text based cross-modal feature fusion model for wolfberry pest recognition\t,\n rignet++: efficient repetitive image guided network for depth completion\t,\n dear-gan: degradation-aware face restoration with gan prior\t,\n active jamming mitigation for short-range detection system\t,\n efficient dehazing with recursive gated convolution in u-net: a novel approach for image dehazing\t,\n 一种基于faster r-cnn的甲状腺结节超声图像目标检测改进算法\t,\n low-light image enhancement via adaptive frequency decomposition network\t,\n ms-net: a multi-modal self-supervised network for fine-grained classification of aircraft in sar images\t,\n pointhps: cascaded 3d human pose and shape estimation from point clouds\t,\n spectral segmentation multi-scale feature extraction residual networks for hyperspectral image classification\t,\n computation-efficient deep learning for computer vision: a survey\t,\n development of effective model for non-destructive detection of defective kiwifruit based on graded lines\t,\n low-light image enhancement method for electric power operation sites considering strong light suppression\t,\n smoking behavior detection algorithm based on yolov8-mnc\t,\n lung sound recognition method based on multi-resolution interleaved net and time-frequency feature enhancement\t,\n swinv2dnet: pyramid and self-supervision compounded feature learning for remote sensing images change detection\t,\n maf-net: multidimensional attention fusion network for multichannel speech separation\t,\n an investigation on hardware-aware vision transformer scaling\t,\n patch is not all you need\t,\n stable speech emotion recognition with head-k-pooling loss\t,\n domain adaptive networks with limited data for rotating machinery fault diagnosis: a case of study of gears\t,\n scsc: spatial cross-scale convolution module to strengthen both cnns and transformers\t,\n under-display camera image restoration with scattering effect\t,\n diffcr: a fast conditional diffusion framework for cloud removal from optical satellite images\t,\n towards top-down stereo image quality assessment via stereo attention\t,\n brighten-and-colorize: a decoupled network for customized low-light image enhancement\t,\n icafusion: iterative cross-attention guided feature fusion for multispectral object detection\t,\n pixel-wise detection algorithm for crack structural reconstruction based on rock ct images\t,\n afd-former: a hybrid transformer with asymmetric flow division for synthesized view quality enhancement\t,\n crop mapping based on sentinel-2 images using semantic segmentation model of attention mechanism\t,\n shot boundary detection with 3d depthwise convolutions and visual attention\t,\n structure and sequencing preserving representations for skeleton-based action recognition relying on attention mechanisms\t,\n intrinsic feature extraction for unsupervised domain adaptation\t,\n multi-task segmentation and classification network for artery/vein classification in retina fundus\t,\n feature reweighting for eeg-based motor imagery classification\t,\n 3d reconstruction of buildings based on transformer-mvsnet\t,\n pcnn: a lightweight parallel conformer neural network for efficient monaural speech enhancement\t,\n an attention-based neural network model for automatic partition of abdominal lymph nodes in ct imaging\t,\n image denoising network based on subband information sharing using dual-tree complex wavelet\t,\n exploring the interactions between target positive and negative information for acoustic echo cancellation\t,\n self-attentive channel-connectivity capsule network for eeg-based driving fatigue detection\t,\n adaptst: adaptive fusion-based spatio-temporal networks for urban flow prediction\t,\n a two-stage diagnostic framework for post-ablation treatment response assessment in patients with hepatocellular carcinoma\t,\n gastric polyp detection module based on improved attentional feature fusion\t,\n hierarchical spatio-temporal representation learning for gait recognition\t,\n hatfnet: hierarchical adaptive trident fusion network for rgbt tracking\t,\n dynamic kernel convolution network with scene-dedicate training for sound event localization and detection\t,\n multi-dimensional, multi-functional and multi-level attention in yolo for underwater object detection\t,\n combination of super-resolution reconstruction and sga-net for marsh vegetation mapping using multi-resolution multispectral and hyperspectral images\t,\n latent graph attention for enhanced spatial context\t,\n spin-cgnn: improved fixed backbone protein design with contact map-based graph construction and contact graph neural network\t,\n mdvit: multi-domain vision transformer for small medical image segmentation datasets\t,\n eanet: enhanced attribute-based rgbt tracker network\t,\n isolated word sign language recognition based on improved skresnet-tcn network\t,\n improving coatnet for spatial and jpeg domain steganalysis\t,\n urs: a light-weight segmentation model for train wheelset monitoring\t,\n paip 2020: microsatellite instability prediction in colorectal cancer\t,\n swin-asnet: an adaptive rgb-selection network with swin transformer for retinal vessel segmentation\t,\n cldm: convolutional layer dropout module\t,\n multi-modal medical image classification using deep residual network and genetic algorithm\t,\n a multi-scale dehazing network with dark channel priors\t,\n a 3d self-adjustable organ aware deep network for abdominal segmentation in ct images\t,\n asa-bisenet: improved real-time approach for road lane semantic segmentation of low-light autonomous driving road scenes.\t,\n super-resolution model-based versatile video coding for light field video\t,\n shisrcnet: super-resolution and classification network for low-resolution breast cancer histopathology image\t,\n enhanced meta-transfer learning for few-shot fault diagnosis of bearings with variable conditions\t,\n rxfood: plug-in rgb-x fusion for object of interest detection\t,\n predictive uncertainty estimation for camouflaged object detection\t,\n multi-supervised feature fusion attention network for clouds and shadows detection\t,\n attention-capsule network for low-light image recognition\t,\n csarunet: an attention mechanism-based model for image tampering localization with ringed residual block\t,\n multi-stream ternary enhanced graph convolutional network for skeleton-based action recognition\t,\n zero-shot sketch-based image retrieval with adaptive balanced discriminability and generalizability\t,\n falconnet: factorization for the light-weight convnets\t,\n illumination controllable dehazing network based on unsupervised retinex embedding\t,\n gtmnet: a vision transformer with guided transmission map for single remote sensing image dehazing\t,\n deep triply attention network for rgbt tracking\t,\n nas-dymc: nas-based dynamic multi-scale convolutional neural network for sound event detection\t,\n semi-supervised sound event detection with pre-trained model\t,\n visual image decoding of brain activities using a dual attention hierarchical latent generative network with multiscale feature fusion\t,\n overview of deep learning methods for retinal vessel segmentation\t,\n high-quality multispectral image reconstruction for the spectral camera based on ghost imaging via sparsity constraints using cot-unet\t,\n efficient grasp detection network with gaussian-based grasp representation for robotic manipulation\t,\n msf-net: a lightweight multi-scale feature fusion network for skin lesion segmentation\t,\n dassd-net: a lightweight steel surface defect detection model based on multi-branch dilated convolution aggregation and multi-domain perception detection head\t,\n marrs: modern backbones assisted co-training for rapid and robust semi-supervised domain adaptation\t,\n efficient multi-lens bokeh effect rendering and transformation\t,\n hnssl: hard negative-based self-supervised learning\t,\n scconv: spatial and channel reconstruction convolution for feature redundancy\t,\n cvsnet: a computer implementation for central visual system of the brain\t,\n hybrid domain consistency constraints-based deep neural network for facial expression recognition\t,\n lrfan: a multi-scale large receptive field attention neural network\t,\n an efficient audio-visual speech enhancement network via multi-head attention\t,\n cascade rcnn with hybrid attention and dual pooling for soccer player detection\t,\n two-domain adaptive attention network for tcm auxiliary diagnosis with hand images\t,\n breast tumor classification with attention model enhancement network\t,\n interformer: interactive local and global features fusion for automatic speech recognition\t,\n weakly supervised object detection with pyramid squeeze attention and candidate box screening algorithm\t,\n efficient multi-scale attention module with cross-spatial learning\t,\n unsupervised low-dose ct image denoising using cyclegan with selective spatial pyramid attention\t,\n learning global-aware kernel for image harmonization\t,\n temporal aware mixed attention-based convolution and transformer network (mactn) for eeg emotion recognition\t,\n pmotion: an advanced markerless pose estimation approach based on novel deep learning framework used to reveal neurobehavior\t,\n cbagan-rrt: convolutional block attention generative adversarial network for sampling-based path planning\t,\n blur-asknet: an effective network for remote sensing image classification capturing joint features\t,\n metamorphosis: task-oriented privacy cognizant feature generation for multi-task learning\t,\n rmfnet: redetection multimodal fusion network for rgbt tracking\t,\n mechanisms and applications of attention in medical image segmentation: a review\t,\n em-gaze: eye context correlation and metric learning for gaze estimation\t,\n cta-fpn: channel-target attention feature pyramid network for prohibited object detection in x-ray images\t,\n avatar knowledge distillation: self-ensemble teacher paradigm with uncertainty\t,\n dynamic kernel network for hyperspectral image classification\t,\n heatmap-guided selective feature attention for robust cascaded face alignment\t,\n bridging multi-scale context-aware representation for object detection\t,\n ha-fpn: hierarchical attention feature pyramid network for object detection\t,\n an effective approach based on nonlinear spectrum and improved convolution neural network for analog circuit fault diagnosis.\t,\n improving 3d vulnerable road user detection with point augmentation\t,\n grazing sheep behaviour recognition based on improved yolov5\t,\n re-parameterized global channel interaction attention module for convolutional neural networks\t,\n position-wise gated res2net-based convolutional network with selective fusing for sentiment analysis\t,\n an infrared dim-small target detection method based on improved yolov7\t,\n aanet: adaptive attention network for rolling bearing fault diagnosis under varying loads\t,\n a hybrid multi-scale attention convolution and aging transformer network for alzheimer's disease diagnosis\t,\n all information is necessary: integrating speech positive and negative information by contrastive learning for speech enhancement\t,\n interactive object annotation based on one-click guidance\t,\n fast lane detection based on attention mechanism\t,\n detection of cotton seedling based on improved yolov5\t,\n feature-compatible progressive learning for video copy detection\t,\n application of attention-based siamese composite neural network in medical image recognition\t,\n variational relational point completion network for robust 3d classification\t,\n deep learning enables nonlinear lamb waves for precise location of fatigue crack\t,\n ms-lstm: exploring spatiotemporal multiscale representations in video prediction domain\t,\n segmentation of thyroid glands and nodules in ultrasound images using the improved u-net architecture\t,\n asr: attention-alike structural re-parameterization\t,\n sk-conv and spp-based unet for lesion segmentation of coronary optical coherence tomography\t,\n gr‐net: gated axial attention resnest network for polyp segmentation\t,\n a lightweight binarized convolutional neural network model for small memory and low-cost mobile devices\t,\n learning modality complementary features with mixed attention mechanism for rgb-t tracking\t,\n rfaconv: innovating spatial attention and standard convolutional operation\t,\n deep learning‐based semantic segmentation of non‐melanocytic skin tumors in whole‐slide histopathological images\t,\n crop pest image classification based on improved densely connected convolutional network\t,\n tunable convolutions with parametric multi-loss optimization\t,\n nonlinear transforms in learned image compression from a communication perspective\t,\n automated lesion segmentation in fundus images with many-to-many reassembly of features\t,\n improved u-net3+ with spatial–spectral transformer for multispectral image reconstruction\t,\n (mle$^{2}$a$^{2}$u)-net: image super-resolution via multi-level edge embedding and aggregated attentive upsampler network\t,\n dual wavelet attention networks for image classification\t,\n rema-net: an efficient multi-attention convolutional neural network for rapid skin lesion segmentation\t,\n cgnet: robotic grasp detection in heavily cluttered scenes\t,\n diagnosis of atrial fibrillation using self-complementary attentional convolutional neural network\t,\n lightweight detection system with global attention network (gloan) for rice lodging\t,\n a novel attention-based enhancement framework for face mask detection in complicated scenarios\t,\n imbalance knowledge-driven multi-modal network for land-cover semantic segmentation using aerial images and lidar point clouds\t,\n light field image super-resolution using selective kernel convolution\t,\n multi-scale feature interactive fusion network for rgbt tracking\t,\n regularization of polynomial networks for image recognition\t,\n object detection method based on lightweight yolov4 and attention mechanism in security scenes\t,\n yolov5s-ca: a modified yolov5s network with coordinate attention for underwater target detection\t,\n learning optical flow and scene flow with bidirectional camera-lidar fusion\t,\n parameter-free channel attention for image classification and super-resolution\t,\n large selective kernel network for remote sensing object detection\t,\n avfp-mvx: multimodal voxelnet with attention mechanism and voxel feature pyramid\t,\n subjective and objective quality assessment for in-the-wild computer graphics images\t,\n the research of a novel wog-yolo algorithm for autonomous driving object detection\t,\n self-supervised distillation for computer vision onboard planetary robots\t,\n ppcr: learning pyramid pixel context recalibration module for medical image classification\t,\n few-shot image classification algorithm based on attention mechanism and weight fusion\t,\n lung nodule detection of ct images based on combining 3d-cnn and squeeze-and-excitation networks\t,\n msfanet: a light weight object detector based on context aggregation and attention mechanism for autonomous mining truck\t,\n research on vehicle re-identification for vehicle road collaboration\t,\n gyro-net: imu gyroscopes random errors compensation method based on deep learning\t,\n multi-scale inter-communication spatio-temporal network for video compression artifacts reduction\t,\n pansharpening model of transferable remote sensing images based on feature fusion and attention modules\t,\n yolo-pest: an insect pest object detection algorithm via cac3 module\t,\n pseudocode to code based on adaptive global and local information\t,\n brain-inspired filtering network for small infrared target detection\t,\n spatial bias for attention-free non-local neural networks\t,\n infrared and visible image fusion via attention-based adaptive feature fusion\t,\n a gated multi-hierarchical feature fusion network for recognizing steel plate surface defects\t,\n bokeh rendering based on adaptive depth calibration network\t,\n glocalfuse-depth: fusing transformers and cnns for all-day self-supervised monocular depth estimation\t,\n mixed hierarchy network for image restoration\t,\n multi-dimensional frequency dynamic convolution with confident mean teacher for sound event detection\t,\n coal gangue detection and recognition method based on multiscale fusion lightweight network sms‐yolov3\t,\n cen-hdr: computationally efficient neural network for real-time high dynamic range imaging\t,\n augmented fcn: rethinking context modeling for semantic segmentation\t,\n even: an event-based framework for monocular depth estimation at adverse night conditions\t,\n cect: controllable ensemble cnn and transformer for covid-19 image classification by capturing both local and global image features\t,\n bi-stan: bilinear spatial-temporal attention network for wearable human activity recognition\t,\n monocular 3-d object detection based on depth-guided local convolution for smart payment in d2d systems\t,\n a novel tongue feature extraction method on mobile devices\t,\n mff-net: towards efficient monocular depth completion with multi-modal feature fusion\t,\n a real-time and effective text detection method for multi-scale and fuzzy text\t,\n self-paced multi-view learning for ct-based severity assessment of covid-19\t,\n surface defect detection system for carrot combine harvest based on multi-stage knowledge distillation\t,\n out of distribution performance of state of art vision model\t,\n enhancing medical image segmentation with transception: a multi-scale feature fusion approach\t,\n progressive meta-pooling learning for lightweight image classification model\t,\n ressknet-ssdp: effective and light end-to-end architecture for speaker recognition\t,\n combining multiscale learning and attention mechanism densely connected network for single image deraining\t,\n cascaded information enhancement and cross-modal attention feature fusion for multispectral pedestrian detection\t,\n fpanet: frequency-based video demoireing using frame-level post alignment\t,\n dual-branche attention network for super-resolution of remote sensing images\t,\n semppl: predicting pseudo-labels for better contrastive representations\t,\n artificial intelligence for diagnosing and predicting survival of patients with renal cell carcinoma: retrospective multi-center study\t,\n adaptive receptive field u-shaped temporal convolutional network for vulgar action segmentation\t,\n dacfn: divide-and-conquer fusion network for rgb-t object detection\t,\n using deep learning to predict treatment response in patients with hepatocellular carcinoma treated with y90 radiation segmentectomy\t,\n drfnet: dynamic receptive field network for object detection and image recognition\t,\n detection-friendly dehazing: object detection in real-world hazy scenes\t,\n a multiple feature-maps interaction pyramid network for defect detection of steel surface\t,\n toward extremely lightweight distracted driver recognition with distillation-based neural architecture search and knowledge transfer\t,\n lacn: a lightweight attention-guided convnext network for low-light image enhancement\t,\n improved lightweight yolov5 using attention mechanism for satellite components recognition\t,\n siamstc: updatable siamese tracking network via spatio-temporal context\t,\n clc-net: contextual and local collaborative network for lesion segmentation in diabetic retinopathy images\t,\n resolving task confusion in dynamic expansion architectures for class incremental learning\t,\n attention enhanced dynamic kernel convolution for tdnn-based speaker verification\t,\n a cross-domain fruit classification method based on lightweight attention networks and unsupervised domain adaptation\t,\n image classification with small datasets: overview and benchmark\t,\n pre-denoising 3d multi-scale fusion attention network for low-light enhancement\t,\n research on laparoscopic surgical instrument detection technology based on multi-attention-enhanced feature pyramid network\t,\n repmode: learning to re-parameterize diverse experts for subcellular structure prediction\t,\n cat: learning to collaborate channel and spatial attention from multi-information fusion\t,\n quality assessment of screen content images based on multi-pathway convolutional neural network\t,\n orientational distribution learning with hierarchical spatial attention for open set recognition\t,\n image classification with frequency channel attention under the few-shot condition\t,\n bagnet: branch attention guided decoder for semantic segmentation\t,\n sepformer: selective patch transformer for image classification\t,\n selector-enhancer: learning dynamic selection of local and non-local attention operation for speech enhancement\t,\n facial sto2: a new promising biometric identity\t,\n mra-unet: balancing speed and accuracy in road crack segmentation network\t,\n apple detection and instance segmentation in natural environments using an improved mask scoring r-cnn model\t,\n coarse-to-fine feature representation based on deformable partition attention for melanoma identification\t,\n automatic recognition of road damage based on lightweight attentional convolutional neural network\t,\n real-time terahertz characterization for composite delamination using a lightweight cpu adaptive network\t,\n skin disease classification using mobilenet-rsesk network\t,\n embedformer: embedded depth-wise convolution layer for token mixing\t,\n pedestrian detection based on improved ssd object detection algorithm\t,\n singing melody extraction based on combined frequency-temporal attention and attentional feature fusion with self-attention\t,\n self-supervised learning in the twilight of noisy real-world datasets\t,\n mdaff-net: a multi-scale dual-attention feature fusion model for long-term traffic prediction\t,\n lsanet: lesion-specific attention network for monkeypox categorization\t,\n self-emphasizing network for continuous sign language recognition\t,\n a lightweight convolutional neural network-based method for cotton mosaic disease identification\t,\n mssif-net: an efficient cnn automatic detection method for freight train images\t,\n an efficient convolution network with adaptive receptive field feature for high-resolution remote sensing change detection\t,\n a cross-residual learning for image recognition\t,\n normal reference attention and defective feature perception network for surface defect detection\t,\n improved v-net lung nodule segmentation method based on selective kernel\t,\n an attention-based feature pyramid network for single-stage small object detection\t,\n sgc-aranet: scale-wise global contextual axile reverse attention network for automatic brain tumor segmentation\t,\n spatio-temporal collaborative module for efficient action recognition\t,\n designing network design strategies through gradient path analysis\t,\n loneneuron: a highly-effective feature-domain neural trojan using invisible and polymorphic watermarks\t,\n cbam-yolov5 for infrared image object detection\t,\n esknet-an enhanced adaptive selection kernel convolution for breast tumors segmentation\t,\n ugan: semi-supervised medical image segmentation using generative adversarial network\t,\n single smpc invocation dphelmet: differentially private distributed learning on a large scale\t,\n facial recognition of cattle based on sk-resnet\t,\n jra-net: joint representation attention network for correspondence learning\t,\n a generalizable and robust deep learning algorithm for mitosis detection in multicenter breast histopathological images\t,\n self-supervised transfer learning framework driven by visual attention for benign-malignant lung nodule classification on chest ct\t,\n selective element and two orders vectorization networks for automatic depression severity diagnosis via facial changes\t,\n acsn: attention capsule sampling network for diagnosing covid-19 based on chest ct scans\t,\n cmanet: cross-modality attention network for indoor-scene semantic segmentation\t,\n scale enhancement pyramid network for small object detection from uav images\t,\n ipd-net: infrared pedestrian detection network via adaptive feature extraction and coordinate information fusion\t,\n cross-modality consistency learning for visible-infrared person re-identification\t,\n highly accurate end-to-end image steganalysis based on auxiliary information and attention mechanism\t,\n fineformer: fine-grained adaptive object transformer for image captioning\t,\n polsar image classification via a novel selective kernel encoder-decoder fully convolutional network\t,\n ground surveillance radar target classification based on 2d selective ca cnn\t,\n mc-vit: multi-path cross-scale vision transformer for thymoma histopathology whole slide image typing\t,\n time-reversed diffusion tensor transformer: a new tenet of few-shot object detection\t,\n adaptive mask-based pyramid network for realistic bokeh rendering\t,\n layer-wise shared attention network on dynamical system perspective\t,\n temporal dynamic concept modeling network for explainable video event recognition\t,\n improved 3d-resnet sign language recognition algorithm with enhanced hand features\t,\n plant and animal species recognition based on dynamic vision transformer architecture\t,\n salient object detection via dynamic scale routing\t,\n image classification of lung nodules by requiring the integration of attention mechanism into resnet model\t,\n multiple attention convolutional-recurrent neural networks for speech emotion recognition\t,\n a 3d cross-modality feature interaction network with volumetric feature alignment for brain tumor and tissue segmentation\t,\n duarus: automatic geo-object change detection with street-view imagery for updating road database at baidu maps\t,\n real-time driver monitoring systems through modality and view analysis\t,\n yolox-dc: a small target detection network up to underwater scenes\t,\n svm based brain tumor detection and classification system\t,\n mctnet: a multi-scale cnn-transformer network for change detection in optical remote sensing images\t,\n attention-based feature fusion for reconstructing gene-regulatory interactions\t,\n secure: se block-based classification of buildings post hurricane\t,\n all attention u-net for semantic segmentation of intracranial hemorrhages in head ct images\t,\n selective kernel prototypical network for few-shot motor fault diagnosis with unseen faults\t,\n bridging the gap between vision transformers and convolutional neural networks on small datasets\t,\n lstm-senet: category decoding model with an attention mechanism\t,\n lma: lightweight mixed-domain attention for efficient network design\t,\n exploring feature compensation and cross-level correlation for infrared small target detection\t,\n disco: disentangled implicit content and rhythm learning for diverse co-speech gestures synthesis\t,\n a defect detection model for industrial products based on attention and knowledge distillation\t,\n s-lmpnet: a super-lightweight multi-stage progressive network for image super-resolution\t,\n fast-parc: capturing position aware global feature for convnets and vits\t,\n samfenet: self-attention based multi-scale feature fusion coding and edge information constraint network for 6d pose estimation\t,\n the lie derivative for measuring learned equivariance\t,\n tc-sknet with gridmask for low-complexity classification of acoustic scene\t,\n apaunet: axis projection attention unet for small target in 3d medical segmentation\t,\n dual-former: hybrid self-attention transformer for efficient image restoration\t,\n research on human pose estimation algorithm based on two-stream residual steps network\t,\n augfcos: augmented fully convolutional one-stage object detection network\t,\n visual tracking with dumbbell selection network\t,\n multi-branch selection fusion fine-grained classification algorithm based on coordinate attention localization\t,\n attention augmented convnext unet for rectal tumour segmentation\t,\n deep image inpainting with enhanced normalization and contextual attention\t,\n cascade wavelet transform based convolutional neural networks with application to image classification\t,\n kaconv: kernel attention convolutions\t,\n multi-object detection in security screening scene based on convolutional neural network\t,\n gait pyramid attention network: toward silhouette semantic relation learning for gait recognition\t,\n waveform-logmel dual stream fusion network for sound event detection\t,\n mdaen: multi-dimensional attention-based ensemble network in deep reinforcement learning framework for portfolio management\t,\n automated bridge crack detection method based on lightweight vision models\t,\n a new bolt defect identification method incorporating attention mechanism and wide residual networks\t,\n two-stage cnn whole heart segmentation combining image enhanced attention mechanism and metric classification\t,\n dpnet: dual-path network for real-time object detection with lightweight attention\t,\n semicon: a learning-to-hash solution for large-scale fine-grained image retrieval\t,\n transformer and group parallel axial attention co-encoder for medical image segmentation\t,\n real-rawvsr: real-world raw video super-resolution with a benchmark dataset\t,\n rethinking performance gains in image dehazing networks\t,\n sda-xnet: selective depth attention networks for adaptive multi-scale feature representation\t,\n a two-stage deep learning framework for counterfeit luxury handbag detection in logo images\t,\n ssgnet: semi-supervised multi-path grid network for diagnosing melanoma\t,\n saliency transfer learning and central-cropping network for prostate cancer classification\t,\n scale attention for learning deep face representation: a study against visual scale variation\t,\n triangle distance iou loss, attention-weighted feature pyramid network, and rotated-sarship dataset for arbitrary-oriented sar ship detection\t,\n human sound classification based on feature fusion method with air and bone conducted signal\t,\n temporal self attention-based residual network for environmental sound classification\t,\n dctcn:deep complex temporal convolutional network for long time speech enhancement\t,\n changer: feature interaction is what you need for change detection\t,\n lightweight real-time image semantic segmentation network based on multi-resolution hybrid attention mechanism\t,\n omni-dimensional dynamic convolution\t,\n rethinking the unpretentious u-net for medical ultrasound image segmentation\t,\n brain tumor segmentation in multimodal mri via pixel-level and feature-level image fusion\t,\n an improved image classification method for cervical precancerous lesions based on shufflenet\t,\n retinal vessel segmentation algorithm based on attention mechanism\t,\n multilayer feature fusion and attention-based network for crops and weeds segmentation\t,\n uefpn: unified and enhanced feature pyramid networks for small object detection\t,\n mea-net: a lightweight sar ship detection model for imbalanced datasets\t,\n heart murmur detection of pcg using resnet with selective kernel convolution\t,\n single image deraining using multi‐stage and multi‐scale joint channel coordinate attention fusion network\t,\n lae-net: a locally-adaptive embedding network for low-light image enhancement\t,\n mfa-net: object detection for complex x-ray cargo and baggage security imagery\t,\n single-shot object detection via feature enhancement and channel attention\t,\n fast-hbnet: hybrid branch network for fast lane detection\t,\n attention mechanism based full-face gaze estimation for human-computer interaction\t,\n isa-net: improved spatial attention network for pet-ct tumor segmentation\t,\n face detection for rail transit passengers based on single shot detector and active learning\t,\n dual-branch remote sensing spatiotemporal fusion network based on selection kernel mechanism\t,\n foreign object detection in railway images based on an efficient two-stage convolutional neural network\t,\n finding the semantic similarity in single-particle diffraction images using self-supervised contrastive projection learning\t,\n multiscale hybrid convolutional deep neural networks with channel attention\t,\n accurate and efficient traffic participant detection based on optimized features and multi-scale localization confidence\t,\n adversarial feature augmentation for cross-domain few-shot classification\t,\n machine learning methods for device identification using wireless fingerprinting\t,\n deep speaker embedding using hybrid network of multi-feature aggregation and multi-loss fusion for ti-sv\t,\n fawnet: two-phase attention based street view image classification for urban land use analysis\t,\n msce-net: multi-scale spatial and channel enhancing net based on attention for cloud image classification\t,\n coarse-to-fine face depth super-resolution with attentive feature selection\t,\n efficient high-resolution network for human pose estimation\t,\n deep leaning based frequency-aware single image deraining by extracting knowledge from rain and background\t,\n a segmentation-based sequence residual attention model for kras gene mutation status prediction in colorectal cancer\t,\n lgadet: light-weight anchor-free multispectral pedestrian detection with mixed local and global attention\t,\n ppmn: pixel-phrase matching network for one-stage panoptic narrative grounding\t,\n dlw-nas: differentiable light-weight neural architecture search\t,\n convolutional neural network with spatio-temporal-channel attention for remote heart rate estimation\t,\n liver segmentation based on complementary features u-net\t,\n man and cat: mix attention to nn and concatenate attention to yolo\t,\n attention and dct based global context modeling for text-independent speaker recognition\t,\n coupled attention framework of convolutional neural network based on computer intelligence\t,\n emc²a-net: an efficient multibranch cross-channel attention network for sar target classification\t,\n lsnet: real-time attention semantic segmentation network with linear complexity\t,\n combined multi-branch selective kernel hybrid-pooling skip connection residual network for seismic random noise attenuation\t,\n swin-mfa: a multi-modal fusion attention network based on swin-transformer for low-light image human segmentation\t,\n deep learning based cancer survival analysis algorithm\t,\n lightweight lane marking detection cnns by self soft label attention\t,\n robust facial expression recognition based on dual branch multi-feature learning\t,\n ultrasonic scanning image defect detection of plastic packaging components based on fcos\t,\n research on chinese ancient characters image recognition method based on adaptive receptive field\t,\n exploring generalizable distillation for efficient medical image segmentation\t,\n development of a lightweight crop disease image identification model based on attentional feature fusion\t,\n combined with pyramid split attention and multi-scale feature learning network for single image deraining\t,\n image semantic segmentation scheme based on xgboost combination with convolution feature extraction\t,\n orientation and context entangled network for retinal vessel segmentation\t,\n stca-net: multi-channel ecg space-time-channel attention model for noninvasive prediction of catheter ablation in atrial fibrillation\t,\n detection method of obstacles in the dangerous area of electric locomotive driving based on mse-yolov4-tiny\t,\n investigation of performance of visual attention mechanisms for environmental sound classification: a comparative study\t,\n hierarchical feature alignment network for unsupervised video object segmentation\t,\n tdrnet: transformer-based dual-branch restoration network for geometry based point cloud compression artifacts\t,\n fpar: filter pruning via attention and rank enhancement\t,\n pyramid-context guided feature fusion for rgb-d semantic segmentation\t,\n an edge computing based defect detection algorithm for malleable iron\t,\n using cnn to improve the performance of the light-weight vit\t,\n paii: a pose alignment network with information interaction for person re-identification\t,\n convmixer with selective kernel attention for hyperspectral image classification\t,\n dynamic multi-scale network for remote sensing image super-resolution\t,\n seismic impedance inversion based on residual attention network\t,\n selective relation-aware representations for person re-identification\t,\n yolov4 and branch attention: an improved approach to real-time object detection\t,\n dual vision transformer\t,\n an attention-based cot-resnet with channel shuffle mechanism for classification of alzheimer’s disease levels\t,\n image target recognition based on improved convolutional neural network\t,\n convolutional neural networks for time-dependent classification of variable-length time series\t,\n improved hierarchical m-net+ for blind image denoising\t,\n noise and edge based dual branch image manipulation detection\t,\n noise-tolerant rgb-d feature fusion network for outdoor fruit detection\t,\n complementarity-aware cross-modal feature fusion network for rgb-t semantic segmentation\t,\n cafs: an attention-based co-segmentation semi-supervised method for nasopharyngeal carcinoma segmentation\t,\n one-step algorithm for fast-track localization and multi-category classification of histological subtypes in lung cancer.\t,\n event-driven video deblurring via spatio-temporal relation-aware network\t,\n learning graph-based residual aggregation network for group activity recognition\t,\n thangka yidam classification based on densenet and senet\t,\n uncertain and biased facial expression recognition based on depthwise separable convolutional neural network with embedded attention mechanism\t,\n msa-net: establishing reliable correspondences by multiscale attention network\t,\n improved dual attention for anchor-free object detection\t,\n improve vulnerability prediction performance using self-attention mechanism and convolutional neural network\t,\n calibrated convolution with gaussian of difference\t,\n rendering-aware hdr environment map prediction from a single image\t,\n attribute-based progressive fusion network for rgbt tracking\t,\n tvt: three-way vision transformer through multi-modal hypersphere learning for zero-shot sketch-based image retrieval\t,\n an efficient anchor-free face detector with attention mechanisms\t,\n construct effective geometry aware feature pyramid network for multi-scale object detection\t,\n selective hypergraph convolutional networks for skeleton-based action recognition\t,\n ff-unet: a u-shaped deep convolutional neural network for multimodal biomedical image segmentation\t,\n fpf-net: feature propagation and fusion based on attention mechanism for pancreas segmentation\t,\n cross-resolution feature attention network for image super-resolution\t,\n object detection in remote sensing images by combining feature enhancement and hybrid attention\t,\n triple-strip attention mechanism-based natural disaster images classification and segmentation\t,\n sk-mobilenet: a lightweight adaptive network based on complex deep transfer learning for plant disease recognition\t,\n ctooth: a fully annotated 3d dataset and benchmark for tooth volume segmentation on cone beam computed tomography images\t,\n image geolocation method based on attention mechanism front loading and feature fusion\t,\n combined channel attention and spatial attention module network for chinese herbal slices automated recognition\t,\n mfi-net: multiscale feature interaction network for retinal vessel segmentation\t,\n cross-modal local shortest path and global enhancement for visible-thermal person re-identification\t,\n siamdag: siamese dynamic receptive field and global context modeling network for visual tracking\t,\n sca-mma: spatial and channel-aware multi-modal adaptation for robust rgb-t object tracking\t,\n performance analysis of different dcnn models in remote sensing image object detection\t,\n co-learning graph convolution network for mobile user profiling\t,\n mxt: a new variant of pyramid vision transformer for multi-label chest x-ray image classification\t,\n multi-scale attention and encoder-decoder network for video saliency object detection\t,\n multi-scale attention-based pseudo-3d convolution neural network for alzheimer's disease diagnosis using structural mri\t,\n a new artificial intelligence-based method for identifying mycobacterium tuberculosis in ziehl–neelsen stain on tissue\t,\n self-supervised multi-scale pyramid fusion networks for realistic bokeh effect rendering\t,\n multi-scale deep neural network based on dilated convolution for spacecraft image segmentation\t,\n exposure normalization and compensation for multiple-exposure correction\t,\n kernelized few-shot object detection with efficient integral aggregation\t,\n isnet: shape matters for infrared small target detection\t,\n multi-domain networks for wireless interference recognition\t,\n multi-task learning based on geometric invariance discriminative features\t,\n brain tumor classification based on attention guided deep learning model\t,\n a graph and attentive multi-path convolutional network for traffic prediction\t,\n masked distillation with receptive tokens\t,\n frontal face reconstruction based on detail identification, variable scale self-attention and flexible skip connection\t,\n selective kernel and spatial grouping attention network for occluded pedestrian detection\t,\n facing the void: overcoming missing data in multi-view imagery\t,\n multi-feature co-learning for image inpainting\t,\n lightweight human pose estimation using heatmap-weighting loss\t,\n effective high-to-low-level feature aggregation network for endoscopic image classification\t,\n msanet: multi-scale attention networks for image classification\t,\n split-merge-excitation: a robust channel-wise feature attention mechanism applied to mdnet tracking\t,\n triple attention and global reasoning siamese networks for visual tracking\t,\n retinal vessel segmentation by using afnet\t,\n improving ct-image universal lesion detection with comprehensive data and feature enhancements\t,\n graph attention information fusion for siamese adaptive attention tracking\t,\n self-attention multilayer feature fusion based on long connection\t,\n point cloud semantic segmentation using multi scale sparse convolution neural network\t,\n a channel-spatial-temporal attention-based network for vibration-based damage detection\t,\n ω-net: dual supervised medical image segmentation with multi-dimensional self-attention and diversely-connected multi-scale convolution\t,\n biometric recognition based on scalable end-to-end convolutional neural network using photoplethysmography: a comparative study\t,\n attention to region: region-based integration-and-recalibration networks for nuclear cataract classification using as-oct images\t,\n learning global dependencies based on hierarchical full connection for brain tumor segmentation\t,\n drgcnn: dynamic region graph convolutional neural network for point clouds\t,\n few-shot object detection with affinity relation reasoning\t,\n real-time semantic segmentation with local spatial pixel adjustment\t,\n automatic assessment of depression and anxiety through encoding pupil-wave from hci in vr scenes\t,\n dit-slam: real-time dense visual-inertial slam with implicit depth representation and tightly-coupled graph optimization\t,\n aau-net: an adaptive attention u-net for breast lesions segmentation in ultrasound images\t,\n adaptive split-fusion transformer\t,\n a survey on attention mechanisms for medical applications: are we moving toward better algorithms?\t,\n competitive and collaborative learning accelerates the convergence of deep convolutional neural networks\t,\n toward action recognition and assessment using sfagcn and combinative regression model of spatiotemporal features\t,\n a selective kernel-based cycle-consistent generative adversarial network for unpaired low-dose ct denoising\t,\n pyramidal and conditional convolution attention network for hyperspectral image classification using limited training samples\t,\n classification of rock slices based on sknet\t,\n learning enriched features for fast image restoration and enhancement\t,\n inner-imaging 3d attention module for residual network\t,\n single image super-resolution via deep progressive multi-scale fusion networks\t,\n research and application of fine-grained image classification based on small collar dataset\t,\n vision transformers for single image dehazing\t,\n semi-supervised adversarial semantic segmentation network using transformer and multiscale convolution for high-resolution remote sensing imagery\t,\n mixformer: mixing features across windows and dimensions\t,\n an outstanding adaptive multi-feature fusion yolov3 algorithm for the small target detection in remote sensing images\t,\n lightweight and efficient neural network with spsa attention for wheat ear detection\t,\n frequency and multi-scale selective kernel attention for speaker verification\t,\n region-aware attention for image inpainting\t,\n dimension decoupling attention mechanism for time series prediction\t,\n unsupervised domain selective graph convolutional network for preoperative prediction of lymph node metastasis in gastric cancer\t,\n towards robust rain removal against adversarial attacks: a comprehensive benchmark analysis and beyond\t,\n end-to-end compressed video representation learning for generic event boundary detection\t,\n cnn filter db: an empirical investigation of trained convolutional filters\t,\n dcau-net: dense convolutional attention u-net for segmentation of intracranial aneurysm images\t,\n imbalanced heart sound signal classification based on two-stage trained dsanet\t,\n deep scale-variant network for femur trochanteric fracture classification with hp loss\t,\n siamsyb: simple yet better methods to enhance siamese tracking\t,\n mixed pyramid attention network for nuclear cataract classification based on anterior segment oct images\t,\n beyond fixation: dynamic window visual transformer\t,\n transformers meet visual learning understanding: a comprehensive review\t,\n dyrep: bootstrapping training with dynamic re-parameterization\t,\n accurate visual representation learning for single object tracking\t,\n three things everyone should know about vision transformers\t,\n sparse fuse dense: towards high quality 3d detection with depth completion\t,\n feature enhanced anchor-free network for school detection in high spatial resolution remote sensing images\t,\n lcsnet: end-to-end lipreading with channel-aware feature selection\t,\n co-visual pattern-augmented generative transformer learning for automobile geo-localization\t,\n panini-net: gan prior based degradation-aware feature interpolation for face restoration\t,\n drtam: dual rank-1 tensor attention module\t,\n dynamic mlp for fine-grained image classification by leveraging geographical and temporal information\t,\n esrnet: efficient search and recognition network for image manipulation detection\t,\n selective residual m-net for real image denoising\t,\n state-of-the-art techniques using pre-operative brain mri scans for survival prediction of glioblastoma multiforme patients and future research directions\t,\n wheat spike detection and counting in the field based on spikeretinanet\t,\n mathematical formula image screening based on feature correlation enhancement\t,\n autonomous detection of spodoptera frugiperda by feeding symptoms directly from uav rgb imagery\t,\n omni-frequency channel-selection representations for unsupervised anomaly detection\t,\n deep learning-based perception systems for autonomous driving: a comprehensive survey\t,\n learning feature-rich integrated comprehensive context networks for automated fundus retinal vessel analysis\t,\n detection of insulators on power transmission line based on an improved faster region-convolutional neural network\t,\n parking-lot vehicles detection from a low-angle camera perspective based on improved mask r-cnn\t,\n transkd: transformer knowledge distillation for efficient semantic segmentation\t,\n adversarial contrastive self-supervised learning\t,\n lcnet: location combination for object detection\t,\n attention-guided network with inverse tone-mapping guided up-sampling for hdr imaging of dynamic scenes\t,\n a novel convolutional neural network with interference suppression for the fault diagnosis of mechanical rotating components\t,\n towards simple and accurate human pose estimation with stair network\t,\n improved wafer map inspection using attention mechanism and cosine normalization\t,\n radar signal recognition and localization based on multiscale lightweight attention model\t,\n pedestrian attribute recognition based on attribute correlation\t,\n attention-based 3d convolutional networks\t,\n towards disentangling information paths with coded resnext\t,\n visual saliency guided perceptual adaptive quantization based on hevc intra-coding for planetary images\t,\n nebula: a scalable and flexible accelerator for dnn multi-branch blocks on embedded systems\t,\n an investigation of a multidimensional cnn combined with an attention mechanism model to resolve small-sample problems in hyperspectral image classification\t,\n taunet: a triple-attention-based multi-modality mri fusion u-net for cardiac pathology segmentation\t,\n efficient photorealistic style transfer with multi-order image statistics\t,\n melody extraction from polyphonic music by deep learning approaches: a review\t,\n bird posture recognition based on target keypoints estimation in dual-task convolutional neural networks\t,\n mars terrain segmentation with less labels\t,\n electrical resistance tomography image reconstruction based on one-dimensional multi-branch convolutional neural network combined with attention mechanism\t,\n identification of maize leaf diseases by using the skpsnet-50 convolutional neural network model\t,\n automated segmentation of normal and diseased coronary arteries - the asoca challenge\t,\n rock fracture detection and lithology classification in field outcrop area based on the architecture of rc-segnet\t,\n u-net skip-connection architectures for the automated counting of microplastics\t,\n a pavement crack detection method based on multiscale attention and hfs\t,\n 3d hand pose estimation from a single rgb image through semantic decomposition of vae latent space\t,\n research on drill floor working condition recognition method based on video understanding\t,\n identifying cardiomegaly in chest x-rays using dual attention network\t,\n a multi-branch attention and alignment network for person re-identification\t,\n small object detection method based on adaptive spatial parallel convolution and fast multi-scale fusion\t,\n cxr-refinedet: single-shot refinement neural network for chest x-ray radiograph based on multiple lesions detection\t,\n gesture recognition based on semg using multi-attention mechanism for remote control\t,\n multi-scale feature aggregation network for water area segmentation\t,\n cross-modality synergy network for referring expression comprehension and segmentation\t,\n attention guided deep features for accurate body mass index estimation\t,\n mlfc-net: a multi-level feature combination attention model for remote sensing scene classification\t,\n acwface: efficient and lightweight face detector based on retinaface\t,\n joint attentive adaptive feature fusion network for action recognition\t,\n csda-net: seeking reliable correspondences by channel-spatial difference augment network\t,\n real-time detection network for tiny traffic sign using multi-scale attention module\t,\n a multi-scale kernel-based network with improved attention mechanism for rotating machinery fault diagnosis under noisy environments\t,\n detection of microcalcifications in mammograms based on hyper faster r-cnn\t,\n drpn: making cnn dynamically handle scale variation\t,\n mhanet: a hybrid attention mechanism for retinal diseases classification\t,\n cemodule: a computation efficient module for lightweight convolutional neural networks\t,\n multi-modal data fusion method for human behavior recognition based on two ia-net and chmm\t,\n rethinking singing voice separation with spectral- temporal transformer\t,\n event-guided deblurring of unknown exposure time videos\t,\n dynamic parallel pyramid networks for scene recognition\t,\n ba-net: bridge attention for deep convolutional neural networks\t,\n multiscale efficient channel attention for fusion lane line segmentation\t,\n a novel resnet101 model based on dense dilated convolution for image classification\t,\n caver: cross-modal view-mixed transformer for bi-modal salient object detection\t,\n baanet: learning bi-directional adaptive attention gates for multispectral pedestrian detection\t,\n scale attentive network for scene recognition\t,\n eskn: enhanced selective kernel network for single image super-resolution\t,\n fine-grained object detection method using attention mechanism and its application in coal-gangue detection\t,\n adaptive spatio-temporal convolutional network for traffic prediction\t,\n on the integration of self-attention and convolution\t,\n nofade: analyzing diminishing returns on co2 investment\t,\n greedynasv2: greedier search with a greedy path filter\t,\n multi-label iterated learning for image classification with label ambiguity\t,\n review of image classification algorithms based on convolutional neural networks\t,\n blind vqa on 360° video via progressively learning from pixels, frames, and video\t,\n rethinking dilated convolution for real-time semantic segmentation\t,\n fast and lightweight network for single frame structured illumination microscopy super-resolution\t,\n drinet++: efficient voxel-as-point point cloud segmentation\t,\n attention mechanisms in computer vision: a survey\t,\n y-net: dual-branch joint network for semantic segmentation\t,\n cdunet: cloud detection unet for remote sensing imagery\t,\n cross-modal object tracking: modality-aware representations and a unified benchmark\t,\n a joint object detection and semantic segmentation model with cross-attention and inner-attention mechanisms\t,\n agpcnet: attention-guided pyramid context networks for infrared small target detection\t,\n efldet: enhanced feature learning for object detection\t,\n classification of renal biopsy direct immunofluorescence image using multiple attention convolutional neural network\t,\n resganet: residual group attention network for medical image classification and segmentation\t,\n canet: co-attention network for rgb-d semantic segmentation\t,\n hyperspectral image classification based on spatial and spectral kernels generation network\t,\n adaptive multi-receptive field spatial-temporal graph convolutional network for traffic forecasting\t,\n rmnet: equivalently removing residual connection from networks\t,\n placental super micro-vessels segmentation based on resnext with convolutional block attention and u-net\t,\n adaptation and attention for neural video coding\t,\n defocus deblurring: a designed deep model based on cnn\t,\n fusion-based feature attention gate component for vehicle detection based on event camera\t,\n sar ship detection based on enhanced attention mechanism\t,\n two-exposure image fusion based on cross attention fusion\t,\n synergistic attention for ship instance segmentation in sar images\t,\n selective kernel network based on joint attention mechanism for rolling bearing fault diagnosis\t,\n learning high-order graph convolutional networks via adaptive layerwise aggregation combination\t,\n an automatic detection method of cerebral aneurysms in time-of-flight magnetic resonance angiography images based on attention 3d u-net\t,\n multitask interactive attention learning model based on hand images for assisting chinese medicine in predicting myocardial infarction\t,\n loki: improving long tail performance of learning-based real-time video adaptation by fusing rule-based models\t,\n deep learning-based model for automatic salt rock segmentation\t,\n scaled gated networks\t,\n dense dilated attentive network for automatic classification of femur trochanteric fracture\t,\n no one representation to rule them all: overlapping features of training methods\t,\n single-image super-resolution via selective multi-scale network\t,\n synthetic aperture radar image change detection via siamese adaptive fusion network\t,\n spatial-coordinate attention and multi-path residual block based oriented object detection in remote sensing images\t,\n learning semantic-specific visual representation for laser welding penetration status recognition\t,\n merging multiple template matching predictions in intra coding with attentive convolutional neural network\t,\n shadow detection via predicting the confidence maps of shadow detection methods\t,\n da2-net : diverse & adaptive attention convolutional neural network\t,\n trs: transformers for remote sensing scene classification\t,\n real-time power prediction approach for turbine using deep learning techniques\t,\n ha-net: a lake water body extraction network based on hybrid-scale attention and transfer learning\t,\n a comprehensive review of binary neural network\t,\n smaller and efficient mobile network design for image classification\t,\n a 3d keypoints voting network for 6dof pose estimation in indoor scene\t,\n context prior based semantic-spatial graph network for human parsing\t,\n learning to restore light fields under low-light imaging\t,\n convolutional receptive field dual selection mechanism for acoustic scene classification\t,\n an image super-resolution network based on multi-scale convolution fusion\t,\n a spectral-spatial attention aggregation network for hyperspectral imagery classification\t,\n dynamic high-pass filtering and multi-spectral attention for image super-resolution\t,\n afln-dgcl: adaptive feature learning network with difficulty-guided curriculum learning for skin lesion segmentation\t,\n student helping teacher: teacher evolution via self-knowledge distillation\t,\n multiple attention encoded cascade r-cnn for scene text detection\t,\n optimizing 3d convolution kernels on stereo matching for resource efficient computations\t,\n t-net: effective permutation-equivariant network for two-view correspondence learning\t,\n multi-scale aggregation with self-attention network for modeling electrical motor dynamics\t,\n pipo-net: a semi-automatic and polygon-based annotation method for pathological images\t,\n structure-aware scale-adaptive networks for cancer segmentation in whole-slide images\t,\n concealed object detection and recognition system based on millimeter wave fmcw radar\t,\n deep multimodal fusion network for semantic segmentation using remote sensing image and lidar data\t,\n caagp: rethinking channel attention with adaptive global pooling for liver tumor segmentation\t,\n global2salient: self-adaptive feature aggregation for remote sensing smoke detection\t,\n a study of the generalizability of self-supervised representations\t,\n blockwise temporal-spatial pathway network\t,\n pcnet: progressive coupled network for real-time image deraining\t,\n margin loss based on adaptive metric for image recognition\t,\n multi-task deep supervision on attention r2u-net for brain tumor segmentation\t,\n dsnet: a dual-stream framework for weakly-supervised gigapixel pathology image analysis\t,\n adaptive kernel selection network with attention constraint for surgical instrument classification\t,\n depthwise grouped convolution for object detection\t,\n uncertainty‐guided self‐ensembling model for semi‐supervised segmentation of multiclass retinal fluid in optical coherence tomography images\t,\n kernel multi-attention neural network for knowledge graph embedding\t,\n improved face detector on fisheye images via spherical-domain attention\t,\n rafnet: rgb-d attention feature fusion network for indoor semantic segmentation\t,\n deep multibranch fusion residual network for insect pest recognition\t,\n rsknet-mtsp: effective and portable deep architecture for speaker verification\t,\n aems: an attention enhancement network of modules stacking for lowlight image enhancement\t,\n improving deep cnn architectures with variable-length training samples for text-independent speaker verification\t,\n tune it or don’t use it: benchmarking data-efficient image classification\t,\n exploring and improving mobile level vision transformers\t,\n improved speech separation with time-and-frequency cross-domain feature selection\t,\n improving time delay neural network based speaker recognition with convolutional block and feature aggregation methods\t,\n normal learning in videos with attention prototype network\t,\n collaborative and multilevel feature selection network for action recognition\t,\n discovering spatial relationships by transformers for domain generalization\t,\n pi-nas: improving neural architecture search by reducing supernet training consistency shift\t,\n a gather-to-guide network for remote sensing semantic segmentation of rgb and auxiliary image\t,\n progressive and selective fusion network for high dynamic range imaging\t,\n an attention module for convolutional neural networks\t,\n task-adaptive embedding learning with dynamic kernel fusion for few-shot remote sensing scene classification\t,\n polyp-pvt: polyp segmentation with pyramid vision transformers\t,\n towards real-world prohibited item detection: a large-scale x-ray benchmark\t,\n real-time semantic segmentation with weighted factorized-depthwise convolution\t,\n micronet: improving image recognition with extremely low flops\t,\n deep learning methods for automatic evaluation of delayed enhancement-mri. the results of the emidec challenge\t,\n diagnosis of alzheimer’s disease based on the modified tresnet\t,\n saliency-associated object tracking\t,\n attentive frequency learning network for super-resolution\t,\n online knowledge distillation for efficient pose estimation\t,\n dynamic multi-scale convolution for dialect identification\t,\n fully-channel regional attention network for disease-location recognition with tongue images\t,\n adaptive spatial pixel-level feature fusion network for multispectral pedestrian detection\t,\n residual neural network based on attention mechanism for visibility estimation of fog figure\t,\n multi-view feature augmentation with adaptive class activation mapping\t,\n rignet: repetitive image guided network for depth completion\t,\n augmentation pathways network for visual recognition\t,\n contextual transformer networks for visual recognition\t,\n hand image understanding via deep multi-task learning\t,\n an explicit self-attention-based multimodality cnn in-loop filter for versatile video coding\t,\n ai for online customer service: intent recognition and slot filling based on deep learning technology\t,\n drdf: determining the importance of different multimodal information with dual-router dynamic framework\t,\n weakly labeled semi-supervised sound event detection with multi-scale residual attention\t,\n 3d multi-branch encoder-decoder networks with attentional feature fusion for pulmonary nodule detection in ct scans\t,\n a survey on deep domain adaptation and tiny object detection challenges, techniques and datasets\t,\n intra-pulse modulation classification of radar emitter signals based on a 1-d selective kernel convolutional neural network\t,\n asu-net: u-shape adaptive scale network for mass segmentation in mammograms\t,\n dvmn: dense validity mask network for depth completion\t,\n lana: latency aware network acceleration\t,\n modality specific u-net variants for biomedical image segmentation: a survey\t,\n learning efficient single stage pedestrian detection by squeeze-and-excitation network\t,\n sea surface object detection algorithm based on yolo v4 fused with reverse depthwise separable convolution (rdsc) for usv\t,\n self-adversarial training incorporating forgery attention for image forgery localization\t,\n integrating large circular kernels into cnns through neural architecture search\t,\n improving convolutional networks with boosting attention convolutions\t,\n learning connected attentions for convolutional neural networks\t,\n a zero-shot method for 3d medical image segmentation\t,\n constrained contrastive representation: classification on chest x-rays with limited data\t,\n differentiable light-weight architecture search\t,\n dobnet: dynamic object boundary-refinement network for real-time instance segmentation\t,\n self-attention negative feedback network for real-time image super-resolution\t,\n an improved character recognition framework for containers based on detr algorithm\t,\n robust vehicle speed measurement based on feature information fusion for vehicle multi-characteristic detection\t,\n spatial hierarchy perception and hard samples metric learning for high-resolution remote sensing image object detection\t,\n cross-layer channel attention mechanism for convolutional neural networks\t,\n lightseg: a light-weight network for real-time semantic segmentation\t,\n real-time automatic helmet detection of motorcyclists in urban traffic using improved yolov5 detector\t,\n a more compact object detector head network with feature enhancement and relational reasoning\t,\n data poisoning won't save you from facial recognition\t,\n fractal pyramid networks\t,\n research on morphological detection of fr i and fr ii radio galaxies based on improved yolov5\t,\n a convolutional neural network based on grouping structure for scene classification\t,\n mgfpn: enhancing multi-scale feature for object detection\t,\n neural regression, representational similarity, model zoology & neural taskonomy at scale in rodent visual cortex\t,\n efficient self-supervised vision transformers for representation learning\t,\n direction-aware feature-level frequency decomposition for single image deraining\t,\n mean embeddings with test-time data augmentation for ensembling of representations\t,\n dmsanet: dual multi scale attention network\t,\n on-off center-surround receptive fields for accurate and robust image classification\t,\n methods for image denoising using convolutional neural network: a review\t,\n knowledge distillation: a good teacher is patient and consistent\t,\n salient positions based attention network for image classification\t,\n csrnet: cascaded selective resolution network for real-time semantic segmentation\t,\n srf-net: selective receptive field network for anchor-free temporal action detection\t,\n synergic feature attention for image restoration\t,\n mkel: multiple kernel ensemble learning via unified ensemble loss for image classification\t,\n vision transformers with hierarchical attention\t,\n multi-scale feature-guided stereoscopic video quality assessment based on 3d convolutional neural network\t,\n adaptive image transformer for one-shot object detection\t,\n multibranch selective kernel networks for hyperspectral image classification\t,\n pseudo 3d auto-correlation network for real image denoising\t,\n zero-shot single image restoration through controlled perturbation of koschmieder’s model\t,\n gaussian context transformer\t,\n srfnet: selective receptive field network for human pose estimation\t,\n srfnet: selective receptive field network for human pose estimation\t,\n segformer: simple and efficient design for semantic segmentation with transformers\t,\n detecting multielement algorithmically generated domain names based on adaptive embedding model\t,\n epsanet: an efficient pyramid squeeze attention block on convolutional neural network\t,\n vehicle counting method based on attention mechanism ssd and state detection\t,\n rest: an efficient transformer for visual recognition\t,\n asfnet: adaptive multiscale segmentation fusion network for real‐time semantic segmentation\t,\n transloc3d : point cloud based large-scale place recognition using adaptive receptive fields\t,\n a small attentional yolo model for landslide detection from satellite remote sensing images\t,\n knitted fabric and nonwoven fabric pilling objective evaluation based on sonet\t,\n deca: a novel multi-scale efficient channel attention module for object detection in real-life fire images\t,\n vision transformers are robust learners\t,\n abc-net: area-boundary constraint network with dynamical feature selection for colorectal polyp segmentation\t,\n skin lesion segmentation by u-net with adaptive skip connection and structural awareness\t,\n stacked deep multi-scale hierarchical network for fast bokeh effect rendering from a single image\t,\n sk-unet: an improved u-net model with selective kernel for the segmentation of lge cardiac mr images\t,\n collaborative spatial-temporal modeling for language-queried video actor segmentation\t,\n you only learn one representation: unified network for multiple tasks\t,\n afinet: attentive feature integration networks for image classification\t,\n mgbn: convolutional neural networks for automated benign and malignant breast masses classification\t,\n ag-curesnest: a novel method for colon polyp segmentation\t,\n diverse features fusion network for video-based action recognition\t,\n rrg-gan restoring network for simple lens imaging system\t,\n bicnet-tks: learning efficient spatial-temporal representation for video person re-identification\t,\n joint geoeffectiveness and arrival time prediction of cmes by a unified deep learning framework\t,\n small object detection in traffic scenes based on attention feature fusion\t,\n ctnet: context-based tandem network for semantic segmentation\t,\n variational relational point completion network\t,\n progressive semantic reasoning for image inpainting\t,\n augmenting deep classifiers with polynomial neural networks\t,\n pseudo-label growth dictionary pair learning for crowd counting\t,\n learning normal dynamics in videos with meta prototype network\t,\n selective kernel networks for weakly supervised relation extraction\t,\n multi-density attention network for loop filtering in video compression\t,\n document layout analysis via dynamic residual feature fusion\t,\n brain tumors classification for mr images based on attention guided deep learning model\t,\n an empirical study of training self-supervised vision transformers\t,\n high-resolution depth maps imaging via attention-based hierarchical multi-modal fusion\t,\n levit: a vision transformer in convnet’s clothing for faster inference\t,\n akrnet: a novel convolutional neural network with attentive kernel residual learning for feature learning of gearbox vibration signals\t,\n self-supervised motion learning from static images\t,\n aksnet: a novel convolutional neural network with adaptive kernel width and sparse regularization for machinery fault diagnosis\t,\n mutual attention learning network for domain adaptive person re-identification\t,\n occluded pedestrian detection combined with semantic features\t,\n going deeper with image transformers\t,\n attention-embedded complementary-stream cnn for false positive reduction in pulmonary nodule detection\t,\n ba^2m: a batch aware attention module for image classification\t,\n crossvit: cross-attention multi-scale vision transformer for image classification\t,\n hyperspectral images ground object recognition based on split attention\t,\n a robust and fast multispectral pedestrian detection deep network\t,\n self-supervised training enhances online continual learning\t,\n shift-and-balance attention\t,\n object tracking in siamese network with attention mechanism and mish function\t,\n context attention network for occluded pedestrian detection\t,\n scaling local self-attention for parameter efficient visual backbones\t,\n 3d mixed cnns with edge-point feature learning\t,\n self-supervised representation learning with relative predictive coding\t,\n dual attention enhancement feature fusion network for segmentation and quantitative analysis of paediatric echocardiography\t,\n glioblastoma multiforme prognosis: mri missing modality generation, segmentation and radiogenomic survival prediction\t,\n revisiting dynamic convolution via matrix decomposition\t,\n revisiting resnets: improved training and scaling strategies\t,\n a keypoint-based object detection method with wide dual-path backbone network and attention modules\t,\n thanka mural inpainting based on multi-scale adaptive partial convolution and stroke-like mask\t,\n cola-net: collaborative attention network for image restoration\t,\n feature pyramid of bi-directional stepped concatenation for small object detection\t,\n scale adaptive and lightweight super-resolution with a selective hierarchical residual network\t,\n vipriors 1: visual inductive priors for data-efficient deep learning challenges\t,\n scs-net: a scale and context sensitive network for retinal vessel segmentation\t,\n bridging deep and multiple kernel learning: a review\t,\n unsupervised trademark retrieval method based on attention mechanism\t,\n supernovae detection with fully convolutional one-stage framework\t,\n a spatial attention based convolutional neural network for gesture recognition with hd-semg signals\t,\n a pcb electronic components detection network design based on effective receptive field size and anchor size matching\t,\n efficient and accurate multi-scale topological network for single image dehazing\t,\n pyramid vision transformer: a versatile backbone for dense prediction without convolutions\t,\n image super-resolution network based on a multi-branch attention mechanism\t,\n regular polytope networks\t,\n hanme: hierarchical attention network for singing melody extraction\t,\n single mr image super-resolution via mixed self-similarity attention network\t,\n improved yolov3 based on attention mechanism for fast and accurate ship detection in optical remote sensing images\t,\n dynamic neural networks: a survey\t,\n abcnet: attentive bilateral contextual network for efficient semantic segmentation of fine-resolution remote sensing images\t,\n compact band weighting module based on attention-driven for hyperspectral image classification\t,\n supervised learning method for the physical field reconstruction in a nanofluid heat transfer problem\t,\n computational complexity reduction of neural networks of brain tumor image segmentation by introducing fermi–dirac correction functions\t,\n sa-net: shuffle attention for deep convolutional neural networks\t,\n semantic segmentation for remote sensing images based on adaptive feature selection network\t,\n a multi-scale feature extraction-based normalized attention neural network for image denoising\t,\n crowd scene analysis encounters high density and scale variation\t,\n convolutional neural networks with gated recurrent connections\t,\n lightweight convolutional neural network with gaussian-based grasping representation for robotic grasping detection\t,\n a cnn-based length-aware cascade road damage detection approach\t,\n multi-layer feature fusion convolution network for audio-visual speech enhancement\t,\n is context-aware cnn ready for the surroundings? panoramic semantic segmentation in the wild\t,\n attention pyramid module for scene recognition\t,\n selective kernel and motion-emphasized loss based attention-guided network for hdr imaging of dynamic scenes\t,\n psdnet: a balanced architecture of accuracy and parameters for semantic segmentation\t,\n progressive scene segmentation based on self-attention mechanism\t,\n cross parallax attention network for stereo image super-resolution\t,\n cutting-edge 3d medical image segmentation methods in 2020: are happy families all alike?\t,\n mgml: multigranularity multilevel feature ensemble network for remote sensing scene classification\t,\n attention-based adaptive spectral–spatial kernel resnet for hyperspectral image classification\t,\n the cat's eye effect target recognition method based on deep convolutional neural network\t,\n training data-efficient image transformers & distillation through attention\t,\n mme-yolo: multi-sensor multi-level enhanced yolo for robust vehicle detection in traffic surveillance\t,\n fcanet: frequency channel attention networks\t,\n towards pedestrian target detection with optimized mask r-cnn\t,\n attentional local contrast networks for infrared small target detection\t,\n learning omni-frequency region-adaptive representations for real image super-resolution\t,\n multi-level feature fusion network for single image super-resolution\t,\n psgcnet: a pyramidal scale and global context guided network for dense object counting in remote-sensing images\t,\n pscnet: pyramidal scale and global context guided network for crowd counting\t,\n imagenet pre-trained cnns for jpeg steganalysis\t,\n f2net: learning to focus on the foreground for unsupervised video object segmentation\t,\n split-attention u-net: a fully convolutional network for robust multi-label segmentation from brain mri\t,\n action detection based on 3d convolution neural network with channel attention mechanism\t,\n a metric learning network based on attention mechanism for power grid defect identification\t,\n part-aware attention network for person re-identification\t,\n learning affordance segmentation: an investigative study\t,\n a hybrid network for automatic hepatocellular carcinoma segmentation in h&e-stained whole slide images\t,\n deep learning methods for human behavior recognition\t,\n adaptive densely connected convolutional auto-encoder-based feature learning of gearbox vibration signals\t,\n micronet: towards image recognition with extremely low flops\t,\n scaling wide residual networks for panoptic segmentation\t,\n triple-d network for efficient undersampled magnetic resonance images reconstruction.\t,\n cascade attentive dropout for weakly supervised object detection\t,\n hierarchical multimodal adaptive fusion (hmaf) network for prediction of rgb-d saliency\t,\n adaptive pyramid context fusion for point cloud perception\t,\n a hybrid self-attention model for pedestrians detection\t,\n digging deeper into crnn model in chinese text images recognition\t,\n zero cost improvements for general object detection network\t,\n automatic head and neck tumor segmentation in pet/ct with scale attention network\t,\n w-net: dual supervised medical image segmentation model with multi-dimensional attention and cascade multi-scale convolution\t,\n channel pruning guided by spatial and channel attention for dnns in intelligent edge computing\t,\n automatic brain tumor segmentation with scale attention network\t,\n three-branch architecture for stereoscopic 3d salient object detection\t,\n efficient bokeh effect rendering using generative adversarial network\t,\n selective model for few shot classification\t,\n gaze estimation with multi-scale channel and spatial attention\t,\n multi-person pose estimation with object occlusion information\t,\n pointfusionnet: point feature fusion network for 3d point clouds analysis\t,\n real-time monocular depth estimation with adaptive receptive fields\t,\n learning a hierarchical global attention for image classification\t,\n targetdrop: a targeted regularization method for convolutional neural networks\t,\n 2nd place solution to instance segmentation of ijcai 3d ai challenge 2020\t,\n deep adaptive feature aggregation in multi-task convolutional neural networks\t,\n hs-resnet: hierarchical-split block on convolutional neural network\t,\n crnet: a center-aware representation for detecting text of arbitrary shapes\t,\n global information guided video anomaly detection\t,\n spatiotemporal attention enhanced features fusion network for action recognition\t,\n modeling temporal concept receptive field dynamically for untrimmed video analysis\t,\n higher accuracy and lower complexity: convolutional neural network for multi-organ segmentation\t,\n lightweight, dynamic graph convolutional networks for amr-to-text generation\t,\n paip 2019: liver cancer segmentation challenge\t,\n multi-phase and multi-level selective feature fusion for automated pancreas segmentation from ct images\t,\n accurate retinal vessel segmentation in color fundus images via fully attention-based networks\t,\n ...]"
     },
     "execution_count": 5,
     "metadata": {},
     "output_type": "execute_result"
    }
   ],
   "source": [],
   "metadata": {
    "collapsed": false,
    "ExecuteTime": {
     "end_time": "2023-12-16T08:06:56.137001500Z",
     "start_time": "2023-12-16T08:06:55.998182200Z"
    }
   },
   "id": "c8c5077088bb0bd7"
  },
  {
   "cell_type": "code",
   "execution_count": 6,
   "outputs": [
    {
     "name": "stderr",
     "output_type": "stream",
     "text": [
      "  9%|▉         | 126/1334 [00:23<03:55,  5.12it/s]"
     ]
    },
    {
     "name": "stdout",
     "output_type": "stream",
     "text": [
      "{'message': 'Network error communicating with endpoint'}\n"
     ]
    },
    {
     "name": "stderr",
     "output_type": "stream",
     "text": [
      " 59%|█████▉    | 788/1334 [09:57<06:53,  1.32it/s]  \n"
     ]
    },
    {
     "ename": "KeyboardInterrupt",
     "evalue": "",
     "output_type": "error",
     "traceback": [
      "\u001B[1;31m---------------------------------------------------------------------------\u001B[0m",
      "\u001B[1;31mKeyboardInterrupt\u001B[0m                         Traceback (most recent call last)",
      "Cell \u001B[1;32mIn[6], line 13\u001B[0m\n\u001B[0;32m     11\u001B[0m \u001B[38;5;28;01mfor\u001B[39;00m i \u001B[38;5;129;01min\u001B[39;00m \u001B[38;5;28mrange\u001B[39m(\u001B[38;5;28mlen\u001B[39m(citing_paper\u001B[38;5;241m.\u001B[39mauthors)):\n\u001B[0;32m     12\u001B[0m     s2author  \u001B[38;5;241m=\u001B[39m citing_paper\u001B[38;5;241m.\u001B[39mauthors[i]\n\u001B[1;32m---> 13\u001B[0m     data \u001B[38;5;241m=\u001B[39m [citing_paper\u001B[38;5;241m.\u001B[39mtitle,citing_paper\u001B[38;5;241m.\u001B[39mpublication_source,citing_paper\u001B[38;5;241m.\u001B[39mcitation_count,s2author\u001B[38;5;241m.\u001B[39mname,s2author\u001B[38;5;241m.\u001B[39mh_index,s2author\u001B[38;5;241m.\u001B[39mpaper_count,s2author\u001B[38;5;241m.\u001B[39mcitation_count]\n\u001B[0;32m     14\u001B[0m     \u001B[38;5;66;03m# print(data)\u001B[39;00m\n\u001B[0;32m     15\u001B[0m     writer\u001B[38;5;241m.\u001B[39mwriterow(data)\n",
      "File \u001B[1;32m~\\Documents\\GitHub\\Dynamic_Literature_Review\\furnace\\Author.py:145\u001B[0m, in \u001B[0;36mAuthor.h_index\u001B[1;34m(self)\u001B[0m\n\u001B[0;32m    143\u001B[0m \u001B[38;5;28;01mif\u001B[39;00m \u001B[38;5;28mhasattr\u001B[39m(\u001B[38;5;28mself\u001B[39m, \u001B[38;5;124m'\u001B[39m\u001B[38;5;124m_hIndex\u001B[39m\u001B[38;5;124m'\u001B[39m):\n\u001B[0;32m    144\u001B[0m     \u001B[38;5;28;01mreturn\u001B[39;00m \u001B[38;5;28mself\u001B[39m\u001B[38;5;241m.\u001B[39m_hIndex\n\u001B[1;32m--> 145\u001B[0m \u001B[38;5;28;01mif\u001B[39;00m \u001B[38;5;28mself\u001B[39m\u001B[38;5;241m.\u001B[39mentity:\n\u001B[0;32m    146\u001B[0m     \u001B[38;5;28;01mif\u001B[39;00m \u001B[38;5;124m'\u001B[39m\u001B[38;5;124mhIndex\u001B[39m\u001B[38;5;124m'\u001B[39m \u001B[38;5;129;01min\u001B[39;00m \u001B[38;5;28mself\u001B[39m\u001B[38;5;241m.\u001B[39mentity:\n\u001B[0;32m    147\u001B[0m         \u001B[38;5;28;01mreturn\u001B[39;00m \u001B[38;5;28mself\u001B[39m\u001B[38;5;241m.\u001B[39mentity[\u001B[38;5;124m'\u001B[39m\u001B[38;5;124mhIndex\u001B[39m\u001B[38;5;124m'\u001B[39m]\n",
      "File \u001B[1;32m~\\anaconda3\\Lib\\site-packages\\decorator.py:232\u001B[0m, in \u001B[0;36mdecorate.<locals>.fun\u001B[1;34m(*args, **kw)\u001B[0m\n\u001B[0;32m    230\u001B[0m \u001B[38;5;28;01mif\u001B[39;00m \u001B[38;5;129;01mnot\u001B[39;00m kwsyntax:\n\u001B[0;32m    231\u001B[0m     args, kw \u001B[38;5;241m=\u001B[39m fix(args, kw, sig)\n\u001B[1;32m--> 232\u001B[0m \u001B[38;5;28;01mreturn\u001B[39;00m caller(func, \u001B[38;5;241m*\u001B[39m(extras \u001B[38;5;241m+\u001B[39m args), \u001B[38;5;241m*\u001B[39m\u001B[38;5;241m*\u001B[39mkw)\n",
      "File \u001B[1;32m~\\anaconda3\\Lib\\site-packages\\retry\\api.py:73\u001B[0m, in \u001B[0;36mretry.<locals>.retry_decorator\u001B[1;34m(f, *fargs, **fkwargs)\u001B[0m\n\u001B[0;32m     71\u001B[0m args \u001B[38;5;241m=\u001B[39m fargs \u001B[38;5;28;01mif\u001B[39;00m fargs \u001B[38;5;28;01melse\u001B[39;00m \u001B[38;5;28mlist\u001B[39m()\n\u001B[0;32m     72\u001B[0m kwargs \u001B[38;5;241m=\u001B[39m fkwargs \u001B[38;5;28;01mif\u001B[39;00m fkwargs \u001B[38;5;28;01melse\u001B[39;00m \u001B[38;5;28mdict\u001B[39m()\n\u001B[1;32m---> 73\u001B[0m \u001B[38;5;28;01mreturn\u001B[39;00m __retry_internal(partial(f, \u001B[38;5;241m*\u001B[39margs, \u001B[38;5;241m*\u001B[39m\u001B[38;5;241m*\u001B[39mkwargs), exceptions, tries, delay, max_delay, backoff, jitter,\n\u001B[0;32m     74\u001B[0m                         logger)\n",
      "File \u001B[1;32m~\\anaconda3\\Lib\\site-packages\\retry\\api.py:33\u001B[0m, in \u001B[0;36m__retry_internal\u001B[1;34m(f, exceptions, tries, delay, max_delay, backoff, jitter, logger)\u001B[0m\n\u001B[0;32m     31\u001B[0m \u001B[38;5;28;01mwhile\u001B[39;00m _tries:\n\u001B[0;32m     32\u001B[0m     \u001B[38;5;28;01mtry\u001B[39;00m:\n\u001B[1;32m---> 33\u001B[0m         \u001B[38;5;28;01mreturn\u001B[39;00m f()\n\u001B[0;32m     34\u001B[0m     \u001B[38;5;28;01mexcept\u001B[39;00m exceptions \u001B[38;5;28;01mas\u001B[39;00m e:\n\u001B[0;32m     35\u001B[0m         _tries \u001B[38;5;241m-\u001B[39m\u001B[38;5;241m=\u001B[39m \u001B[38;5;241m1\u001B[39m\n",
      "File \u001B[1;32m~\\Documents\\GitHub\\Dynamic_Literature_Review\\furnace\\Author.py:54\u001B[0m, in \u001B[0;36mAuthor.entity\u001B[1;34m(self)\u001B[0m\n\u001B[0;32m     50\u001B[0m \u001B[38;5;129m@property\u001B[39m\n\u001B[0;32m     51\u001B[0m \u001B[38;5;129m@retry\u001B[39m()\n\u001B[0;32m     52\u001B[0m \u001B[38;5;28;01mdef\u001B[39;00m \u001B[38;5;21mentity\u001B[39m(\u001B[38;5;28mself\u001B[39m):\n\u001B[0;32m     53\u001B[0m     \u001B[38;5;28;01mif\u001B[39;00m \u001B[38;5;28mself\u001B[39m\u001B[38;5;241m.\u001B[39m_entity \u001B[38;5;129;01mis\u001B[39;00m \u001B[38;5;28;01mNone\u001B[39;00m:\n\u001B[1;32m---> 54\u001B[0m         \u001B[38;5;28;01mwith\u001B[39;00m shelve\u001B[38;5;241m.\u001B[39mopen(\u001B[38;5;28mself\u001B[39m\u001B[38;5;241m.\u001B[39mCACHE_FILE) \u001B[38;5;28;01mas\u001B[39;00m cache:\n\u001B[0;32m     55\u001B[0m             \u001B[38;5;28;01mif\u001B[39;00m \u001B[38;5;28mself\u001B[39m\u001B[38;5;241m.\u001B[39ms2_id:\n\u001B[0;32m     56\u001B[0m                 \u001B[38;5;28;01mif\u001B[39;00m \u001B[38;5;28mself\u001B[39m\u001B[38;5;241m.\u001B[39ms2_id \u001B[38;5;129;01min\u001B[39;00m cache:\n",
      "File \u001B[1;32m~\\anaconda3\\Lib\\shelve.py:243\u001B[0m, in \u001B[0;36mopen\u001B[1;34m(filename, flag, protocol, writeback)\u001B[0m\n\u001B[0;32m    230\u001B[0m \u001B[38;5;28;01mdef\u001B[39;00m \u001B[38;5;21mopen\u001B[39m(filename, flag\u001B[38;5;241m=\u001B[39m\u001B[38;5;124m'\u001B[39m\u001B[38;5;124mc\u001B[39m\u001B[38;5;124m'\u001B[39m, protocol\u001B[38;5;241m=\u001B[39m\u001B[38;5;28;01mNone\u001B[39;00m, writeback\u001B[38;5;241m=\u001B[39m\u001B[38;5;28;01mFalse\u001B[39;00m):\n\u001B[0;32m    231\u001B[0m \u001B[38;5;250m    \u001B[39m\u001B[38;5;124;03m\"\"\"Open a persistent dictionary for reading and writing.\u001B[39;00m\n\u001B[0;32m    232\u001B[0m \n\u001B[0;32m    233\u001B[0m \u001B[38;5;124;03m    The filename parameter is the base filename for the underlying\u001B[39;00m\n\u001B[1;32m   (...)\u001B[0m\n\u001B[0;32m    240\u001B[0m \u001B[38;5;124;03m    See the module's __doc__ string for an overview of the interface.\u001B[39;00m\n\u001B[0;32m    241\u001B[0m \u001B[38;5;124;03m    \"\"\"\u001B[39;00m\n\u001B[1;32m--> 243\u001B[0m     \u001B[38;5;28;01mreturn\u001B[39;00m DbfilenameShelf(filename, flag, protocol, writeback)\n",
      "File \u001B[1;32m~\\anaconda3\\Lib\\shelve.py:227\u001B[0m, in \u001B[0;36mDbfilenameShelf.__init__\u001B[1;34m(self, filename, flag, protocol, writeback)\u001B[0m\n\u001B[0;32m    225\u001B[0m \u001B[38;5;28;01mdef\u001B[39;00m \u001B[38;5;21m__init__\u001B[39m(\u001B[38;5;28mself\u001B[39m, filename, flag\u001B[38;5;241m=\u001B[39m\u001B[38;5;124m'\u001B[39m\u001B[38;5;124mc\u001B[39m\u001B[38;5;124m'\u001B[39m, protocol\u001B[38;5;241m=\u001B[39m\u001B[38;5;28;01mNone\u001B[39;00m, writeback\u001B[38;5;241m=\u001B[39m\u001B[38;5;28;01mFalse\u001B[39;00m):\n\u001B[0;32m    226\u001B[0m     \u001B[38;5;28;01mimport\u001B[39;00m \u001B[38;5;21;01mdbm\u001B[39;00m\n\u001B[1;32m--> 227\u001B[0m     Shelf\u001B[38;5;241m.\u001B[39m\u001B[38;5;21m__init__\u001B[39m(\u001B[38;5;28mself\u001B[39m, dbm\u001B[38;5;241m.\u001B[39mopen(filename, flag), protocol, writeback)\n",
      "File \u001B[1;32m~\\anaconda3\\Lib\\dbm\\__init__.py:95\u001B[0m, in \u001B[0;36mopen\u001B[1;34m(file, flag, mode)\u001B[0m\n\u001B[0;32m     93\u001B[0m \u001B[38;5;28;01melse\u001B[39;00m:\n\u001B[0;32m     94\u001B[0m     mod \u001B[38;5;241m=\u001B[39m _modules[result]\n\u001B[1;32m---> 95\u001B[0m \u001B[38;5;28;01mreturn\u001B[39;00m mod\u001B[38;5;241m.\u001B[39mopen(file, flag, mode)\n",
      "File \u001B[1;32m~\\anaconda3\\Lib\\dbm\\dumb.py:317\u001B[0m, in \u001B[0;36mopen\u001B[1;34m(file, flag, mode)\u001B[0m\n\u001B[0;32m    315\u001B[0m \u001B[38;5;28;01mif\u001B[39;00m flag \u001B[38;5;129;01mnot\u001B[39;00m \u001B[38;5;129;01min\u001B[39;00m (\u001B[38;5;124m'\u001B[39m\u001B[38;5;124mr\u001B[39m\u001B[38;5;124m'\u001B[39m, \u001B[38;5;124m'\u001B[39m\u001B[38;5;124mw\u001B[39m\u001B[38;5;124m'\u001B[39m, \u001B[38;5;124m'\u001B[39m\u001B[38;5;124mc\u001B[39m\u001B[38;5;124m'\u001B[39m, \u001B[38;5;124m'\u001B[39m\u001B[38;5;124mn\u001B[39m\u001B[38;5;124m'\u001B[39m):\n\u001B[0;32m    316\u001B[0m     \u001B[38;5;28;01mraise\u001B[39;00m \u001B[38;5;167;01mValueError\u001B[39;00m(\u001B[38;5;124m\"\u001B[39m\u001B[38;5;124mFlag must be one of \u001B[39m\u001B[38;5;124m'\u001B[39m\u001B[38;5;124mr\u001B[39m\u001B[38;5;124m'\u001B[39m\u001B[38;5;124m, \u001B[39m\u001B[38;5;124m'\u001B[39m\u001B[38;5;124mw\u001B[39m\u001B[38;5;124m'\u001B[39m\u001B[38;5;124m, \u001B[39m\u001B[38;5;124m'\u001B[39m\u001B[38;5;124mc\u001B[39m\u001B[38;5;124m'\u001B[39m\u001B[38;5;124m, or \u001B[39m\u001B[38;5;124m'\u001B[39m\u001B[38;5;124mn\u001B[39m\u001B[38;5;124m'\u001B[39m\u001B[38;5;124m\"\u001B[39m)\n\u001B[1;32m--> 317\u001B[0m \u001B[38;5;28;01mreturn\u001B[39;00m _Database(file, mode, flag\u001B[38;5;241m=\u001B[39mflag)\n",
      "File \u001B[1;32m~\\anaconda3\\Lib\\dbm\\dumb.py:72\u001B[0m, in \u001B[0;36m_Database.__init__\u001B[1;34m(self, filebasename, mode, flag)\u001B[0m\n\u001B[0;32m     70\u001B[0m \u001B[38;5;66;03m# Handle the creation\u001B[39;00m\n\u001B[0;32m     71\u001B[0m \u001B[38;5;28mself\u001B[39m\u001B[38;5;241m.\u001B[39m_create(flag)\n\u001B[1;32m---> 72\u001B[0m \u001B[38;5;28mself\u001B[39m\u001B[38;5;241m.\u001B[39m_update(flag)\n",
      "File \u001B[1;32m~\\anaconda3\\Lib\\dbm\\dumb.py:104\u001B[0m, in \u001B[0;36m_Database._update\u001B[1;34m(self, flag)\u001B[0m\n\u001B[0;32m    102\u001B[0m \u001B[38;5;28;01melse\u001B[39;00m:\n\u001B[0;32m    103\u001B[0m     \u001B[38;5;28;01mwith\u001B[39;00m f:\n\u001B[1;32m--> 104\u001B[0m         \u001B[38;5;28;01mfor\u001B[39;00m line \u001B[38;5;129;01min\u001B[39;00m f:\n\u001B[0;32m    105\u001B[0m             line \u001B[38;5;241m=\u001B[39m line\u001B[38;5;241m.\u001B[39mrstrip()\n\u001B[0;32m    106\u001B[0m             key, pos_and_siz_pair \u001B[38;5;241m=\u001B[39m _ast\u001B[38;5;241m.\u001B[39mliteral_eval(line)\n",
      "File \u001B[1;32m~\\anaconda3\\Lib\\encodings\\latin_1.py:25\u001B[0m, in \u001B[0;36mIncrementalDecoder.decode\u001B[1;34m(self, input, final)\u001B[0m\n\u001B[0;32m     24\u001B[0m \u001B[38;5;28;01mclass\u001B[39;00m \u001B[38;5;21;01mIncrementalDecoder\u001B[39;00m(codecs\u001B[38;5;241m.\u001B[39mIncrementalDecoder):\n\u001B[1;32m---> 25\u001B[0m     \u001B[38;5;28;01mdef\u001B[39;00m \u001B[38;5;21mdecode\u001B[39m(\u001B[38;5;28mself\u001B[39m, \u001B[38;5;28minput\u001B[39m, final\u001B[38;5;241m=\u001B[39m\u001B[38;5;28;01mFalse\u001B[39;00m):\n\u001B[0;32m     26\u001B[0m         \u001B[38;5;28;01mreturn\u001B[39;00m codecs\u001B[38;5;241m.\u001B[39mlatin_1_decode(\u001B[38;5;28minput\u001B[39m,\u001B[38;5;28mself\u001B[39m\u001B[38;5;241m.\u001B[39merrors)[\u001B[38;5;241m0\u001B[39m]\n",
      "\u001B[1;31mKeyboardInterrupt\u001B[0m: "
     ]
    }
   ],
   "source": [
    "len(s2paper.citations_detail)\n",
    "citing_authors = []\n",
    "from tqdm import tqdm\n",
    "import csv\n",
    "citing_authors = []\n",
    "from tqdm import tqdm\n",
    "csv_file_pth = r'../metrics/authors.csv'\n",
    "with open(csv_file_pth, 'w', newline='',encoding='utf-8') as csvfile:\n",
    "    writer = csv.writer(csvfile)\n",
    "    for citing_paper in tqdm(s2paper.citations_detail):\n",
    "        for i in range(len(citing_paper.authors)):\n",
    "            s2author  = citing_paper.authors[i]\n",
    "            data = [citing_paper.title,citing_paper.publication_source,citing_paper.citation_count,s2author.name,s2author.h_index,s2author.paper_count,s2author.citation_count]\n",
    "            # print(data)\n",
    "            writer.writerow(data)\n",
    "            citing_authors.append(data)"
   ],
   "metadata": {
    "collapsed": false,
    "ExecuteTime": {
     "end_time": "2023-12-16T08:16:54.443705600Z",
     "start_time": "2023-12-16T08:06:56.134001800Z"
    }
   },
   "id": "4a375e2cb3648c39"
  },
  {
   "cell_type": "code",
   "execution_count": null,
   "outputs": [],
   "source": [
    "import csv\n",
    "\n",
    "citing_authors = []\n",
    "from tqdm import tqdm\n",
    "csv_file_pth = r'../metrics/authors.csv'\n",
    "with open(csv_file_pth, 'w', newline='') as csvfile:\n",
    "    writer = csv.writer(csvfile)\n",
    "    for citing_paper in tqdm(s2paper.citations_detail):\n",
    "        crossref_paper = Crossref_paper(citing_paper.title)\n",
    "        for i in range(len(citing_paper.authors)):\n",
    "            if crossref_paper.authors:\n",
    "                crossrefauthor =  crossref_paper.authors[i]\n",
    "            else:\n",
    "                crossrefauthor._affiliation = None\n",
    "            s2author  = citing_paper.authors[i]\n",
    "    \n",
    "            # print(author.name)\n",
    "            if crossrefauthor.name == s2author.name:\n",
    "                data = [citing_paper.title,s2author.name,'Not Avaiable' if not crossrefauthor._affiliation else crossrefauthor._affiliation,s2author.h_index,s2author.paper_count,s2author.citation_count]\n",
    "                writer.writerow(data)\n",
    "                citing_authors.append(data)\n",
    "    # writer.writerows(citing_authors)  \n",
    "\n",
    "# with open(csv_file_pth, 'a', newline='') as csvfile:\n",
    "#     writer = csv.writer(csvfile)\n",
    "#     writer.writerows()"
   ],
   "metadata": {
    "collapsed": false,
    "ExecuteTime": {
     "end_time": "2023-12-16T03:30:33.460675200Z",
     "start_time": "2023-12-16T03:30:33.460675200Z"
    }
   },
   "id": "2f397bfe12aaa73f"
  },
  {
   "cell_type": "code",
   "execution_count": null,
   "outputs": [],
   "source": [
    "csv_file_pth = r'../metrics/authors.csv'\n",
    "with open(csv_file_pth, 'a', newline='') as csvfile:\n",
    "    writer = csv.writer(csvfile)\n",
    "    writer.writerows([[s2paper.title, s2paper.publication_source, s2paper.citation_count, s2paper.reference_count, s2paper.gpt_keyword[0], tncsi_rst['TNCSI'], IEI['L6'], coverage, timeliness, RAI]])"
   ],
   "metadata": {
    "collapsed": false
   },
   "id": "240f73672c509f76"
  },
  {
   "cell_type": "code",
   "execution_count": null,
   "outputs": [],
   "source": [
    "import requests\n",
    "from bs4 import BeautifulSoup\n",
    "import time\n",
    "\n",
    "def fetch(url):\n",
    "    # d = BeautifulSoup(open(url,encoding='utf-8'),features='html.parser')\n",
    "    headers = {\n",
    "        'User-Agent': 'Mozilla/5.0 (Windows NT 6.1; rv:26.0) Gecko/20100101 Firefox/26.0',\n",
    "        'Cookie': 'GSP=CF=4'\n",
    "    }\n",
    "    while True:\n",
    "        try:\n",
    "            resp = requests.get(url, headers=headers)\n",
    "            break\n",
    "        except Exception as e:\n",
    "            print(e)\n",
    "            pass\n",
    "    time.sleep(2)\n",
    "    d = BeautifulSoup(resp.content, \"html.parser\")\n",
    "    main_table = d.find(name=\"table\", attrs={\"class\": \"wikitable\"})\n",
    "    trs = main_table.findAll(name=\"tr\")\n",
    "    fellow_list = []\n",
    "    for tr in trs:\n",
    "        tds = tr.findAll(name=\"td\")\n",
    "        if len(tds) == 3:\n",
    "            fellow_list.append(tds[1].text)\n",
    "    print(url, len(fellow_list))\n",
    "    return fellow_list\n",
    "\n",
    "    # print(len(fellow_table))\n",
    "\n",
    "urls = [\n",
    "    \"https://en.wikipedia.org/wiki/List_of_fellows_of_IEEE_Aerospace_and_Electronic_Systems_Society\",\n",
    "    \"https://en.wikipedia.org/wiki/List_of_fellows_of_IEEE_Broadcast_Technology_Society\",\n",
    "    \"https://en.wikipedia.org/wiki/List_of_fellows_of_IEEE_Circuits_and_Systems_Society\",\n",
    "    \"https://en.wikipedia.org/wiki/List_of_fellows_of_IEEE_Communications_Society\",\n",
    "    \"https://en.wikipedia.org/wiki/List_of_fellows_of_IEEE_Computational_Intelligence_Society\",\n",
    "    \"https://en.wikipedia.org/wiki/List_of_fellows_of_IEEE_Consumer_Electronics_Society\",\n",
    "    \"https://en.wikipedia.org/wiki/List_of_fellows_of_IEEE_Control_Systems_Society\",\n",
    "    \"https://en.wikipedia.org/wiki/List_of_fellows_of_IEEE_Dielectrics_%26_Electrical_Insulation_Society\",\n",
    "    \"https://en.wikipedia.org/wiki/List_of_fellows_of_IEEE_Education_Society\",\n",
    "    \"https://en.wikipedia.org/wiki/List_of_fellows_of_IEEE_Electromagnetic_Compatibility_Society\",\n",
    "    \"https://en.wikipedia.org/wiki/List_of_fellows_of_IEEE_Electron_Devices_Society\",\n",
    "    \"https://en.wikipedia.org/wiki/IEEE_Antennas_%26_Propagation_Society\",\n",
    "    \"https://en.wikipedia.org/wiki/List_of_fellows_of_IEEE_Engineering_in_Medicine_and_Biology_Society\",\n",
    "    \"https://en.wikipedia.org/wiki/List_of_fellows_of_IEEE_Power_%26_Energy_Society\",\n",
    "    \"https://en.wikipedia.org/wiki/List_of_fellows_of_IEEE_Power_Electronics_Society\"\n",
    "]\n",
    "\n",
    "fellow_list = []\n",
    "for url in urls:\n",
    "    fellow_list.extend(fetch(url))\n",
    "\n",
    "with open(\"fellow/IEEE fellow list new.txt\", \"w\", encoding='utf-8') as f:\n",
    "    for fellow in fellow_list:\n",
    "        f.write(fellow)\n",
    "        f.write(\"\\n\")"
   ],
   "metadata": {
    "collapsed": false
   },
   "id": "66c839f77b0bfffb"
  },
  {
   "cell_type": "code",
   "execution_count": 39,
   "outputs": [],
   "source": [
    "others = [    \"https://en.wikipedia.org/wiki/List_of_members_of_the_Chinese_Academy_of_Sciences\",\n",
    "    \"https://en.wikipedia.org/wiki/List_of_members_of_the_European_Academy_of_Sciences_and_Arts\",]"
   ],
   "metadata": {
    "collapsed": false,
    "ExecuteTime": {
     "end_time": "2023-12-16T13:39:20.598942600Z",
     "start_time": "2023-12-16T13:39:20.549434700Z"
    }
   },
   "id": "5c32e12d0d28ff74"
  },
  {
   "cell_type": "code",
   "execution_count": 51,
   "outputs": [
    {
     "name": "stdout",
     "output_type": "stream",
     "text": [
      "DR\n"
     ]
    },
    {
     "data": {
      "text/plain": "True"
     },
     "execution_count": 51,
     "metadata": {},
     "output_type": "execute_result"
    }
   ],
   "source": [
    "import re\n",
    "import Levenshtein\n",
    "\n",
    "def is_same_person(name1, name2, threshold=0.8):\n",
    "    # 分割名字\n",
    "    name1_parts = re.findall(r'\\b\\w+\\b', name1)\n",
    "    name2_parts = re.findall(r'\\b\\w+\\b', name2)\n",
    "\n",
    "    # 排序名字\n",
    "    sorted_name1 = \" \".join(sorted(name1_parts))\n",
    "    sorted_name2 = \" \".join(sorted(name2_parts))\n",
    "\n",
    "    # 计算编辑距离\n",
    "    normalized_distance = Levenshtein.ratio(sorted_name1, sorted_name2)\n",
    "\n",
    "    if normalized_distance >= threshold:\n",
    "        print('direct')\n",
    "        return True\n",
    "    else:\n",
    "        # 判断是否为缩写名字\n",
    "        if name1.split(' ')[-1] in name2.split(' '):\n",
    "            initials1 = ''.join(word[0] for word in name1_parts)\n",
    "            initials2 = ''.join(word[0] for word in name2_parts)\n",
    "            # print(initials2)\n",
    "            if initials1 == initials2:\n",
    "                    return True\n",
    "\n",
    "        return False\n",
    "is_same_person('D. Rueckert', 'Daniel Rueckert',0.95)"
   ],
   "metadata": {
    "collapsed": false,
    "ExecuteTime": {
     "end_time": "2023-12-16T13:44:11.765542900Z",
     "start_time": "2023-12-16T13:44:11.746409200Z"
    }
   },
   "id": "6ef52360b21ed1f0"
  },
  {
   "cell_type": "code",
   "execution_count": 62,
   "outputs": [
    {
     "name": "stdout",
     "output_type": "stream",
     "text": [
      "https://en.wikipedia.org/wiki/List_of_members_of_the_National_Academy_of_Sciences_(Animal,_nutritional_and_applied_microbial_sciences) 58\n",
      "https://en.wikipedia.org/wiki/List_of_members_of_the_National_Academy_of_Sciences_(Anthropology) 82\n",
      "https://en.wikipedia.org/wiki/List_of_members_of_the_National_Academy_of_Sciences_(Applied_mathematical_sciences) 57\n",
      "https://en.wikipedia.org/wiki/List_of_members_of_the_National_Academy_of_Sciences_(Applied_physical_sciences) 97\n",
      "https://en.wikipedia.org/wiki/List_of_members_of_the_National_Academy_of_Sciences_(Astronomy) 125\n",
      "https://en.wikipedia.org/wiki/List_of_members_of_the_National_Academy_of_Sciences_(Biochemistry) 214\n",
      "https://en.wikipedia.org/wiki/List_of_members_of_the_National_Academy_of_Sciences_(Biophysics_and_computational_biology) 97\n",
      "https://en.wikipedia.org/wiki/List_of_members_of_the_National_Academy_of_Sciences_(Cellular_and_developmental_biology) 130\n",
      "https://en.wikipedia.org/wiki/List_of_members_of_the_National_Academy_of_Sciences_(Cellular_and_molecular_neuroscience) 65\n",
      "https://en.wikipedia.org/wiki/List_of_members_of_the_National_Academy_of_Sciences_(Chemistry) 226\n",
      "https://en.wikipedia.org/wiki/List_of_members_of_the_National_Academy_of_Sciences_(Computer_and_information_sciences) 55\n",
      "https://en.wikipedia.org/wiki/List_of_members_of_the_National_Academy_of_Sciences_(Economic_sciences) 66\n",
      "https://en.wikipedia.org/wiki/List_of_members_of_the_National_Academy_of_Sciences_(Engineering_sciences) 87\n",
      "https://en.wikipedia.org/wiki/List_of_members_of_the_National_Academy_of_Sciences_(Environmental_sciences_and_ecology) 107\n",
      "https://en.wikipedia.org/wiki/List_of_members_of_the_National_Academy_of_Sciences_(Evolutionary_biology) 47\n",
      "https://en.wikipedia.org/wiki/List_of_members_of_the_National_Academy_of_Sciences_(Genetics) 139\n",
      "https://en.wikipedia.org/wiki/List_of_members_of_the_National_Academy_of_Sciences_(Geology) 90\n",
      "https://en.wikipedia.org/wiki/List_of_members_of_the_National_Academy_of_Sciences_(Human_environmental_sciences) 43\n",
      "https://en.wikipedia.org/wiki/List_of_members_of_the_National_Academy_of_Sciences_(Immunology) 153\n",
      "https://en.wikipedia.org/wiki/List_of_members_of_the_National_Academy_of_Sciences_(Mathematics) 0\n",
      "https://en.wikipedia.org/wiki/List_of_members_of_the_National_Academy_of_Sciences_(Medical_genetics,_hematology,_and_oncology) 137\n",
      "https://en.wikipedia.org/wiki/List_of_members_of_the_National_Academy_of_Sciences_(Medical_physiology_and_metabolism) 94\n",
      "https://en.wikipedia.org/wiki/List_of_members_of_the_National_Academy_of_Sciences_(Microbial_biology) 103\n",
      "https://en.wikipedia.org/wiki/List_of_members_of_the_National_Academy_of_Sciences_(Physics) 200\n",
      "https://en.wikipedia.org/wiki/List_of_members_of_the_National_Academy_of_Sciences_(Physiology_and_pharmacology) 60\n",
      "https://en.wikipedia.org/wiki/List_of_members_of_the_National_Academy_of_Sciences_(Plant_biology) 71\n",
      "https://en.wikipedia.org/wiki/List_of_members_of_the_National_Academy_of_Sciences_(Plant,_soil,_and_microbial_sciences) 68\n",
      "https://en.wikipedia.org/wiki/List_of_members_of_the_National_Academy_of_Sciences_(Psychology) 106\n",
      "https://en.wikipedia.org/wiki/List_of_members_of_the_National_Academy_of_Sciences_(Social_and_political_sciences) 60\n",
      "https://en.wikipedia.org/wiki/List_of_members_of_the_National_Academy_of_Sciences_(Systems_neuroscience) 56\n",
      "https://en.wikipedia.org/wiki/List_of_members_of_the_National_Academy_of_Sciences_(Animal,_nutritional_and_applied_microbial_sciences) 58\n",
      "https://en.wikipedia.org/wiki/List_of_members_of_the_National_Academy_of_Sciences_(Anthropology) 82\n"
     ]
    },
    {
     "data": {
      "text/plain": "['Texas A&M University-College Station\\n',\n 'Uppsala University\\n',\n 'University of Illinois at Urbana–Champaign\\n',\n 'University of California, Davis\\n',\n 'Cornell University\\n',\n 'Colorado State University\\n',\n 'University of Arizona\\n',\n 'Universidad del Valle de Guatemala\\n',\n 'Drew University\\n',\n 'University of California, Berkeley\\n',\n 'University of Florida\\n',\n 'Arizona State University\\n',\n 'Drew University\\n',\n 'Ohio State University\\n',\n 'University of California, Davis\\n',\n 'U.S. Department of Agriculture\\n',\n 'The Jackson Laboratory\\n',\n 'University of Wisconsin–Madison\\n',\n 'Michigan State University\\n',\n 'North Carolina State University\\n',\n 'University of Wisconsin–Madison\\n',\n 'University of Washington\\n',\n 'University of California, Davis\\n',\n 'University of Washington\\n',\n 'Harvard University\\n',\n 'Liverpool School of Tropical Medicine\\n',\n 'Millennium Institute\\n',\n 'University of Arizona\\n',\n 'University of Minnesota, Minneapolis\\n',\n 'University of Florida\\n',\n 'University of California, Irvine\\n',\n 'University of Georgia\\n',\n 'Virginia Polytechnic Institute and State University\\n',\n 'U.S. Department of Agriculture\\n',\n 'Iowa State University\\n',\n 'New York University Grossman School of Medicine\\n',\n 'Kitasato Institute\\n',\n 'University of Cambridge\\n',\n 'University of Missouri\\n',\n 'Cornell University\\n',\n 'Pennsylvania State University\\n',\n 'Ohio State University\\n',\n 'United Nations University\\n',\n 'Colorado State University\\n',\n 'State University of New York College of Environmental Science and Forestry\\n',\n 'Cornell University\\n',\n 'Texas A&M University-College Station\\n',\n 'University of Wisconsin–Madison\\n',\n 'Warsaw University\\n',\n 'Pennsylvania State University\\n',\n 'Mahidol University\\n',\n 'Cornell University\\n',\n 'Roslin Institute\\n',\n 'U.S. Department of Agriculture\\n',\n 'Texas A&M University-College Station\\n',\n 'Soil Microbiology Associates\\n',\n 'University of Hawaii at Manoa\\n',\n 'University of California, Davis\\n',\n 'University of California, San Diego\\n',\n 'Princeton University\\n',\n 'Universidad Complutense de Madrid\\n',\n 'Pennsylvania State University\\n',\n 'Harvard University\\n',\n 'Case Western Reserve University\\n',\n 'University of Georgia\\n',\n 'University of Florida\\n',\n 'Tulane University\\n',\n 'Arizona State University\\n',\n 'American Museum of Natural History\\n',\n 'Yale University\\n',\n 'University of California, Berkeley\\n',\n 'Yale University\\n',\n 'University of Colorado\\n',\n 'University of Connecticut\\n',\n 'Emory University\\n',\n 'University of Pittsburgh\\n',\n 'Harvard University\\n',\n 'University of Michigan\\n',\n 'University of California, Berkeley\\n',\n 'University of Nevada, Reno\\n',\n 'University at Buffalo\\n',\n 'University of Wyoming\\n',\n 'University of Michigan\\n',\n 'Binghamton University\\n',\n 'Case Western Reserve University\\n',\n 'University of Pennsylvania\\n',\n 'Wayne State University\\n',\n 'University of Cambridge\\n',\n 'University of Auckland\\n',\n 'University of Washington\\n',\n 'Johns Hopkins University\\n',\n 'University of California, Berkeley\\n',\n 'University of Utah\\n',\n 'University of Utah\\n',\n 'Yale University\\n',\n 'University of California, Berkeley\\n',\n 'Harvard University\\n',\n 'University of California, Davis\\n',\n 'University of California, Berkeley\\n',\n 'University of Michigan\\n',\n 'University of California, Berkeley\\n',\n 'Stanford University\\n',\n 'University of Michigan\\n',\n 'National Autonomous University of Mexico\\n',\n 'Collège de France\\n',\n 'Smithsonian Tropical Research Institute\\n',\n 'Kent State University\\n',\n 'National Autonomous University of Mexico\\n',\n 'University of Michigan\\n',\n 'Southern Methodist University\\n',\n 'University of Rochester\\n',\n 'American Museum of Natural History\\n',\n 'University of Florida\\n',\n 'Harvard University\\n',\n 'Harvard University\\n',\n 'University of Virginia\\n',\n 'Yale University\\n',\n 'University of Cambridge\\n',\n 'University of California, Irvine\\n',\n 'Yale University\\n',\n 'University of Pennsylvania\\n',\n 'University of Chicago\\n',\n 'Federal University of Rio Grande do Sul\\n',\n 'Pennsylvania State University\\n',\n 'Polish Academy of Sciences\\n',\n 'Duke University\\n',\n 'University of California, Davis\\n',\n 'Smithsonian Institution\\n',\n 'University of California, San Diego\\n',\n 'University of California, Los Angeles\\n',\n 'Harvard University\\n',\n 'American Museum of Natural History\\n',\n 'Washington University in St. Louis\\n',\n 'Pennsylvania State University\\n',\n 'University of Pennsylvania\\n',\n 'Washington University in St. Louis\\n',\n 'Southern Methodist University\\n',\n 'University of California, Berkeley\\n',\n 'University of Michigan\\n',\n 'Australian National University\\n',\n 'Princeton University\\n',\n 'University of California, Berkeley\\n',\n 'Stanford University\\n',\n 'University of California, Berkeley\\n',\n 'Duke University\\n',\n 'New York University\\n',\n 'University of California, Berkeley\\n',\n 'University of Pennsylvania\\n',\n 'Harvard University\\n',\n 'University of California, Berkeley\\n',\n 'Rockefeller University\\n',\n 'Yale University\\n',\n 'University of California, Berkeley\\n',\n 'University of Oxford\\n',\n 'University of Wisconsin–Madison\\n',\n 'Stanford University\\n',\n 'Duke University\\n',\n 'Stanford University\\n',\n 'Carnegie Mellon University\\n',\n 'Ohio State University\\n',\n 'Stanford University\\n',\n 'Alfred P. Sloan Foundation\\n',\n 'New York University\\n',\n 'University of California, Santa Cruz\\n',\n 'International Business Machines Corporation\\n',\n 'Massachusetts Institute of Technology\\n',\n 'Stanford University\\n',\n 'University of California, Berkeley\\n',\n 'Stanford University\\n',\n 'Cornell University\\n',\n 'University of Bristol\\n',\n 'California Institute of Technology\\n',\n 'University of California, Los Angeles\\n',\n 'Massachusetts Institute of Technology\\n',\n 'New York University\\n',\n 'New York University\\n',\n 'New York University\\n',\n 'Brown University\\n',\n 'New York University\\n',\n 'University of California, Los Angeles\\n',\n 'Stanford University\\n',\n 'New York University\\n',\n 'University of Cambridge\\n',\n 'University of Hyderabad\\n',\n 'Yale University\\n',\n 'University of California, San Diego\\n',\n 'Harvard University\\n',\n 'Rutgers, The State University of New Jersey, New Brunswick\\n',\n 'Stanford University\\n',\n 'University of California, Berkeley\\n',\n 'Massachusetts Institute of Technology\\n',\n 'University of Washington\\n',\n 'Stanford University\\n',\n 'University of Wisconsin–Madison\\n',\n 'University of Southern California\\n',\n 'Stanford University\\n',\n 'New York University\\n',\n 'Argonne National Laboratory\\n',\n 'Princeton University\\n',\n 'Cornell University\\n',\n 'North Carolina State University\\n',\n 'Massachusetts Institute of Technology\\n',\n 'Stanford University\\n',\n 'Yale University\\n',\n 'International Business Machines Corporation\\n',\n 'University of California, Berkeley\\n',\n 'Princeton University\\n',\n 'University of Pennsylvania\\n',\n 'National Institute of Standards and Technology\\n',\n 'Max Planck Institute for Solid State Research\\n',\n 'Rockefeller University\\n',\n 'Princeton University\\n',\n 'University of Illinois at Urbana–Champaign\\n',\n 'University of California, Berkeley\\n',\n 'Hong Kong University of Science and Technology\\n',\n 'Brookhaven National Laboratory\\n',\n 'University of Houston\\n',\n 'AT&T Corporation\\n',\n 'Rutgers, The State University of New Jersey, New Brunswick\\n',\n 'City College of the City University of New York\\n',\n 'Centro Atómico Bariloche\\n',\n 'Cornell University\\n',\n 'California Institute of Technology\\n',\n 'University of California System\\n',\n 'University of Chicago\\n',\n 'University of Cambridge\\n',\n 'University of Illinois at Urbana–Champaign\\n',\n 'Wetnose Institute for Advanced Pelagic Studies\\n',\n 'California Institute of Technology\\n',\n 'Rockefeller University\\n',\n 'University of California, Davis\\n',\n 'Yale University\\n',\n 'University of Illinois at Urbana–Champaign\\n',\n 'International Business Machines Corporation\\n',\n \"Académie des Sciences de l'Institut de France\\n\",\n 'Stanford University\\n',\n 'Rensselaer Polytechnic Institute\\n',\n 'Haverford College\\n',\n 'University of California, Santa Barbara\\n',\n 'University of Illinois at Urbana–Champaign\\n',\n 'General Electric Company\\n',\n 'University of California, Santa Barbara\\n',\n 'University of Southern California\\n',\n 'Washington State University\\n',\n 'Massachusetts Institute of Technology\\n',\n 'Dartmouth College\\n',\n 'Russian Academy of Sciences\\n',\n 'University of Illinois at Urbana–Champaign\\n',\n '\\n',\n 'University of California, Santa Barbara\\n',\n 'University of California, Santa Barbara\\n',\n 'Rutgers, The State University of New Jersey, New Brunswick\\n',\n 'Massachusetts Institute of Technology\\n',\n 'University of Illinois at Urbana–Champaign\\n',\n 'University of Pennsylvania\\n',\n 'University of North Carolina at Chapel Hill\\n',\n 'Pennsylvania State University\\n',\n 'Independent Consultant\\n',\n 'University of California, San Diego\\n',\n 'Cornell University\\n',\n 'Massachusetts Institute of Technology\\n',\n 'University of Zurich\\n',\n 'University of California, Berkeley\\n',\n 'University of Chicago\\n',\n 'Harvard University\\n',\n 'Institut Laue-Langevin\\n',\n 'University of Rome\\n',\n 'Princeton University\\n',\n 'Rutgers, The State University of New Jersey, New Brunswick\\n',\n 'Cornell University\\n',\n 'Swiss Federal Institute of Technology\\n',\n 'University of California, San Diego\\n',\n 'Arizona State University\\n',\n 'City College of the City University of New York\\n',\n 'University of California, San Diego\\n',\n 'University of California, Berkeley\\n',\n 'University of Illinois at Urbana–Champaign\\n',\n 'Boston University\\n',\n 'University of Massachusetts Amherst\\n',\n 'California Institute of Technology\\n',\n 'Princeton University\\n',\n 'Columbia University\\n',\n 'University of Texas at Austin\\n',\n 'Brown University\\n',\n 'MMFX Technologies Corporation\\n',\n 'University of Washington\\n',\n 'Princeton University\\n',\n 'Harvard University\\n',\n 'University of Illinois at Urbana–Champaign\\n',\n 'Max Planck Institute for Solid State Research\\n',\n 'Lehigh University\\n',\n 'University of South Carolina\\n',\n 'Oak Ridge Associated Universities\\n',\n 'Academia Sinica (Taiwan)\\n',\n 'Center for Astrophysics | Harvard & Smithsonian\\n',\n 'University of Arizona\\n',\n 'University of Arizona\\n',\n 'University of Colorado, Boulder\\n',\n 'Princeton University\\n',\n 'Rutgers University\\n',\n 'Oxford University\\n',\n 'University of California, Santa Barbara\\n',\n 'Stanford University\\n',\n 'University of Toronto\\n',\n 'California Institute of Technology\\n',\n 'University of California, San Diego\\n',\n 'University of Oxford\\n',\n 'Princeton University\\n',\n 'Massachusetts Institute of Technology\\n',\n 'University of Chicago\\n',\n 'University of New Mexico\\n',\n 'European Southern Observatory\\n',\n 'Harvard University\\n',\n 'University of Virginia\\n',\n 'Massachusetts Institute of Technology\\n',\n 'California Institute of Technology\\n',\n 'California Institute of Technology\\n',\n 'University of California, Berkeley\\n',\n 'Princeton University\\n',\n 'SETI Institute\\n',\n 'Carnegie Institution of Washington\\n',\n 'Harvard University\\n',\n 'Commonwealth Scientific and Industrial Research Organization\\n',\n 'University of California, Santa Cruz\\n',\n 'University of Cambridge\\n',\n 'Center for Astrophysics | Harvard & Smithsonian\\n',\n 'University of California, Berkeley\\n',\n 'Yale University\\n',\n 'Harvard–Smithsonian Center for Astrophysics\\n',\n 'University of Chicago\\n',\n 'University of Chicago\\n',\n 'Australian National University\\n',\n 'Southwest Research Institute\\n',\n 'Max Planck Institute for Extraterrestrial Physics\\n',\n 'University of California, Los Angeles\\n',\n 'Princeton University\\n',\n 'California Institute of Technology\\n',\n 'Kyoto University\\n',\n 'Cornell University\\n',\n 'Johns Hopkins University\\n',\n 'National Radio Astronomy Observatory\\n',\n 'University of California, Berkeley\\n',\n 'Center for Astrophysics | Harvard & Smithsonian\\n',\n 'University of Illinois at Urbana–Champaign\\n',\n 'State University of New York, Stony Brook\\n',\n 'University of British Columbia\\n',\n 'Johns Hopkins University\\n',\n 'McGill University\\n',\n 'Max Planck Institute for Astrophysics, Garching, Germany\\n',\n 'National Radio Astronomy Observatory\\n',\n 'University of Cambridge\\n',\n 'University of Washington\\n',\n 'Center for Astrophysics | Harvard & Smithsonian\\n',\n 'University of Texas, Austin\\n',\n 'Rutgers University\\n',\n 'George Washington University\\n',\n 'California Institute of Technology\\n',\n 'National Optical Astronomy Observatory\\n',\n 'Unaffiliated\\n',\n 'University of California, Santa Cruz\\n',\n 'University of Geneva\\n',\n 'University of Colorado at Boulder\\n',\n 'University of California, Berkeley\\n',\n 'Washington University in St. Louis\\n',\n 'Pennsylvania State University\\n',\n 'Center for Astrophysics | Harvard & Smithsonian\\n',\n 'California Institute of Technology\\n',\n 'Harvard University\\n',\n 'University of Chicago\\n',\n 'Princeton University\\n',\n 'Princeton University\\n',\n 'University of Chicago\\n',\n 'Princeton University\\n',\n 'National Autonomous University of Mexico\\n',\n 'New Enterprise Associates\\n',\n 'Carnegie Institution of Washington\\n',\n 'University of California, Berkeley\\n',\n 'Raman Research Institute\\n',\n 'California Institute of Technology\\n',\n 'University of Cambridge\\n',\n 'Smithsonian Astrophysical Observatory\\n',\n 'University of Arizona\\n',\n 'University of Arizona\\n',\n 'Johns Hopkins University\\n',\n 'National Radio Astronomy Observatory\\n',\n 'Universidad Nacional Autónoma de México\\n',\n 'California Institute of Technology\\n',\n 'Massachusetts Institute of Technology\\n',\n 'Australian National University\\n',\n 'California Institute of Technology\\n',\n 'Massachusetts Institute of Technology\\n',\n 'University of California, Berkeley\\n',\n 'University of London\\n',\n 'Center for Astrophysics | Harvard & Smithsonian\\n',\n 'Carnegie Institution of Washington\\n',\n 'National Tsinghua University\\n',\n 'Princeton University\\n',\n 'California Institute of Technology\\n',\n 'Max Planck Institute for Astrophysics\\n',\n 'Max Planck Institute for Extraterrestrial Physics\\n',\n 'Smithsonian Astrophysical Observatory\\n',\n 'Princeton University\\n',\n 'Center for Astrophysics | Harvard & Smithsonian\\n',\n 'Lockheed Martin Corporation\\n',\n 'Massachusetts Institute of Technology\\n',\n 'University of Hawaii at Manoa\\n',\n 'Princeton University\\n',\n 'University of California, Davis\\n',\n 'Warsaw University\\n',\n 'Yale University\\n',\n 'Leiden University\\n',\n 'Tufts University\\n',\n 'University of California, Berkeley\\n',\n 'Ohio State University \\n',\n 'Carnegie Institution of Washington\\n',\n 'Max Planck Institute for Astrophysics\\n',\n 'Center for Astrophysics | Harvard & Smithsonian\\n',\n 'University of California, Los Angeles\\n',\n 'University of Wisconsin-Madison\\n',\n 'California Institute of Technology\\n',\n 'University of Wisconsin–Madison\\n',\n 'University of Wisconsin–Madison\\n',\n 'University of California, San Francisco\\n',\n 'University of Chile\\n',\n 'Yale University\\n',\n 'University of California, Berkeley\\n',\n 'National Institutes of Health\\n',\n 'Massachusetts Institute of Technology\\n',\n 'University of California, Berkeley\\n',\n 'Massachusetts Institute of Technology\\n',\n 'California Institute of Technology\\n',\n 'University of Utah\\n',\n 'Johns Hopkins University\\n',\n 'Duke University\\n',\n 'New York State Department of Health\\n',\n 'Johns Hopkins University\\n',\n 'Massachusetts Institute of Technology\\n',\n 'California Institute of Technology\\n',\n 'University of California, San Francisco\\n',\n 'Harvard University\\n',\n 'UC Berkeley\\n',\n 'University of California, San Francisco\\n',\n 'University of California, Los Angeles\\n',\n 'National Institutes of Health\\n',\n 'Yale University\\n',\n 'Stanford University\\n',\n 'Massachusetts Institute of Technology\\n',\n 'National Institutes of Health\\n',\n 'University of California, Santa Barbara\\n',\n 'University of Arizona\\n',\n 'Howard Hughes Medical Institute\\n',\n 'University of California, Berkeley\\n',\n 'University of Pennsylvania\\n',\n 'Technion-Israel Institute of Technology\\n',\n 'University of Wisconsin–Madison\\n',\n 'University of Dundee\\n',\n 'Marine Biological Laboratory\\n',\n 'University of Pennsylvania\\n',\n 'Stowers Institute for Medical Research\\n',\n 'University of Michigan\\n',\n 'University of California, Berkeley\\n',\n 'Johns Hopkins University\\n',\n 'Scripps Research Institute\\n',\n 'University of Wisconsin–Madison\\n',\n 'Rockefeller University\\n',\n 'University of Washington\\n',\n 'Christian de Duve Institute of Cellular Pathology\\n',\n 'University of Wisconsin–Madison\\n',\n 'California Institute of Technology\\n',\n 'Caltech\\n',\n 'Howard Hughes Medical Institute\\n',\n 'University of California, San Diego\\n',\n 'University of California, Berkeley\\n',\n 'University of Pennsylvania\\n',\n 'The Scripps Research Institute\\n',\n 'University of Texas Southwestern Medical Center at Dallas\\n',\n 'National Institutes of Health\\n',\n 'University of Washington\\n',\n 'University of Wisconsin–Madison\\n',\n 'Duke University\\n',\n 'University of California, San Diego\\n',\n 'Rice University\\n',\n 'University of California System\\n',\n 'Johns Hopkins University\\n',\n 'Johns Hopkins University\\n',\n 'Institut de Biologie Physico-Chimique\\n',\n 'University of California, Los Angeles\\n',\n 'University of Illinois at Urbana–Champaign\\n',\n 'University of Illinois at Urbana–Champaign\\n',\n 'Pacific Northwest Research Institute\\n',\n 'Duke University\\n',\n 'Cold Spring Harbor Laboratory\\n',\n 'Max Planck Institute of Biochemistry\\n',\n 'ETH Zurich\\n',\n 'Medical Research Council\\n',\n 'Columbia University\\n',\n 'Cornell University\\n',\n 'Technion Israel Institute of Technology\\n',\n 'Cornell University\\n',\n 'Duke University\\n',\n 'Worcester Foundation for Biomedical Research\\n',\n 'Cornell University\\n',\n 'Yale University\\n',\n 'Max Planck Institute for Biochemistry\\n',\n 'Memorial Sloan-Kettering Cancer Center\\n',\n 'University of North Carolina at Chapel Hill\\n',\n 'Brandeis University\\n',\n 'Scripps Research Institute\\n',\n 'University of California, Los Angeles\\n',\n 'University of Wisconsin–Madison\\n',\n 'National Institutes of Health\\n',\n 'Kyoto University\\n',\n 'Harvard University\\n',\n 'Merck & Co., Inc.\\n',\n 'Harvard University\\n',\n 'University of California, Berkeley\\n',\n 'Harvard University\\n',\n 'National Institutes of Health\\n',\n 'Stanford University\\n',\n 'Stanford University\\n',\n 'University of Buenos Aires\\n',\n 'University of California, Berkeley\\n',\n 'University of California, Davis\\n',\n 'University of California, San Diego\\n',\n 'University of California, Berkeley\\n',\n 'University of Texas at Austin\\n',\n 'Brown University\\n',\n 'Johns Hopkins University\\n',\n 'University of Wisconsin–Madison\\n',\n 'Stanford University\\n',\n 'State University of New York at Stony Brook\\n',\n 'Memorial Sloan Kettering Cancer Center\\n',\n 'Northwestern University\\n',\n 'University of Maryland, College Park\\n',\n 'Columbia University\\n',\n 'University of Rochester\\n',\n 'The Scripps Research Institute\\n',\n 'Northwestern University\\n',\n 'University of Oregon\\n',\n 'University of Michigan\\n',\n 'California Institute of Technology\\n',\n 'Rockefeller University\\n',\n 'University of California, San Diego\\n',\n 'National Institutes of Health\\n',\n 'Duke University\\n',\n 'University of California, Los Angeles\\n',\n 'National Institutes of Health\\n',\n 'University of California, Santa Cruz\\n',\n 'University of California, Irvine\\n',\n 'University of California, San Diego\\n',\n 'The Rockefeller University\\n',\n 'University of California, San Francisco\\n',\n 'Salk Institute for Biological Studies\\n',\n 'University of Colorado Boulder\\n',\n 'Fundacion Instituto Leloir\\n',\n 'Memorial Sloan-Kettering Cancer Center\\n',\n 'Memorial Sloan-Kettering Cancer Center\\n',\n 'University of Oxford\\n',\n 'Indiana University\\n',\n 'Yale University\\n',\n 'Medical Research Council\\n',\n 'University of Missouri\\n',\n 'Harvard University\\n',\n 'University of Texas at Austin\\n',\n 'California Institute of Technology\\n',\n 'Karolinska Institute\\n',\n 'New York University\\n',\n 'Massachusetts Institute of Technology\\n',\n 'Harvard University\\n',\n 'Boston University\\n',\n 'California Institute of Technology\\n',\n 'California Institute of Technology\\n',\n 'Johns Hopkins University\\n',\n 'Synergenics, LLC\\n',\n 'Karolinska Institute\\n',\n 'Indiana University\\n',\n 'University of North Carolina at Chapel Hill\\n',\n 'Medical Research Council\\n',\n 'Massachusetts Institute of Technology\\n',\n 'University of California, Berkeley\\n',\n 'University of Basel\\n',\n 'Stanford University\\n',\n 'Scripps Research Institute\\n',\n 'Albert Einstein College of Medicine\\n',\n \"St. Jude Children's Research Hospital\\n\",\n 'University of California, San Francisco\\n',\n 'Carnegie Institution of Washington\\n',\n 'University of California, Santa Barbara\\n',\n 'University of California, Los Angeles\\n',\n 'J. Craig Venter Institute\\n',\n 'Yale University\\n',\n 'McGill University\\n',\n 'Columbia University\\n',\n 'National Institutes of Health\\n',\n 'National Institutes of Health\\n',\n 'Cleveland Clinic Foundation\\n',\n 'University of Chicago\\n',\n 'Yale University\\n',\n 'Yale University\\n',\n 'Oak Ridge National Laboratory\\n',\n 'Cold Spring Harbor Laboratory\\n',\n 'Harvard University\\n',\n 'Massachusetts Institute of Technology\\n',\n 'Yale University\\n',\n 'University of Utah\\n',\n 'Harvard University\\n',\n 'National Institutes of Health\\n',\n 'Johns Hopkins University\\n',\n 'National Research Council of Italy\\n',\n 'University of California, San Diego\\n',\n 'UC Berkeley\\n',\n 'University of California, Berkeley\\n',\n 'Northwestern University\\n',\n 'Merck & Co., Inc.\\n',\n 'Harvard University\\n',\n 'California Institute of Technology\\n',\n 'University of Utah\\n',\n 'University of Oregon\\n',\n 'Baylor College of Medicine\\n',\n 'Harvard University\\n',\n 'University of California, San Francisco\\n',\n 'Harvard University\\n',\n 'Florida Atlantic University\\n',\n 'University of California, San Francisco\\n',\n 'University of California, San Francisco\\n',\n 'Francis Crick Institute\\n',\n 'National Institutes of Health\\n',\n 'National Institutes of Health\\n',\n 'Dartmouth College\\n',\n 'University of North Carolina at Chapel Hill\\n',\n 'National Institutes of Health\\n',\n 'National Institutes of Health\\n',\n 'Harvard University\\n',\n 'University of California, San Francisco\\n',\n 'University of Pittsburgh\\n',\n 'University of Washington\\n',\n 'Stanford University\\n',\n 'National Institutes of Health\\n',\n 'University of Wisconsin–Madison\\n',\n 'Harvard University\\n',\n 'Stanford University\\n',\n 'Harvard University\\n',\n 'Stanford University\\n',\n 'University of California, Berkeley\\n',\n 'Sequenom\\n',\n 'Florida State University\\n',\n 'National Institutes of Health\\n',\n 'Stanford University\\n',\n 'Brandeis University\\n',\n 'University of Rochester\\n',\n 'Yale University\\n',\n 'National Institutes of Health\\n',\n 'University of California, San Francisco\\n',\n 'University of Texas Southwestern Medical Center at Dallas\\n',\n 'Brandeis University\\n',\n 'University of California, Los Angeles\\n',\n 'Stony Brook University\\n',\n 'University of Illinois\\n',\n 'National Institutes of Health\\n',\n 'University of California, Los Angeles\\n',\n 'Yale University\\n',\n 'University of Pennsylvania\\n',\n 'University of California, San Diego\\n',\n 'University of California, Los Angeles\\n',\n 'University of Cambridge\\n',\n 'University of California, San Francisco\\n',\n 'Columbia University\\n',\n 'Washington University in St. Louis\\n',\n 'Harvard University\\n',\n 'Oregon Health & Science University\\n',\n 'University of Washington\\n',\n 'University of Pittsburgh\\n',\n 'Duke University\\n',\n 'Harvard University\\n',\n 'University of California, Santa Cruz\\n',\n 'Stanford University\\n',\n 'Columbia University\\n',\n 'University of California, Los Angeles\\n',\n 'Brandeis University\\n',\n 'Weizmann Institute of Science\\n',\n 'University of Oxford\\n',\n 'University of California, Berkeley\\n',\n 'Massachusetts Institute of Technology\\n',\n 'University of California, Berkeley\\n',\n 'Massachusetts Institute of Technology\\n',\n 'Stanford University\\n',\n 'Harvard University\\n',\n 'Rockefeller University\\n',\n 'University of Oregon\\n',\n 'California Institute of Technology\\n',\n 'University of California, San Diego\\n',\n 'Columbia University\\n',\n 'Max Planck Institute for Biophysics\\n',\n 'Yale University\\n',\n 'University of the Pacific\\n',\n 'University of California, Berkeley\\n',\n 'Sangamo BioSciences\\n',\n 'Brandeis University\\n',\n 'Yale University\\n',\n 'Stanford University\\n',\n 'Stanford University\\n',\n 'Brandeis University\\n',\n 'California Institute of Technology\\n',\n 'Broad Institute, Massachusetts Institute of Technology\\n',\n 'Duke University\\n',\n 'ETH Zurich\\n',\n 'Purdue University\\n',\n 'University of Oregon\\n',\n 'University of California, San Francisco\\n',\n 'D. E. Shaw Research\\n',\n 'Yale University\\n',\n 'Harvard University\\n',\n 'University of California, San Francisco\\n',\n 'University of California, San Francisco\\n',\n 'Stanford University\\n',\n 'National Institutes of Health\\n',\n 'Duke University\\n',\n 'European Bioinformatics Institute\\n',\n 'University of California, Berkeley\\n',\n 'University of Tokyo\\n',\n 'Oregon State University\\n',\n 'Harvard University\\n',\n 'Medical Research Council\\n',\n 'University of Southern California\\n',\n 'Cornell University\\n',\n 'The Scripps Research Institute\\n',\n 'Weizmann Institute of Science\\n',\n 'Harvard University\\n',\n 'University of California, San Diego\\n',\n 'National Institutes of Health\\n',\n 'The Rockefeller University\\n',\n 'Stanford University\\n',\n 'HHMIgre\\n',\n 'University of Edinburgh\\n',\n 'Intercell\\n',\n 'University of California, San Francisco\\n',\n 'University of California, Berkeley\\n',\n 'Stanford University\\n',\n 'Rockefeller University\\n',\n 'Marine Biological Laboratory\\n',\n 'Netherlands Cancer Institute\\n',\n 'University of Pennsylvania\\n',\n 'Caltech\\n',\n 'Carnegie Institution of Washington\\n',\n 'Harvard University\\n',\n 'Institut Pasteur\\n',\n 'Harvard University\\n',\n 'University of Utah\\n',\n 'Yale University\\n',\n 'Harvard University\\n',\n 'Institut de Genetique et de Biologie Moleculaire et Cellulaire (IGBMC)\\n',\n 'University of California, San Diego\\n',\n 'University Medical Center Utrecht\\n',\n 'Vanderbilt University\\n',\n 'Rockefeller University\\n',\n 'National Institutes of Health\\n',\n 'University of California, Los Angeles\\n',\n 'Pontificia Universidad Católica del Ecuador\\n',\n 'École Polytechnique Fédérale de Lausanne\\n',\n 'University of California, Berkeley\\n',\n 'Cornell University\\n',\n 'Harvard University\\n',\n 'University of California, San Diego\\n',\n 'Harvard University\\n',\n 'Rockefeller University\\n',\n 'Stanford University\\n',\n 'Carnegie Institution of Washington\\n',\n 'University of Basel\\n',\n 'University of California, Berkeley\\n',\n 'Harvard University\\n',\n 'Harvard University\\n',\n 'University of Massachusetts Medical School\\n',\n 'Harvard University\\n',\n 'University of Cambridge\\n',\n 'National Institutes of Health\\n',\n 'UC Berkeley\\n',\n 'Fred Hutchinson Cancer Research Center\\n',\n 'Harvard University\\n',\n 'Duke University\\n',\n 'Stanford University\\n',\n 'Cancer Research UK\\n',\n 'Massachusetts Institute of Technology\\n',\n 'Marine Biological Laboratory\\n',\n 'European Molecular Biology Laboratory\\n',\n 'Indiana University\\n',\n 'University of Wisconsin–Madison\\n',\n 'Stanford University\\n',\n 'Harvard University\\n',\n 'Medical Research Council\\n',\n 'Stowers Institute for Medical Research\\n',\n 'Harvard University\\n',\n 'Harvard University\\n',\n 'New York University\\n',\n 'University of California, Berkeley\\n',\n 'National Institutes of Health\\n',\n 'Massachusetts Institute of Technology\\n',\n 'Harvard University\\n',\n 'University of Chicago\\n',\n \"Académie des Sciences de l'Institut de France\\n\",\n 'University of California, San Francisco\\n',\n 'Memorial Sloan-Kettering Cancer Center\\n',\n 'University of Colorado at Boulder\\n',\n 'University of Texas Southwestern Medical Center at Dallas\\n',\n 'Harvard University\\n',\n 'Genentech\\n',\n 'Harvard University\\n',\n 'University of Virginia\\n',\n 'University of Chicago\\n',\n 'University of California, San Diego\\n',\n 'Rockefeller University\\n',\n 'Stanford University\\n',\n 'Max Planck Institute for Developmental Biology\\n',\n 'University of Texas Southwestern Medical Center at Dallas\\n',\n 'University of Geneva\\n',\n 'University of California, San Diego\\n',\n 'Harvard University\\n',\n 'Massachusetts Institute of Technology\\n',\n 'Harvard University\\n',\n 'Fox Chase Cancer Center\\n',\n 'Karolinska Institute\\n',\n 'University of Colorado at Boulder\\n',\n 'University of Buenos Aires\\n',\n 'University of London\\n',\n 'La Jolla Institute for Allergy and Immunology\\n',\n 'Rockefeller University\\n',\n 'Brandeis University\\n',\n 'University of Toronto\\n',\n 'Columbia University\\n',\n 'Yale University\\n',\n 'Harvard University\\n',\n 'New York University\\n',\n 'MIT\\n',\n 'State University of New York at Albany\\n',\n 'Ministry of Fisheries of Eritrea\\n',\n 'UC Berkeley\\n',\n 'Princeton University\\n',\n 'Stanford University\\n',\n 'Massachusetts Institute of Technology\\n',\n 'Center for Advanced Biotechnology and Medicine\\n',\n 'Rockefeller University\\n',\n 'Max Planck Institute for Molecular Cell Biology and Genetics\\n',\n 'Albert Einstein College of Medicine of Yeshiva University\\n',\n 'University of California, San Diego\\n',\n 'Stanford University\\n',\n 'California Institute of Technology\\n',\n 'Columbia University\\n',\n 'Harvard University\\n',\n 'Harvard University\\n',\n 'RIKEN\\n',\n 'Northwestern University\\n',\n 'Princeton University\\n',\n 'University of Pennsylvania\\n',\n 'University of California, Berkeley\\n',\n 'Massachusetts Institute of Technology\\n',\n 'University of California, San Francisco\\n',\n 'Yeshiva University\\n',\n 'Princeton University\\n',\n 'University of California, San Francisco\\n',\n 'The Rockefeller University\\n',\n 'Massachusetts Institute of Technology\\n',\n 'Oregon Health & Science University\\n',\n 'California Institute of Technology\\n',\n 'University of Oslo\\n',\n 'Rockefeller University\\n',\n 'Stanford University\\n',\n 'Yeshiva University\\n',\n 'Scripps Research Institute\\n',\n 'Rockefeller University\\n',\n 'Fred Hutchinson Cancer Research Center\\n',\n 'Institut Pasteur\\n',\n 'Yale University\\n',\n 'Harvard University\\n',\n 'Columbia University\\n',\n 'Harvard University\\n',\n 'venBio LLC\\n',\n 'Harvard University\\n',\n 'Rockefeller University\\n',\n 'Karolinska Institutet\\n',\n 'Washington University in St. Louis\\n',\n 'University of Washington\\n',\n 'Karolinska Institute\\n',\n 'Johns Hopkins University\\n',\n 'University of Oxford\\n',\n 'University of California, San Francisco\\n',\n 'Columbia University\\n',\n 'Columbia University\\n',\n 'Case Western Reserve University\\n',\n 'Institute of Cellular Biology and Neurobiology IBCN, Italy\\n',\n 'New York University\\n',\n 'Stanford University\\n',\n 'Stanford University\\n',\n 'University of California, San Diego\\n',\n 'Brandeis University\\n',\n 'Stanford University\\n',\n 'University of California, Irvine\\n',\n 'Johns Hopkins University\\n',\n 'Max Planck Institute for Biophysical Chemistry\\n',\n 'University of California, San Francisco\\n',\n 'University of Washington\\n',\n 'University of California, Berkeley\\n',\n 'Yale University\\n',\n 'National Institutes of Health\\n',\n 'City of Hope National Medical Center\\n',\n 'Max Planck Institute for Medical Research\\n',\n 'Harvard University\\n',\n 'Genentech, Inc.\\n',\n 'Broad Institute\\n',\n 'Harvard University\\n',\n 'Korea Institute of Science and Technology\\n',\n 'Stanford University\\n',\n 'Harvard University\\n',\n 'Johns Hopkins University\\n',\n 'National Institutes of Health\\n',\n 'University of California, Berkeley\\n',\n 'Salk Institute for Biological Studies\\n',\n 'University of Texas Southwestern Medical Center at Dallas\\n',\n 'Northwestern University\\n',\n 'The Rockefeller University\\n',\n 'Max Planck Institute of Neurobiology\\n',\n 'Stanford University\\n',\n 'Scripps Research Institute\\n',\n 'Johns Hopkins University\\n',\n 'University of California, Los Angeles\\n',\n 'Baylor College of Medicine\\n',\n 'University of California, San Diego\\n',\n 'Cornell University\\n',\n 'Weizmann Institute of Science\\n',\n 'Massachusetts Institute of Technology\\n',\n 'University of California, Davis\\n',\n 'University of California, Berkeley\\n',\n 'University of Georgia\\n',\n 'Stanford University\\n',\n 'University of Colorado\\n',\n 'California Institute of Technology\\n',\n 'Swiss Federal Institute of Technology\\n',\n 'Duke University\\n',\n 'California Institute of Technology\\n',\n 'University of California, San Diego\\n',\n 'Bell Laboratories, Lucent Technologies\\n',\n 'California Institute of Technology\\n',\n 'University of Copenhagen\\n',\n 'Scripps Research Institute\\n',\n 'University of Texas at Austin\\n',\n 'University of Texas at Austin\\n',\n 'University of California, Berkeley\\n',\n 'California Institute of Technology\\n',\n 'Massachusetts Institute of Technology\\n',\n 'University of Illinois at Urbana–Champaign\\n',\n 'California Institute of Technology\\n',\n 'Pennsylvania State University\\n',\n 'University of Southern California\\n',\n 'California Institute of Technology\\n',\n 'University of California, Berkeley\\n',\n 'Columbia University\\n',\n 'University of Chicago\\n',\n 'Stanford University\\n',\n 'Scripps Research\\n',\n 'Pennsylvania State University\\n',\n 'Stanford University\\n',\n 'Stanford University\\n',\n 'Stanford University\\n',\n 'Columbia University\\n',\n 'University of Houston\\n',\n 'Columbia University\\n',\n 'Massachusetts Institute of Technology\\n',\n 'University of Cambridge\\n',\n 'University of Utah\\n',\n 'ETH Zurich\\n',\n 'Princeton University\\n',\n 'University of Colorado at Boulder\\n',\n 'University of Wisconsin–Madison\\n',\n 'Pennsylvania State University\\n',\n 'Massachusetts Institute of Technology\\n',\n 'University of Hong Kong\\n',\n 'Harvard University\\n',\n 'Cornell University\\n',\n 'Stanford University\\n',\n 'University of California, Berkeley\\n',\n 'Purdue University\\n',\n 'Harvard University\\n',\n 'University of Sussex\\n',\n 'Yale University\\n',\n 'National Science Foundation\\n',\n 'Massachusetts Institute of Technology\\n',\n 'Rice University\\n',\n 'University of Wisconsin–Madison\\n',\n 'Memorial Sloan-Kettering Cancer Center\\n',\n 'Texas A&M University\\n',\n 'University of Washington\\n',\n 'Princeton University\\n',\n 'University of Illinois at Urbana–Champaign\\n',\n 'University of Colorado\\n',\n 'University of North Carolina at Chapel Hill\\n',\n 'California Institute of Technology\\n',\n 'California Institute of Technology\\n',\n 'Swiss Federal Institute of Technology\\n',\n 'Michigan State University\\n',\n 'Max Planck Institute for Biophysical Chemistry\\n',\n 'Columbia University\\n',\n 'Georgia Institute of Technology\\n',\n ...]"
     },
     "execution_count": 62,
     "metadata": {},
     "output_type": "execute_result"
    }
   ],
   "source": [
    "def get_NAS_fellows():\n",
    "    urls = [\"https://en.wikipedia.org/wiki/List_of_members_of_the_National_Academy_of_Sciences_(Animal,_nutritional_and_applied_microbial_sciences)\",\"https://en.wikipedia.org/wiki/List_of_members_of_the_National_Academy_of_Sciences_(Anthropology)\",\"https://en.wikipedia.org/wiki/List_of_members_of_the_National_Academy_of_Sciences_(Applied_mathematical_sciences)\",\"https://en.wikipedia.org/wiki/List_of_members_of_the_National_Academy_of_Sciences_(Applied_physical_sciences)\",\"https://en.wikipedia.org/wiki/List_of_members_of_the_National_Academy_of_Sciences_(Astronomy)\",\"https://en.wikipedia.org/wiki/List_of_members_of_the_National_Academy_of_Sciences_(Biochemistry)\",\"https://en.wikipedia.org/wiki/List_of_members_of_the_National_Academy_of_Sciences_(Biophysics_and_computational_biology)\",\"https://en.wikipedia.org/wiki/List_of_members_of_the_National_Academy_of_Sciences_(Cellular_and_developmental_biology)\",\"https://en.wikipedia.org/wiki/List_of_members_of_the_National_Academy_of_Sciences_(Cellular_and_molecular_neuroscience)\",\"https://en.wikipedia.org/wiki/List_of_members_of_the_National_Academy_of_Sciences_(Chemistry)\",\"https://en.wikipedia.org/wiki/List_of_members_of_the_National_Academy_of_Sciences_(Computer_and_information_sciences)\",\"https://en.wikipedia.org/wiki/List_of_members_of_the_National_Academy_of_Sciences_(Economic_sciences)\",\"https://en.wikipedia.org/wiki/List_of_members_of_the_National_Academy_of_Sciences_(Engineering_sciences)\",\"https://en.wikipedia.org/wiki/List_of_members_of_the_National_Academy_of_Sciences_(Environmental_sciences_and_ecology)\",\"https://en.wikipedia.org/wiki/List_of_members_of_the_National_Academy_of_Sciences_(Evolutionary_biology)\",\"https://en.wikipedia.org/wiki/List_of_members_of_the_National_Academy_of_Sciences_(Genetics)\",\"https://en.wikipedia.org/wiki/List_of_members_of_the_National_Academy_of_Sciences_(Geology)\",\"https://en.wikipedia.org/wiki/List_of_members_of_the_National_Academy_of_Sciences_(Human_environmental_sciences)\",\"https://en.wikipedia.org/wiki/List_of_members_of_the_National_Academy_of_Sciences_(Immunology)\",\"https://en.wikipedia.org/wiki/List_of_members_of_the_National_Academy_of_Sciences_(Mathematics)\",\"https://en.wikipedia.org/wiki/List_of_members_of_the_National_Academy_of_Sciences_(Medical_genetics,_hematology,_and_oncology)\",\"https://en.wikipedia.org/wiki/List_of_members_of_the_National_Academy_of_Sciences_(Medical_physiology_and_metabolism)\",\"https://en.wikipedia.org/wiki/List_of_members_of_the_National_Academy_of_Sciences_(Microbial_biology)\",\"https://en.wikipedia.org/wiki/List_of_members_of_the_National_Academy_of_Sciences_(Physics)\",\"https://en.wikipedia.org/wiki/List_of_members_of_the_National_Academy_of_Sciences_(Physiology_and_pharmacology)\",\"https://en.wikipedia.org/wiki/List_of_members_of_the_National_Academy_of_Sciences_(Plant_biology)\",\"https://en.wikipedia.org/wiki/List_of_members_of_the_National_Academy_of_Sciences_(Plant,_soil,_and_microbial_sciences)\",\"https://en.wikipedia.org/wiki/List_of_members_of_the_National_Academy_of_Sciences_(Psychology)\",\"https://en.wikipedia.org/wiki/List_of_members_of_the_National_Academy_of_Sciences_(Social_and_political_sciences)\",\"https://en.wikipedia.org/wiki/List_of_members_of_the_National_Academy_of_Sciences_(Systems_neuroscience)\",\"https://en.wikipedia.org/wiki/List_of_members_of_the_National_Academy_of_Sciences_(Animal,_nutritional_and_applied_microbial_sciences)\",\"https://en.wikipedia.org/wiki/List_of_members_of_the_National_Academy_of_Sciences_(Anthropology)\"]\n",
    "    fellow_list = []\n",
    "    for url in urls:\n",
    "        fellow_list.extend(fetch(url))\n",
    "    return fellow_list\n",
    "get_NAS_fellows()"
   ],
   "metadata": {
    "collapsed": false,
    "ExecuteTime": {
     "end_time": "2023-12-16T14:16:21.104862400Z",
     "start_time": "2023-12-16T14:13:11.795893Z"
    }
   },
   "id": "aae79708001c4d10"
  },
  {
   "cell_type": "code",
   "execution_count": 69,
   "outputs": [
    {
     "data": {
      "text/plain": "['David K. Bamporiki',\n 'Laveen Kanal',\n 'Edward Wolff',\n 'V Prasad Kodali',\n 'Stanley White',\n 'Yaakov Bar-Shalom',\n 'Arvid G Larson',\n 'Milton Radant',\n 'William Skillman',\n 'Steven Kay',\n 'Robert Nevin',\n 'Fred Lee',\n 'Roberto Sorrentino',\n 'W. Ross Stone',\n 'William Delaney',\n 'Edward K. Reedy',\n 'John Schindler',\n 'Martti Hallikainen',\n 'Raj Jain',\n 'Richard Johnson',\n 'David Lynch',\n 'Lloyd Krause',\n 'Robert Mcmillan',\n 'Jitendra Tugnait',\n 'James Rowland',\n 'R Longuemare',\n 'John Pierro',\n 'Takehiro Izumi',\n 'Donald H. Sinnott',\n 'Michael Tuley',\n 'Pramod Varshney',\n 'Asad Madni',\n 'Dennis Knepp',\n 'Nadav Levanon',\n 'Roger Peterson',\n 'Marvin L. Cohen',\n 'Prasad Gogineni',\n 'Kaushik Rajashekara',\n 'Alfonso Farina',\n 'Hugh Griffiths',\n 'Meir Pachter',\n 'Soo-chang Pei',\n 'Leslie Novak',\n 'Belur V. Dasarathy',\n 'Richard Linderman',\n 'Ram Narayanan',\n 'William Blair',\n 'Leo Ligthart',\n 'Bruce Danly',\n 'Simon Watts',\n 'Peter Willett',\n 'Russell Lefevre',\n 'Alberto Moreira',\n 'Surendra Pal',\n 'Robert Rassa',\n 'George Schmidt',\n 'Paul Steffes',\n 'Moe Z. Win',\n 'Rick Blum',\n 'Mark Davis',\n 'Joseph Guerci',\n 'Eric Evans',\n 'Eastwood Im',\n 'Paul Nielsen',\n 'Muralidhar Rangaswamy',\n 'Thomas Robertazzi',\n 'Teresa Pace',\n 'Gregory Bottomley',\n 'Paul Antonik',\n 'Ben Chen',\n 'Victor Chen',\n 'Fulvio Gini',\n 'Yaakov Oshman',\n 'Braham Himed',\n 'Richard Hochberg',\n 'William Melvin',\n 'John Schmalzel',\n 'Yuri Abramovich',\n 'Pasquale Daponte',\n 'Frederick Daum',\n 'Konstyantyn Lukin',\n 'Ramjee Prasad',\n 'Felix Yanovsky',\n 'Jennifer Bernhard',\n 'Daniel Fuhrmann',\n 'Soren Madsen',\n 'John Vesecky',\n 'D Barrick',\n 'Mark Bell',\n 'Veronique Ferlet-cavrois',\n 'Maria Greco',\n 'Eric Mokole',\n 'Paul Rosen',\n 'Bernard Mulgrew',\n 'Roy Streit',\n 'Marshall Greenspan',\n 'Om Prakash Calla',\n 'Mihai Datcu',\n 'Antonio De Maio',\n 'Yonina Eldar',\n 'Erwin Carl Gangl',\n 'Gerhard Johannes Krieger',\n 'James Libous',\n 'Marina Ruggieri',\n 'Iram Weinstein',\n 'B Arbesser-Rastburg',\n 'Robert Ewing',\n 'Hassan Kojori',\n 'Peter Sandborn',\n 'Kristine Bell',\n 'Gérard Lachapelle',\n 'William Song',\n 'Ji Wu',\n 'Daniel Bliss',\n 'Nuno Borges De Carvalho',\n 'Christopher Baker',\n 'William Baldygo',\n 'Shannon Blunt',\n 'David Doman',\n 'Giuseppe Fabrizio',\n 'Thor I. Fossen',\n 'Lance Kaplan',\n 'Erik Larsson',\n 'Daniele Mortari',\n 'Raviraj Adve',\n 'Uwe Hanebeck',\n 'Qilian Liang',\n 'Michael Rice',\n 'Frank Robey',\n 'Lars Ulander',\n 'Erik Blasch',\n 'Earl Mc Cune',\n 'Stephen Welby',\n 'Martin Haardt',\n 'Yilong Lu',\n 'Ronghai Qu',\n 'Brian Rigling',\n 'Kevin Sangston',\n 'David Whelan',\n 'Steven Butler',\n 'Marco Lops',\n 'Bruce Suter',\n 'Jeff Krolik',\n 'Marco Martorella',\n 'Daniel Rabideau',\n 'Christ Richmond',\n 'Stefano Coraluppi',\n 'Michael D. Griffin',\n 'Robert T-I. Shin',\n 'Birsen Yazici',\n 'Maruthi Akella',\n 'Chee-Yee Chong',\n 'Jerald Nespor',\n 'Daniel Tazartes',\n 'Frank van Diggelen',\n 'Michael Braasch',\n 'Karen Haigh',\n 'Anthony Martone',\n 'Khanh Pham',\n 'Arch Luther',\n 'G Thiele',\n 'Maurice Bellanger',\n 'Walter Ciciora',\n 'Herbert Thal',\n 'C Chou',\n 'Charles M Rush',\n 'Carl-erik Sundberg',\n 'Charles Einolf',\n 'Makoto Kitazawa',\n 'Wayne Luplow',\n 'Takehiro Izumi',\n 'H Clark Bell',\n 'Edward Delp',\n 'G Dienes',\n 'Jozef Modelski',\n 'Yiyan Wu',\n 'Stephen Dukes',\n 'Shuji Hirakawa',\n 'James Johnston',\n 'J Farmer',\n 'Paul Steffes',\n 'Frederick Raab',\n 'Ulrich Reimers',\n 'John Sahalos',\n 'Fadhel M. Ghannouchi',\n 'David James Skellern',\n 'Jinyun Zhang',\n 'Valentino Trainotti',\n 'Susanto Rahardja',\n 'Richard Tell',\n 'Wenjun Zhang',\n 'L Dennis Shapiro',\n 'Jong-soo Seo',\n 'Hsiao-chun Wu',\n 'Lap-pui Chau',\n 'Michael Isnardi',\n 'Xianbin Wang',\n 'Ce Zhu',\n 'Thomas Coughlin',\n 'Richard Chernock',\n 'Tao Jiang',\n 'Jose B. Cruz Jr.',\n 'Thomas Kailath',\n 'Gabor Temes',\n 'Leon O. Chua',\n 'Lewis Terman',\n 'Ralph Wyndrum',\n 'Theodore Bickart',\n 'Wai-Kai Chen',\n 'Timothy Trick',\n 'Alan N. Willson Jr.',\n 'John Bandler',\n 'Ching C Li',\n 'George Moschytz',\n 'MNS Swamy',\n 'Yoshihiro Tohma',\n 'Leonard Bruton',\n 'William Howard',\n 'Robert Meyer',\n 'Stanley White',\n 'Andreas Antoniou',\n 'P Dewilde',\n 'Paul Jespers',\n 'Bruce Wooley',\n 'Kenneth Laker',\n 'Mathukumalli Vidyasagar',\n 'Alberto Sangiovanni-Vincentelli',\n 'Maurice Bellanger',\n 'Robert Dutton',\n 'Tatsuo Ohtsuki',\n 'Adel Sedra',\n 'John P. Hayes',\n 'Mohamed Mansour',\n 'Hugo De Man',\n 'Anantha Pai',\n 'Rolf Schaumann',\n 'Wasfy Mikhael',\n 'Ca Salama',\n 'Ralph Cavin',\n 'Earl Swartzlander',\n 'Herbert Thal',\n 'Hideo Fujiwara',\n 'Yrjö Neuvo',\n 'V Ramachandran',\n 'E Vittoz',\n 'Thomas Williams',\n 'Mohamed El-hawary',\n 'Randy Geiger',\n 'Sung Mo Kang',\n 'Hans-jo Pfleiderer',\n 'Isao Shirakawa',\n 'John Darringer',\n 'Alice C. Parker',\n 'Robert Bitmead',\n 'Adrian Brokaw',\n 'C Burckhardt',\n 'Narsingh Deo',\n 'Kenneth Martin',\n 'Andrzej Strojwas',\n 'Robert Trew',\n 'P Vaidyanathan',\n 'David  Allstot',\n 'Bryan Ackland',\n 'Phillip Allen',\n 'Sergio Cova',\n 'Arpad Csurgay',\n 'Hamid Gharavi',\n 'Joos Vandewalle',\n 'Edgar Sanchez-sinencio',\n 'Jules Bellisio',\n 'Pier Paolo Civalleri',\n 'Martin Hasler',\n 'D Hill',\n 'Clifford Lau',\n 'Josef Nossek',\n 'John Sewell',\n 'Sunil Das',\n 'Anthony Davies',\n 'Giovanni De Micheli',\n 'Daniel Gajski',\n 'Bernard Levy',\n 'Tsutomu Sasao',\n 'Periasamy Rajan',\n 'Suhash Dutta Roy',\n 'Yih-fang Huang',\n 'Jose Huertas',\n 'Kozo Kinoshita',\n 'Willy Sansen',\n 'Wayne Luplow',\n 'Radoslaw Biernacki',\n 'Kurt Keutzer',\n 'Franco Maloberti',\n 'Tetsuo Nishi',\n 'Vojin Oklobdzija',\n 'Keshab Parhi',\n 'A Rodriguez-vazquez',\n 'Fathi Salem',\n 'Bing Sheu',\n 'Maciej Ogorzalek',\n 'H Clark Bell',\n 'Guanrong Chen',\n 'Patricia Daniels',\n 'Edward Delp',\n 'Jose Epifaniodafranca',\n 'Andrzej Filipkowski',\n 'Rokuya Ishii',\n 'Mohammed Ismail',\n 'Michitaka  Kameyama',\n 'Mitsumasa Koyanagi',\n 'Henrique Malvar',\n 'Peter Pirsch',\n 'Richard Snyder',\n 'Kou-hu Tzou',\n 'Thayamkulangara Viswanathan',\n 'A Constantinides',\n 'Michael Lightner',\n 'Kwong Shu Chao',\n 'Tadayoshi Enomoto',\n 'Barry Gilbert',\n 'Michael Kennedy',\n 'Anthony Kuh',\n 'Michel Nakhla',\n 'Ali Saberi',\n 'Gerald Sheble',\n 'Marilyn Wolf',\n 'Christopher Silva',\n 'Yu Hen Hu',\n 'Magdy Bayoumi',\n 'Stephen Boyd',\n 'Oren Kesler',\n 'Wolfgang Max Mathis',\n 'Kyu Tae Park',\n 'Gabor Peceli',\n 'Heiner Ryssel',\n 'Michael Soderstrand',\n 'Yervant Zorian',\n 'Mani Soma',\n 'Raul Camposano',\n 'Kwang-ting Cheng',\n 'Abbas El Gamal',\n 'Manfred Glesner',\n 'Weiping Li',\n 'Yong-ching Lim',\n 'Soo-chang Pei',\n 'Jaime Ramirez-angulo',\n 'M. Omair Ahmad',\n 'Liang-gee Chen',\n 'Jingsheng Cong',\n 'Geert De Veirman',\n 'Wei Hwang',\n 'David Johns',\n 'Massoud Pedram',\n 'Masakazu Sengoku',\n 'Bertram Shi',\n 'Shoji Shinoda',\n 'Hui-fang Sun',\n 'Jacques Szczupak',\n 'Georges Ge Gielen',\n 'M Ahmadi',\n 'Sankar Basu',\n 'Hsueh-ming Hang',\n 'J Haslett',\n 'Sayfe Kiaei',\n 'Lawrence Pileggi',\n 'Kaushik Roy',\n 'Tapio Saramäki',\n 'Carl Sechen',\n 'Jan Van Der Spiegel',\n 'Yuval Bistritz',\n 'John Cohn',\n 'Wai-chi Fang',\n 'Graham Jullien',\n 'Toshio Koga',\n 'Farid Najm',\n 'Tony Ng',\n 'Akinori Nishihara',\n 'Sachin Sapatnekar',\n 'Miroslav Begovic',\n 'Jerome Blair',\n 'Hou Chaohuan',\n 'Xuemin Chen',\n 'Alexander Fradkov',\n 'Erik Heijne',\n 'Graham Hellestrand',\n 'Adrian Ioinovici',\n 'Beomsup Kim',\n 'Colin Mcandrew',\n 'Yukihir Nakamura',\n 'Gordon Roberts',\n 'Mohamad Sawan',\n 'Moe Win',\n 'Ljiljana Trajković',\n 'P Anandamohan',\n 'Duane Boning',\n 'Francky Catthoor',\n 'Douglas Frey',\n 'Izzet Goknar',\n 'Geza Kolumban',\n 'Joy Laskar',\n 'Hanoch Lev-ari',\n 'Derong Liu',\n 'Kartikeya Mayaram',\n 'Amy Reibman',\n 'Alle-jan Van Der Veen',\n 'Frederick Raab',\n 'Bhupendra Ahuja',\n 'Andreas Andreou',\n 'Ramesh Harjani',\n 'Ian Hiskens',\n 'Andre Ivanov',\n 'Ljupco Kocarev',\n 'Alex Kot',\n 'Wolfgang Kunz',\n \"Douglas O'Shaughnessy\",\n 'S. Pookaiyaudom',\n 'John Sahalos',\n 'Gianluca Setti',\n 'Gary Sullivan',\n 'Chi Tse',\n 'Andreas Weisshaar',\n 'Burnell West',\n 'Martin Wong',\n 'Nan-ning Zheng',\n 'Athanasios Stouraitis',\n 'Bhargab Bhattacharya',\n 'Flavio Canavero',\n 'Grace Clark',\n 'Peter H De With',\n 'Fadhel Ghannouchi',\n 'Stefan Heinen',\n 'Takayuki Kawahara',\n 'Alexander Loui',\n 'Clark Tu-cuong Nguyen',\n 'Antonio Ortega',\n 'Gaetano Palumbo',\n 'David Skellern',\n 'Annamaria Varkonyi-koczy',\n 'Bernd Becker',\n 'Joe Brewer',\n 'Krishnendu Chakrabarty',\n 'Pau-choo Chung',\n 'Yuguang Fang',\n 'Ling Guan',\n 'Bertrand Hochwald',\n 'Eishi Ibe',\n 'Ming-dou Ker',\n 'Nam Ling',\n 'Bram Nauta',\n 'Levent Onural',\n 'Alexander Petroianu',\n 'Markku Renfors',\n 'Massimo Rudan',\n 'Jyuo-min Shyu',\n 'Rui Silvamartins',\n 'Hoi-jun Yoo',\n 'Xinghuo Yu',\n 'Sheila Hemami',\n ' Ronald Blanton',\n 'Gerhard Fettweis',\n 'Shoji Kawahito',\n 'Yong Lian',\n 'Jiebo Luo',\n 'Un-ku Moon',\n 'Joel Phillips',\n 'Jie Wu',\n 'Enrico Zanoni',\n 'Georg Brasseur',\n 'Tor Lande',\n 'Yusuf Leblebici',\n 'Peter Maxwell',\n 'Anand Raghunathan',\n 'Jose Silva',\n 'Shumpei Yamazaki',\n 'Howard Yang',\n 'Wenwu Zhu',\n 'Bernabé Linares-Barranco',\n 'Shuvra Bhattacharyya',\n 'Guohong Cao',\n 'Gert Cauwenberghs',\n 'Moncef Gabbouj',\n 'Peter Kinget',\n 'Sakae Okubo',\n 'Susanto Rahardja',\n 'Gabriel Rincon-mora',\n 'Wouter Serdijn',\n 'Myung Hoon Sunwoo',\n 'Prab Varma',\n 'Anthony Vetro',\n 'N Vijaykrishnan',\n 'Robert Adams',\n 'Yen-kuang Chen',\n 'Alper Demir',\n 'Mario Di Bernardo',\n 'Douglas Garrity',\n 'Rudy Lauwereins',\n 'Wolfgang Nebel',\n 'Konstantin Plataniotis',\n 'Janusz Rajski',\n 'Riccardo Rovatti',\n 'Luis Silveira',\n 'Wan Chi Siu',\n 'Stephen Trimberger',\n 'Chin-liang Wang',\n 'Jiangtao Wen',\n 'John Poulton',\n 'Arthur Morris',\n 'Ramachandra Achar',\n 'Robert Aitken',\n 'Russel Baker',\n 'David Bull',\n 'Tzi-dar Chiueh',\n 'Marco Corsi',\n 'Lina Karam',\n 'James Libous',\n 'Danilo Mandic',\n 'Radu Marculescu',\n 'Igor L. Markov',\n 'Chris Myers',\n 'Chika Nwankpa',\n 'Masayuki Tanimoto',\n 'David Perreault',\n 'Ingrid Verbauwhede',\n 'Richard Brown',\n 'Mircea Stan',\n 'Poras Balsara',\n 'Soumitro Banerjee',\n 'Tobias Delbruck',\n 'Robert Ewing',\n 'Robert Gilmore',\n 'Helmut Graeb',\n 'Tanay Karnik',\n 'Amir Said',\n 'Patrick Thiran',\n 'Trac Duy Tran',\n 'Martin Vlach',\n 'Wei Zheng',\n 'Joseph Cavallaro',\n 'Edmund Lam',\n 'Jordi Cortadella',\n 'Rolf Drechsler',\n 'Michael Flynn',\n 'D. Gupta',\n 'Henry Leung',\n 'Wenjing Lou',\n 'Diana Marculescu',\n 'Gianluca Mazzini',\n 'Boris Murmann',\n 'Wonyong Sung',\n 'Johan Suykens',\n 'An-yeu (Andy) Wu',\n 'Yuan Xie',\n 'Huaguang Zhang',\n 'Massimo Alioto',\n 'David Atienza',\n 'Kwabena Boahen',\n 'Jinde Cao',\n 'Sandro Carrara',\n 'Henry Chung',\n 'Xian-Sheng Hua',\n 'Jiwu Huang',\n 'Avinoam Kolodny',\n 'Jie Chen',\n 'Xilin Chen',\n 'Tzyy-shen Horng',\n 'Xian-sheng Hua',\n 'Hitoshi Kiya',\n 'Peng Li',\n 'Tsorng-juu Liang',\n 'Gabriele Manganaro',\n 'Toru Tanzawa',\n 'Yeo Kiat Seng',\n 'Bing Zeng',\n 'Valeria Bertacco',\n 'Lap-pui Chau',\n 'Kiyoung Choi',\n 'Sorin Cotofana',\n 'Ricardo De Queiroz',\n 'Payam Heydari',\n 'Kenji Itoh',\n 'Juri Jatskevich',\n 'Deog-kyoon Jeong',\n 'Xin Li',\n 'Donald Lie',\n 'Frank Liu',\n 'Enrico Magli',\n 'Junichi Nakamura',\n 'Panos Nasiopoulos',\n 'Borivoje Nikolic',\n 'Salvatore Pennisi',\n 'Youngsoo Shin',\n 'Andrei Vladimirescu',\n 'Zhihua Wang',\n 'Ce Zhu',\n 'Cyril Luxey',\n 'Stefano Grivet-talocia',\n 'Pamela Abshire',\n 'Chip Hong Chang',\n 'Yiran Chen',\n 'Riccardo Leonardi',\n 'Chia-wen Lin',\n 'Saibal Mukhopadhyay',\n 'Hidetoshi Onodera',\n 'Shanthi Pavan',\n 'Earl McCune',\n 'Massimo Poncino',\n 'Juergen Teich',\n 'Li-c Wang',\n 'Joseph Evans',\n 'Meng-fan Chang',\n 'Deming Chen',\n 'Antun Domic',\n 'Luca Fanucci',\n 'Maysam Ghovanloo',\n 'Zeng-guang Hou',\n 'Pui-in Mak',\n 'Tao Mei',\n 'Maurizio Porfiri',\n 'Seishi Takamura',\n 'Yap-peng Tan',\n 'Shaojun Wei',\n 'Jared Zerbe',\n 'Jill M. Boyce',\n 'Maciej Ciesielski',\n 'Partha Pratim Pande',\n 'Gang Qu',\n 'Mehdi Tahoori',\n 'Dmitri Maslov',\n 'Yung-Hsiang Lu',\n 'Jose B. Cruz Jr.',\n 'Robert Gallager',\n 'Thomas Kailath',\n 'Laveen Kanal',\n 'Andrew Viterbi',\n 'Norman Abramson',\n 'Julian J. Bussgang',\n 'Edward Wolff',\n 'Stephen Sik-Sang Yau',\n 'Ralph Wyndrum',\n 'J. J. Stiffler',\n 'Hisashi Kobayashi',\n 'James Melsa',\n 'John O. Limb',\n 'George Moschytz',\n 'Shu Lin',\n 'Michael Pursley',\n 'Tamer Başar',\n 'Henri Nussbaumer',\n 'Harry Rudin',\n 'Stewart D. Personick',\n 'Thomas Giallorenzi',\n 'John Baras',\n 'Maurice Bellanger',\n 'Anthony Ephremides',\n 'T. Regulinski',\n 'Stephen Weinstein',\n 'Simon S. Lam',\n 'Ryszard Struzak',\n 'Fouad Tobagi',\n 'Erol Gelenbe',\n 'Richard D. Gitlin',\n 'Jae Lim',\n 'John Anderson',\n 'Paul Henry',\n 'Victor B. Lawrence',\n 'Vincent Poor',\n 'Izhak Rubin',\n 'Ca Salama',\n 'Mostafa Kaveh',\n 'Adrian Segall',\n 'Tariq Durrani',\n 'John Vig',\n 'Ezio Biglieri',\n 'K Feher',\n 'Bruce Hajek',\n 'Debasis Mitra',\n 'Yrjö Neuvo',\n 'Krishna Pande',\n 'M. Pitke',\n 'Birendra Prasada',\n 'W. Rummler',\n 'Paul Shumate',\n 'Keshoolal Bakhru',\n 'L. Campbell',\n 'A. Howland',\n 'Salvatore D. Morgera',\n 'Hussein T. Mouftah',\n 'Charles M. Rush',\n 'Carl-Erik Sundberg',\n 'Charles R. Terreault',\n 'Iwao Toda',\n 'Rodney Tucker',\n 'Richard Cox',\n 'Charles Einolf',\n 'WRoss Stone',\n 'Leonid Kazovsky',\n 'Arogyaswami Paulraj',\n 'John Pullen',\n 'Martha E. Sloan',\n 'Vijay Bhargava',\n 'Charles Bostian',\n 'Werner Bux',\n 'John Cafarella',\n 'Peter Cochrane',\n 'Hamid Gharavi',\n 'Jerry Gibson',\n 'Kohei Habara',\n 'Hiromasa Ikeda',\n 'Yoshikazu Ikeda',\n 'Hideki Imai',\n 'Demetrios Kazakos',\n 'Lin-nan Lee',\n 'Victor Li',\n 'Richard Linke',\n 'Curtis Siller',\n 'Rabinder Madan',\n 'Michael Pecht',\n 'Amir Zaghloul',\n 'Mark Karol',\n 'Jules Bellisio',\n 'Imrich Chlamtac',\n 'John Daigle',\n 'David Haccoun',\n 'Pierre Humblet',\n 'Ferdo Ivanek',\n 'Raj Jain',\n 'Makoto Kitazawa',\n 'Rikio Maruta',\n 'Josef Nossek',\n 'Mansoor Shafi',\n 'Jean Walrand',\n 'Gordon Day',\n 'David Lynch',\n 'Francis Magee',\n 'Tibor Berceli',\n 'Vincent Chan',\n 'Chen Wen-tsuen',\n 'Anthony Davies',\n 'David J. Farber',\n 'Michael Hluchyj',\n 'Koichi Inada',\n 'Lev Levitin',\n 'Bernard Levy',\n 'David Neuhoff',\n 'Lionel Ni',\n 'Shlomo Shamai',\n 'D Taylor',\n 'Jitendra Tugnait',\n 'J. Roberto De Marca',\n 'Nim Cheung',\n 'Pierre Chevillat',\n 'Amitava Dutta-roy',\n 'Shri Goyal',\n 'Chris Heegard',\n 'To Hsing',\n 'Yih-fang Huang',\n 'Louis Ippolito',\n 'Gerd Keiser',\n 'Hikmet Sari',\n 'Don Towsley',\n 'Douglas Zuckerman',\n 'John Cioffi',\n 'Ian F. Akyildiz',\n 'A Bush',\n 'Changxin Fan',\n 'Thomas Fischer',\n 'Peter Grant',\n 'Gerald Lebizay',\n 'Osama Mohammed',\n 'Justin Chuang',\n 'Edward Delp',\n 'Dariush Divsalar',\n 'Michael Honig',\n 'M A Lagunas',\n 'Tho Le-ngoc',\n 'Raymond J. Leopold',\n 'Fuyun Ling',\n 'Rico Malvar',\n 'Paul Siegel',\n 'Satish K. Tripathi',\n 'Michael Lightner',\n 'Ender Ayanoglu',\n 'Antonio Cantoni',\n 'David Du',\n 'Pierre Duhamel',\n 'Luigi Fratta',\n 'Victor Frost',\n 'Costas Georghiades',\n 'Joseph Katz',\n 'Anthony Kuh',\n 'Sukhan Lee',\n 'Wu-hon Leung',\n 'Yasuo Matsuyama',\n 'Curtis Menyuk',\n 'Roger Peterson',\n 'Wayne Stark',\n 'Andrew S. Tanenbaum',\n 'Patrick Trischitta',\n 'Marilyn Wolf',\n 'Behnaam Aazhang',\n 'Ken-ichi Sato',\n 'Arun K. Somani',\n 'Marco Ajmone Marsan',\n 'Rashid Ansari',\n 'Tor Aulin',\n 'Magdy Bayoumi',\n 'Norman C. Beaulieu',\n 'Said El-khamy',\n 'Andrzej Jajszczyk',\n 'Byoung Kim',\n 'Alberto Leon-Garcia',\n 'Stuart Lipoff',\n 'Kyu Tae Park',\n 'Craig Partridge',\n 'Vellenki Reddy',\n 'Nihal Sinnadurai',\n 'Michael Soderstrand',\n 'Gordon Stuber',\n 'Leonard Cimini',\n 'S Jamaloddin Golestani',\n 'Nambirajan Seshadri',\n 'Mitsutoshi Hatori',\n 'Joseph Kahn',\n 'Shuzo Kato',\n 'Roger Marks',\n 'John Haig Marsh',\n 'Tetsuya Miki',\n 'William Miniscalco',\n 'Madihally Narasimha',\n 'Naohisa Ohta',\n 'Steen Parl',\n 'Soo-chang Pei',\n 'Bhaskar Rao',\n 'Roger Elliott Ray',\n 'Bixio Rimoldi',\n 'Kotikalapudi Sriram',\n 'Robert Tkach',\n 'Demosthenis Teneketzis',\n 'Moshe Kam',\n 'Vincenzo Piuri',\n 'Yoshihiko Akaiwa',\n 'Hung Jonathan Chao',\n 'Belur V. Dasarathy',\n 'Sang Hoo Dhong',\n 'Wei Hwang',\n 'Takashi Iida',\n 'Kin Leung',\n 'Prakash Narayan',\n 'Masakazu Sengoku',\n 'Tatsuya Suda',\n 'Shigehiko Suzuki',\n 'Arne Svensson',\n 'Yang Yuan Wang',\n 'Yiyan Wu',\n 'Fumiyuki Adachi',\n 'Mostafa Ammar',\n 'Tomonori Aoyama',\n 'Anthony Boucouvalas',\n 'James Cavers',\n 'Stephen Dukes',\n 'Evangelos S. Eleftheriou',\n 'Eweda Eweda',\n 'J. Haslett',\n 'Yingbo Hua',\n 'James Johnston',\n 'Leo Ligthart',\n 'Marc Moeneclaey',\n 'Kazuo Murano',\n 'Tapio Saramäki',\n 'Daniel Blumenthal',\n 'Kenneth Bow',\n 'Prosper Chemouil',\n 'Zhi Ding',\n 'Mario Gerla',\n 'Sadahik Kano',\n 'Kenichi Kitayama',\n 'Khaled Letaief',\n 'K. J. Ray Liu',\n 'Thomas Marzetta',\n 'Antonio Mecozzi',\n 'Takehiro Moriya',\n 'Tony Ng',\n 'Erdal Panayirci',\n 'Kenneth Rose',\n 'Bhavani Thuraisingham',\n 'Toshitaka Tsuda',\n 'Philip Chou',\n 'Jon Crowcroft',\n 'J. Farmer',\n 'Thomas Fuja',\n 'Lajos Hanzo',\n 'Kenneth Kerpez',\n 'Harold Kirkham',\n 'Jean-Yves Le Boudec',\n 'Will Leland',\n 'Michael Marcus',\n 'Yukou Mochida',\n 'Koso Murakami',\n 'Björn Ottersten',\n 'Surendra Pal',\n 'Sanjoy Paul',\n 'Subramaniam Ramadorai',\n 'Robert Rassa',\n 'Lee Swindlehurst',\n 'David L. Tennenhouse',\n 'Moe Z. Win',\n 'Rick Blum',\n 'Ljiljana Trajković',\n 'Abdol-hamid Aghvami',\n 'Joseph Campbell',\n 'Mehmet Civanlar',\n 'Romano Fantacci',\n 'Andrea Goldsmith',\n 'K. K. Ramakrishnan',\n 'Joseph Guerci',\n 'Geza Kolumban',\n 'T Lakshman',\n 'Joy Laskar',\n 'Upamanyu Madhow',\n 'Paul Nikolich',\n 'Mohammad S. Obaidat',\n 'A. J. Han Vinck',\n 'Walter Willinger',\n 'Karlheinz Brandenburg',\n 'Chung-ju Chang',\n 'Giovanni Cherubini',\n 'Yun Chung',\n 'Marc P. Fossorier',\n 'Nicholas Frigo',\n 'Joaquin Garcia-Luna-Aceves',\n 'Hideki Hayashi',\n 'Johannes Huber',\n 'Frank Kschischang',\n 'Luc Vandendorpe',\n 'Anurag Kumar',\n 'Luis Kun',\n 'Hideo Kuwahara',\n 'David Lucantoni',\n 'Richard Lynch',\n \"Douglas O'Shaughnessy\",\n 'Ulrich Reimers',\n 'Thomas Robertazzi',\n 'John Sahalos',\n 'Henning Schulzrinne',\n 'Dirk Slock',\n 'Gary Sullivan',\n 'Tomohiko Taniguchi',\n 'Jan Uddenfeldt',\n 'Venugopal Veeravalli',\n 'Andreas Weisshaar',\n 'Gregory Bottomley',\n 'Paul Antonik',\n 'Kwang-cheng Chen',\n 'Grace Clark',\n 'Fadhel M. Ghannouchi',\n 'Steven Scott Gorshe',\n 'Xiaohong Guan',\n 'Zygmunt Haas',\n 'Stefan Heinen',\n 'Abbas Jamalipour',\n 'Ton Koonen',\n 'Urbashi Mitra',\n 'Marc Moonen',\n 'Biswanath Mukherjee',\n 'Thomas Richardson',\n 'Christopher Rose',\n 'Brian Sadler',\n 'Ness Shroff',\n 'David James Skellern',\n 'Rodney G. Vaughan',\n 'J. Wieselthier',\n 'Sung-joo Yoo',\n 'Michele Zorzi',\n 'Muriel Médard',\n 'John Apostolopoulos',\n 'H. Anthony Chan',\n 'Sudhir Dixit',\n 'Yuguang Fang',\n 'Ornan Gerstel',\n 'Kazuo Hagimoto',\n 'Bertrand Hochwald',\n 'Amarpal Khanna',\n 'Jorg Liebeherr',\n 'Steven Low',\n 'Bruno Meyer',\n 'Radia Perlman',\n 'Markku Renfors',\n 'Debanjan Saha',\n 'Ananthram Swami',\n 'Hiromi Ueda',\n 'Weihua Zhuang',\n 'William Webb',\n 'Ja-ling Wu',\n 'En-hui Yang',\n 'Yutaka Yasuda',\n 'Hoi-jun Yoo',\n 'Jinyun Zhang',\n 'Sheila Hemami',\n 'Kenneth Zdunek',\n 'Nirwan Ansari',\n 'Leslie Baxter',\n ...]"
     },
     "execution_count": 69,
     "metadata": {},
     "output_type": "execute_result"
    }
   ],
   "source": [
    "ieee"
   ],
   "metadata": {
    "collapsed": false,
    "ExecuteTime": {
     "end_time": "2023-12-16T15:46:39.827227900Z",
     "start_time": "2023-12-16T15:46:39.782443700Z"
    }
   },
   "id": "9ffe6263d864f2db"
  },
  {
   "cell_type": "code",
   "execution_count": 73,
   "outputs": [
    {
     "data": {
      "text/plain": "False"
     },
     "execution_count": 73,
     "metadata": {},
     "output_type": "execute_result"
    }
   ],
   "source": [
    "\"Jia ya Jia\" in ieee"
   ],
   "metadata": {
    "collapsed": false,
    "ExecuteTime": {
     "end_time": "2023-12-16T15:49:28.797804800Z",
     "start_time": "2023-12-16T15:49:28.783909600Z"
    }
   },
   "id": "d8c52a85d5aafcf7"
  },
  {
   "cell_type": "code",
   "execution_count": null,
   "outputs": [],
   "source": [],
   "metadata": {
    "collapsed": false
   },
   "id": "9e5b9835ebd53fa1"
  }
 ],
 "metadata": {
  "kernelspec": {
   "display_name": "Python 3",
   "language": "python",
   "name": "python3"
  },
  "language_info": {
   "codemirror_mode": {
    "name": "ipython",
    "version": 2
   },
   "file_extension": ".py",
   "mimetype": "text/x-python",
   "name": "python",
   "nbconvert_exporter": "python",
   "pygments_lexer": "ipython2",
   "version": "2.7.6"
  }
 },
 "nbformat": 4,
 "nbformat_minor": 5
}
