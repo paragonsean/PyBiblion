{
 "cells": [
  {
   "metadata": {},
   "cell_type": "markdown",
   "source": "# TNCSI",
   "id": "2f138b65a208d3fd"
  },
  {
   "metadata": {},
   "cell_type": "code",
   "outputs": [],
   "execution_count": null,
   "source": [
    "from retrievers.semantic_scholar_paper import *\n",
    "# papers neer 100 citations\n",
    "papers = [\n",
    "    'A comprehensive survey of image segmentation: clustering methods, performance parameters, and benchmark datasets',\n",
    "    'Involvement of Machine Learning for Breast Cancer Image Classification: A Survey',\n",
    "    'Class-Incremental Learning: A Survey',\n",
    "    'A Systematic Survey of Prompt Engineering on Vision-Language Foundation Models',\n",
    "    'End-to-End Speech Recognition: A Survey',\n",
    "]\n",
    "rst = []\n",
    "for paper in papers:\n",
    "    paper = S2paper(paper)\n",
    "    rst.append(f'title: {paper.title}, year: {paper.publication_date}, cites: {paper.citation_count}, TNCSI:{paper.TNCSI}')\n",
    "print(rst)"
   ],
   "id": "51bd6ac238f1d23f"
  },
  {
   "metadata": {},
   "cell_type": "markdown",
   "source": "# IEI",
   "id": "e6a690b3f689a614"
  },
  {
   "metadata": {
    "ExecuteTime": {
     "end_time": "2024-11-15T16:17:39.607155Z",
     "start_time": "2024-11-15T16:17:12.122263Z"
    }
   },
   "cell_type": "code",
   "source": [
    "from retrievers.semantic_scholar_paper import *\n",
    "# papers neer 100 citations\n",
    "papers = [\n",
    "    # 'Large Language Model based Multi-Agents: A Survey of Progress and Challenges',\n",
    "    # 'A Survey on Multimodal Large Language Models for Autonomous Driving',\n",
    "    # '''Trustworthy LLMs: a Survey and Guideline for Evaluating Large Language Models' Alignment''',\n",
    "    # 'Diffusion Models: A Comprehensive Survey of Methods and Applications',\n",
    "    # 'Understanding the planning of LLM agents: A survey',\n",
    "    \n",
    "    'Knowledge Distillation and Student-Teacher Learning for Visual Intelligence: A Review and New Outlooks',\n",
    "    'A survey on knowledge distillation of large language models',\n",
    "    'A review of practical ai for remote sensing in earth sciences',\n",
    "    'Change detection methods for remote sensing in the last decade: A comprehensive review'\n",
    "    # 'A Survey on Model Compression for Large Language Models',\n",
    "    # 'A survey of image classification methods and techniques for improving classification performance'\n",
    "]\n",
    "rst = []\n",
    "for paper in papers:\n",
    "    paper = S2paper(paper)\n",
    "    rst.append(f'title: {paper.title}, year: {paper.publication_date}, cites: {paper.citation_count}, TNCSI:{paper.TNCSI}, IEI:{paper.IEI}')\n",
    "print(rst)"
   ],
   "id": "817b9839f1ba5cf",
   "outputs": [
    {
     "name": "stderr",
     "output_type": "stream",
     "text": [
      "2024-11-16 00:17:13,343 - INFO - HTTP Request: POST https://flag.smarttrot.com/v1/chat/completions \"HTTP/1.1 200 OK\"\n",
      "2024-11-16 00:17:16,653 - INFO - HTTP Request: POST https://flag.smarttrot.com/v1/chat/completions \"HTTP/1.1 200 OK\"\n",
      "2024-11-16 00:17:20,031 - INFO - HTTP Request: POST https://flag.smarttrot.com/v1/chat/completions \"HTTP/1.1 200 OK\"\n",
      "2024-11-16 00:17:24,497 - INFO - HTTP Request: POST https://flag.smarttrot.com/v1/chat/completions \"HTTP/1.1 200 OK\"\n"
     ]
    },
    {
     "name": "stdout",
     "output_type": "stream",
     "text": [
      "[\"title: knowledge distillation and student-teacher learning for visual intelligence: a review and new outlooks, year: 2020-04-13 00:00:00, cites: 565, TNCSI:{'TNCSI': 0.9937443672862759, 'topic': 'knowledge distillation', 'loc': 0.0, 'scale': 111.346}, IEI:{'L6': -1.4095248844516857, 'I6': -8.0}\", \"title: a survey on knowledge distillation of large language models, year: 2024-02-20 00:00:00, cites: 40, TNCSI:{'TNCSI': 0.30179363317834473, 'topic': 'knowledge distillation', 'loc': 0.0, 'scale': 111.346}, IEI:{'L6': 1.0970987533042116, 'I6': 1.0}\", \"title: a review of practical ai for remote sensing in earth sciences, year: 2023-08-21 00:00:00, cites: 29, TNCSI:{'TNCSI': 0.11437340167589849, 'topic': 'remote sensing applications', 'loc': 0.0, 'scale': 238.762}, IEI:{'L6': -0.15698310052318443, 'I6': 1.0}\", \"title: change detection methods for remote sensing in the last decade: a comprehensive review, year: 2023-05-09 00:00:00, cites: 23, TNCSI:{'TNCSI': 0.22598548952718756, 'topic': 'remote sensing change detection', 'loc': 0.0, 'scale': 89.786}, IEI:{'L6': 0.3991737119541023, 'I6': 0.0}\"]\n"
     ]
    }
   ],
   "execution_count": 9
  },
  {
   "metadata": {},
   "cell_type": "markdown",
   "source": "# RQM",
   "id": "60ac5249f8fc2237"
  },
  {
   "metadata": {
    "ExecuteTime": {
     "end_time": "2024-11-14T12:14:49.092405Z",
     "start_time": "2024-11-14T12:13:29.506287Z"
    }
   },
   "cell_type": "code",
   "source": [
    "from retrievers.semantic_scholar_paper import *\n",
    "# papers neer 100 citations\n",
    "papers = [\n",
    "    'A Survey on Video Diffusion Models',\n",
    "    'Video Diffusion Models: A Survey',\n",
    "    'A Survey on Multimodal Large Language Models',\n",
    "    'Multimodal Large Language Models: A Survey',\n",
    "    'A Survey on Benchmarks of Multimodal Large Language Models',\n",
    "    'A Survey on Evaluation of Multimodal Large Language Models',\n",
    "]\n",
    "rst = []\n",
    "for paper in papers:\n",
    "    paper = S2paper(paper)\n",
    "    rst.append(f'title: {paper.title}, year: {paper.publication_date}, cites: {paper.citation_count}, RQM:{paper.RQM}, RUI:{paper.RUI}')\n",
    "print(rst)"
   ],
   "id": "51cd054222735bd6",
   "outputs": [
    {
     "name": "stderr",
     "output_type": "stream",
     "text": [
      "2024-11-14 20:13:33,389 - INFO - HTTP Request: POST https://flag.smarttrot.com/v1/chat/completions \"HTTP/1.1 200 OK\"\n",
      "2024-11-14 20:13:55,033 - INFO - HTTP Request: POST https://flag.smarttrot.com/v1/chat/completions \"HTTP/1.1 200 OK\"\n",
      "2024-11-14 20:14:03,705 - INFO - HTTP Request: POST https://flag.smarttrot.com/v1/chat/completions \"HTTP/1.1 200 OK\"\n",
      "2024-11-14 20:14:12,237 - INFO - HTTP Request: POST https://flag.smarttrot.com/v1/chat/completions \"HTTP/1.1 200 OK\"\n",
      "2024-11-14 20:14:34,146 - INFO - HTTP Request: POST https://flag.smarttrot.com/v1/chat/completions \"HTTP/1.1 200 OK\"\n",
      "2024-11-14 20:14:41,806 - INFO - HTTP Request: POST https://flag.smarttrot.com/v1/chat/completions \"HTTP/1.1 200 OK\"\n"
     ]
    },
    {
     "name": "stdout",
     "output_type": "stream",
     "text": [
      "[\"title: a survey on video diffusion models, year: 2023-10-16 00:00:00, cites: 58, RQM:{'RQM': 0.9437041990370401, 'ARQ': 0.7236786047826983, 'S_mp': 2, 'loc': 0.0, 'scale': 48.549}, RUI:{'RAD': 0.0503838959430907, 'CDR': 4.078838174273859, 'RUI': 41.292220702169494}\", \"title: video diffusion models: a survey, year: 2024-05-06 00:00:00, cites: 5, RQM:{'RQM': 0.9493491748103148, 'ARQ': 0.8278081541975619, 'S_mp': 3, 'loc': 0.0, 'scale': 48.549}, RUI:{'RAD': 0.012983316354763156, 'CDR': 0.8264705882352941, 'RUI': 8.394539045900572}\", \"title: a survey on multimodal large language models, year: 2023-06-23 00:00:00, cites: 341, RQM:{'RQM': 0.9854099488778376, 'ARQ': 0.8321528802942638, 'S_mp': 1, 'loc': 0.0, 'scale': 64.339}, RUI:{'RAD': 0.08161408140105833, 'CDR': 32.1, 'RUI': 321.81614081401057}\", \"title: multimodal large language models: a survey, year: 2023-11-22 00:00:00, cites: 102, RQM:{'RQM': 0.6530332344213301, 'ARQ': 0.6894879452972534, 'S_mp': 5, 'loc': 0.0, 'scale': 240.947}, RUI:{'RAD': 0.03615863751832339, 'CDR': 0.8095113209196608, 'RUI': 8.456699584379843}\", \"title: a survey on benchmarks of multimodal large language models, year: 2024-08-16 00:00:00, cites: 7, RQM:{'RQM': 0.853368250417057, 'ARQ': 0.5213996088505197, 'S_mp': 2, 'loc': 0.0, 'scale': 64.339}, RUI:{'RAD': 0.004162399395900823, 'CDR': 0.4646606018194542, 'RUI': 4.68823001215355}\", \"title: a survey on evaluation of multimodal large language models, year: 2024-08-28 00:00:00, cites: 6, RQM:{'RQM': 0.6310225633844329, 'ARQ': 0.19378871103718398, 'S_mp': 2, 'loc': 24.0, 'scale': 962.107}, RUI:{'RAD': 0.0024971600461290867, 'CDR': 0.24259539520148515, 'RUI': 2.4509255524761424}\"]\n"
     ]
    }
   ],
   "execution_count": 2
  },
  {
   "metadata": {},
   "cell_type": "markdown",
   "source": "# RUI",
   "id": "fb7cb918f4eb23da"
  },
  {
   "metadata": {
    "ExecuteTime": {
     "end_time": "2024-11-14T14:01:08.892020Z",
     "start_time": "2024-11-14T14:01:01.862761Z"
    }
   },
   "cell_type": "code",
   "source": [
    "from retrievers.semantic_scholar_paper import *\n",
    "# papers neer 100 citations\n",
    "papers = [\n",
    "    'A review of object detection based on deep learning',\n",
    "    'A comprehensive review of object detection with deep learning',\n",
    "    'Long sequence time-series forecasting with deep learning: A survey',\n",
    "    'Time-series forecasting with deep learning: a survey'\n",
    "    \n",
    "]\n",
    "rst = []\n",
    "for paper in papers:\n",
    "    paper = S2paper(paper)\n",
    "    rst.append(f'title: {paper.title}, year: {paper.publication_date}, cites: {paper.citation_count},RUI:{paper.RUI},topic:{paper.gpt_keyword}')\n",
    "print(rst)"
   ],
   "id": "6ccbbc377ecf9534",
   "outputs": [
    {
     "name": "stderr",
     "output_type": "stream",
     "text": [
      "2024-11-14 22:01:03,157 - INFO - HTTP Request: POST https://flag.smarttrot.com/v1/chat/completions \"HTTP/1.1 200 OK\"\n",
      "2024-11-14 22:01:05,959 - INFO - HTTP Request: POST https://flag.smarttrot.com/v1/chat/completions \"HTTP/1.1 200 OK\"\n",
      "2024-11-14 22:01:07,373 - INFO - HTTP Request: POST https://flag.smarttrot.com/v1/chat/completions \"HTTP/1.1 200 OK\"\n",
      "2024-11-14 22:01:08,841 - INFO - HTTP Request: POST https://flag.smarttrot.com/v1/chat/completions \"HTTP/1.1 200 OK\"\n"
     ]
    },
    {
     "name": "stdout",
     "output_type": "stream",
     "text": [
      "[\"title: a review of object detection based on deep learning, year: 2020-06-12 00:00:00, cites: 315,RUI:{'RAD': 0.5992318249209696, 'CDR': 1.8102778527110872, 'RUI': 24.095096776320567},topic:object detection\", \"title: a comprehensive review of object detection with deep learning, year: 2022-11-01 00:00:00, cites: 110,RUI:{'RAD': 0.15395429400082944, 'CDR': 0.5185168619733429, 'RUI': 6.724711559741723},topic:object detection\", \"title: long sequence time-series forecasting with deep learning: a survey, year: 2023-04-01 00:00:00, cites: 78,RUI:{'RAD': 0.0977418939176189, 'CDR': 0.6050426511663018, 'RUI': 7.027845450839207},topic:time-series forecasting\", \"title: time-series forecasting with deep learning: a survey, year: 2020-04-28 00:00:00, cites: 919,RUI:{'RAD': 0.6296802353705518, 'CDR': 2.279021513596156, 'RUI': 29.08701748966708},topic:time-series forecasting\"]\n"
     ]
    }
   ],
   "execution_count": 5
  },
  {
   "metadata": {
    "ExecuteTime": {
     "end_time": "2024-11-15T08:40:35.201775Z",
     "start_time": "2024-11-15T08:39:30.944943Z"
    }
   },
   "cell_type": "code",
   "source": [
    "# Extracting the titles without citations from the LaTeX table code provided by the user\n",
    "from retrievers.semantic_scholar_paper import *\n",
    "titles_and_topics = [\n",
    "    [\"Object Detection with Deep Learning: A Review\", \"deep learning-based objection detection\"],\n",
    "    [\"Few-shot Object Detection: a Survey\", \"few-shot object detection\"],\n",
    "    [\"Recent Few-shot Object Detection Algorithms: A Survey with Performance Comparison\", \"few-shot object detection\"],\n",
    "    [\"Recent progresses on object detection: a brief review\", \"object detection\"],\n",
    "    [\"A Survey of Modern Deep Learning Based Object Detection Models\", \"object detection\"],\n",
    "    [\"A Survey on Curriculum Learning\", \"curriculum learning\"],\n",
    "    [\"Review of Automatic Text Summarization Techniques Methods\", \"automatic text summarization\"],\n",
    "    [\"Automatic Text Summarization Methods: A Comprehensive Review\", \"automatic text summarization\"],\n",
    "    [\"Graph Self-supervised Learning: A Survey\", \"graph self-supervised learning\"],\n",
    "    [\"Self-supervised Learning on Graphs: Contrastive, Generative, or Predictive\", \"graph self-supervised learning\"],\n",
    "    [\"A Review of Deep-learning-based Medical Image Segmentation Methods\", \"medical image segmentation\"],\n",
    "    [\"Biomedical Image Segmentation: A Survey\", \"biomedical image segmentation\"],\n",
    "    [\"A Survey of Methods, Datasets, and Evaluation Metrics for Visual Question Answering\", \"visual question answering\"],\n",
    "    [\"From Image to Language: a Critical Analysis of Visual Question Answering (VQA) Approaches, Challenges, and Opportunities\", \"visual question answering\"],\n",
    "    [\"A Survey on Vision Transformer\", \"vision transformer\"],\n",
    "    [\"Transformers in Vision: A Survey\", \"transformers in computer vision\"],\n",
    "    [\"A Survey of Visual Transformers\", \"visual transformers\"],\n",
    "    [\"A Survey on Efficient Vision Transformers: Algorithms, Techniques, and Performance Benchmarking\", \"efficient vision transformers\"],\n",
    "    [\"A Survey on Large Language Model Based Autonomous Agents\", \"LLM-based autonomous agents\"],\n",
    "    [\"Retrieval-Augmented Generation for Large Language Models: A Survey\", \"retrieval-augmented generation\"],\n",
    "    [\"A Survey on Graph Diffusion Models: Generative AI in Science for Molecule, Protein and Material\", \"graph diffusion models\"],\n",
    "    [\"A Survey on Audio Diffusion Models: Text to Speech Synthesis and Enhancement in Generative AI\", \"audio diffusion models\"],\n",
    "    [\"Diffusion Models: a Comprehensive Survey of Methods and Applications\", \"diffusion models\"],\n",
    "    [\"Geometric Deep Learning on Molecular Representations\", \"molecular representations\"],\n",
    "    [\"Ensemble Deep Learning in Bioinformatics\", \"ensemble bioinformatics\"],\n",
    "    [\"A Survey on Self-supervised Learning: Algorithms, Applications, and Future Trends\", \"self-supervised learning\"],\n",
    "    [\"Self-Supervised Learning: Generative or Contrastive\", \"self-supervised learning\"],\n",
    "    [\"A Survey on Visual Mamba\", \"visual mamba\"],\n",
    "    [\"A Comprehensive Survey on Segment Anything Model for Vision and Beyond\", \"segment anything model\"]\n",
    "]\n",
    "\n",
    "\n",
    "rst = []\n",
    "from tqdm import tqdm\n",
    "for paper in tqdm(titles_and_topics):\n",
    "    title, topic = paper[0],paper[1]\n",
    "    paper = S2paper(title)\n",
    "    paper._gpt_keyword = topic\n",
    "    rst.append(\n",
    "    f\"title: {paper.title}; year: {paper.publication_date}; cites: {paper.citation_count}; refs: {paper.reference_count}; TNCSI: {paper.TNCSI.get('TNCSI')}; IEI: {paper.IEI.get('L6')}, RQM: {paper.RQM.get('RQM')}, RUI: {paper.RUI.get('RUI')}, topic: {paper.gpt_keyword}\"\n",
    ")\n",
    "\n",
    "print('\\n'.join(rst))"
   ],
   "id": "d4dfc11e940643ec",
   "outputs": [
    {
     "name": "stderr",
     "output_type": "stream",
     "text": [
      "100%|██████████| 29/29 [01:04<00:00,  2.22s/it]"
     ]
    },
    {
     "name": "stdout",
     "output_type": "stream",
     "text": [
      "title: object detection with deep learning: a review; year: 2018-07-15 00:00:00; cites: 3533; refs: 252; TNCSI: 1.0; IEI: -7.507146875407073, RQM: 0.9600329284647704, RUI: 99.45109590767008, topic: deep learning-based objection detection\n",
      "title: few-shot object detection: a survey; year: 2022-02-24 00:00:00; cites: 34; refs: 70; TNCSI: 0.2634879285216397; IEI: -0.5844121921763968, RQM: 0.680821767034242, RUI: 23.485494147743474, topic: few-shot object detection\n",
      "title: recent few-shot object detection algorithms: a survey with performance comparison; year: 2022-03-27 00:00:00; cites: 19; refs: 186; TNCSI: 0.15709819117203727; IEI: -0.6929885280285518, RQM: 0.6588458128817495, RUI: 25.46520446978008, topic: few-shot object detection\n",
      "title: recent progresses on object detection: a brief review; year: 2019-06-26 00:00:00; cites: 38; refs: 110; TNCSI: 0.03185956227338538; IEI: 0.0834239099119306, RQM: 0.35757041788257093, RUI: 43.15416506828501, topic: object detection\n",
      "title: a survey of modern deep learning based object detection models; year: 2021-04-24 00:00:00; cites: 619; refs: 113; TNCSI: 0.40987598258654434; IEI: -0.600440360979638, RQM: 0.46621185859698155, RUI: 16.392245748520875, topic: object detection\n",
      "title: a survey on curriculum learning; year: 2021-03-31 00:00:00; cites: 446; refs: 148; TNCSI: 0.9231535921441344; IEI: 1.0908624896328682, RQM: 0.1407489479363203, RUI: 14.24947342471952, topic: curriculum learning\n",
      "title: review of automatic text summarization techniques methods; year: 2020-05-01 00:00:00; cites: 181; refs: 117; TNCSI: 0.8977744410950858; IEI: 0.3234957169976171, RQM: 0.05812264506860876, RUI: 22.095845415906474, topic: automatic text summarization\n",
      "title: automatic text summarization methods: a comprehensive review; year: 2022-03-03 00:00:00; cites: 36; refs: 102; TNCSI: 0.36465983988751227; IEI: 0.23999337140698718, RQM: 0.00607057914968534, RUI: 6.245975621574767, topic: automatic text summarization\n",
      "title: graph self-supervised learning: a survey; year: 2021-02-27 00:00:00; cites: 453; refs: 183; TNCSI: 0.9928324462146227; IEI: -2.8459685409270024, RQM: 0.9534553960441062, RUI: 164.5194884989208, topic: graph self-supervised learning\n",
      "title: self-supervised learning on graphs: contrastive, generative, or predictive; year: 2021-05-16 00:00:00; cites: 207; refs: 139; TNCSI: 0.8952861930764996; IEI: -1.0155001164329218, RQM: 0.9403854386198094, RUI: 97.66982073719524, topic: graph self-supervised learning\n",
      "title: a review of deep-learning-based medical image segmentation methods; year: 2021-01-25 00:00:00; cites: 436; refs: 112; TNCSI: 0.750546304163046; IEI: -3.1143039934134227, RQM: 0.25563772035236265, RUI: 23.361550850874863, topic: medical image segmentation\n",
      "title: biomedical image segmentation: a survey; year: 2021-05-30 00:00:00; cites: 20; refs: 157; TNCSI: 0.13177103714637617; IEI: -0.2757961434797132, RQM: 0.0007315618293738391, RUI: 10.10836722811079, topic: biomedical image segmentation\n",
      "title: a survey of methods, datasets, and evaluation metrics for visual question answering; year: 2021-10-01 00:00:00; cites: 33; refs: 211; TNCSI: 0.1483510060276927; IEI: 0.673264690116712, RQM: 0.12207362220975582, RUI: 13.629538950967323, topic: visual question answering\n",
      "title: from image to language: a critical analysis of visual question answering (vqa) approaches, challenges, and opportunities; year: 2023-11-01 00:00:00; cites: 8; refs: 321; TNCSI: 0.03818069889907705; IEI: 0.5244494092787247, RQM: 0.12766804443964375, RUI: 3.5233758118044416, topic: visual question answering\n",
      "title: a survey on vision transformer; year: 2020-12-23 00:00:00; cites: 1537; refs: 326; TNCSI: 0.9985221774516261; IEI: -0.12770682859696572, RQM: 0.9371842713630473, RUI: 1246.3220936309115, topic: vision transformer\n",
      "title: transformers in vision: a survey; year: 2021-01-04 00:00:00; cites: 1959; refs: 285; TNCSI: 0.9999998614655287; IEI: -6.40585700017638, RQM: 0.978663790333361, RUI: 456.4035751123929, topic: transformers in computer vision\n",
      "title: a survey of visual transformers; year: 2021-11-11 00:00:00; cites: 248; refs: 244; TNCSI: 0.8203381453865387; IEI: -0.18350548843108383, RQM: 0.9732931293626506, RUI: 115.19473545913266, topic: visual transformers\n",
      "title: a survey on efficient vision transformers: algorithms, techniques, and performance benchmarking; year: 2023-09-05 00:00:00; cites: 18; refs: 99; TNCSI: 0.17097088181959963; IEI: 0.15354494341487013, RQM: 0.7930386613517075, RUI: 12.62046676052686, topic: efficient vision transformers\n",
      "title: a survey on large language model based autonomous agents; year: 2023-08-22 00:00:00; cites: 692; refs: 193; TNCSI: 0.999989556037785; IEI: -0.8501221132492524, RQM: 0.9737533615142328, RUI: 261.744953810751, topic: LLM-based autonomous agents\n",
      "title: retrieval-augmented generation for large language models: a survey; year: 2023-12-18 00:00:00; cites: 770; refs: 229; TNCSI: 0.9999999999999704; IEI: 6.110248521644391, RQM: 0.9681352125587369, RUI: 101.36158637518324, topic: retrieval-augmented generation\n",
      "title: a survey on graph diffusion models: generative ai in science for molecule, protein and material; year: 2023-04-04 00:00:00; cites: 37; refs: 151; TNCSI: 0.5588963616797549; IEI: -0.30509947673007703, RQM: 0.9516244650064579, RUI: 7.285937741939044, topic: graph diffusion models\n",
      "title: a survey on audio diffusion models: text to speech synthesis and enhancement in generative ai; year: 2023-03-23 00:00:00; cites: 54; refs: 141; TNCSI: 0.40355967409189075; IEI: 0.5333945900941232, RQM: 0.4573919056386254, RUI: 49.405017530916204, topic: audio diffusion models\n",
      "title: diffusion models: a comprehensive survey of methods and applications; year: 2022-09-02 00:00:00; cites: 921; refs: 394; TNCSI: 0.9119390910556279; IEI: -1.2555828750527496, RQM: 0.7214787549093988, RUI: 30.98078526677814, topic: diffusion models\n",
      "title: geometric deep learning on molecular representations; year: 2021-07-26 00:00:00; cites: 234; refs: 208; TNCSI: 0.9326199527702357; IEI: 1.4348897410056909, RQM: 0.7869706779902974, RUI: 23.55967711075517, topic: molecular representations\n",
      "title: ensemble deep learning in bioinformatics; year: 2020-08-17 00:00:00; cites: 194; refs: 116; TNCSI: 0.7238907334765763; IEI: 1.2654310421297714, RQM: 0.3031196557995183, RUI: 16.360715977569544, topic: ensemble bioinformatics\n",
      "title: a survey on self-supervised learning: algorithms, applications, and future trends; year: 2023-01-13 00:00:00; cites: 38; refs: 308; TNCSI: 0.10856444983704094; IEI: -0.1114724596867734, RQM: 0.30754187273872, RUI: 11.207020588294828, topic: self-supervised learning\n",
      "title: self-supervised learning: generative or contrastive; year: 2020-06-15 00:00:00; cites: 1341; refs: 184; TNCSI: 0.9826739090215413; IEI: -6.958377918933892, RQM: 0.8922506181492573, RUI: 79.71580309769453, topic: self-supervised learning\n",
      "title: a survey on visual mamba; year: 2024-04-24 00:00:00; cites: 20; refs: 101; TNCSI: 0.24987960908753193; IEI: -2.167546703634549, RQM: 0.9490775214344674, RUI: 45.36792840164287, topic: visual mamba\n",
      "title: a comprehensive survey on segment anything model for vision and beyond; year: 2023-05-14 00:00:00; cites: 61; refs: 223; TNCSI: 0.9540135434992045; IEI: 0.056074223127368504, RQM: 0.9730371791449874, RUI: 166.6921914396907, topic: segment anything model\n"
     ]
    },
    {
     "name": "stderr",
     "output_type": "stream",
     "text": [
      "\n"
     ]
    }
   ],
   "execution_count": 2
  },
  {
   "metadata": {
    "ExecuteTime": {
     "end_time": "2024-11-16T05:06:44.435154Z",
     "start_time": "2024-11-16T05:06:44.413300Z"
    }
   },
   "cell_type": "code",
   "source": [
    "titles_and_topics = [\n",
    "    [\"Object Detection with Deep Learning: A Review\", \"deep learning-based objection detection\"],\n",
    "    [\"Few-shot Object Detection: a Survey\", \"few-shot object detection\"],\n",
    "    [\"Recent Few-shot Object Detection Algorithms: A Survey with Performance Comparison\", \"few-shot object detection\"],\n",
    "    [\"Recent progresses on object detection: a brief review\", \"object detection\"],\n",
    "    [\"A Survey of Modern Deep Learning Based Object Detection Models\", \"object detection\"],\n",
    "    [\"A Survey on Curriculum Learning\", \"curriculum learning\"],\n",
    "    [\"Review of Automatic Text Summarization Techniques Methods\", \"automatic text summarization\"],\n",
    "    [\"Automatic Text Summarization Methods: A Comprehensive Review\", \"automatic text summarization\"],\n",
    "    [\"Graph Self-supervised Learning: A Survey\", \"graph self-supervised learning\"],\n",
    "    [\"Self-supervised Learning on Graphs: Contrastive, Generative, or Predictive\", \"graph self-supervised learning\"],\n",
    "    [\"A Review of Deep-learning-based Medical Image Segmentation Methods\", \"medical image segmentation\"],\n",
    "    [\"Biomedical Image Segmentation: A Survey\", \"biomedical image segmentation\"],\n",
    "    [\"A Survey of Methods, Datasets, and Evaluation Metrics for Visual Question Answering\", \"visual question answering\"],\n",
    "    [\"From Image to Language: a Critical Analysis of Visual Question Answering (VQA) Approaches, Challenges, and Opportunities\", \"visual question answering\"],\n",
    "    [\"A Survey on Vision Transformer\", \"vision transformer\"],\n",
    "    [\"Transformers in Vision: A Survey\", \"transformers in computer vision\"],\n",
    "    [\"A Survey of Visual Transformers\", \"visual transformers\"],\n",
    "    [\"A Survey on Efficient Vision Transformers: Algorithms, Techniques, and Performance Benchmarking\", \"efficient vision transformers\"],\n",
    "    [\"A Survey on Large Language Model Based Autonomous Agents\", \"LLM-based autonomous agents\"],\n",
    "    [\"Retrieval-Augmented Generation for Large Language Models: A Survey\", \"retrieval-augmented generation\"],\n",
    "    [\"A Survey on Graph Diffusion Models: Generative AI in Science for Molecule, Protein and Material\", \"graph diffusion models\"],\n",
    "    [\"A Survey on Audio Diffusion Models: Text to Speech Synthesis and Enhancement in Generative AI\", \"audio diffusion models\"],\n",
    "    [\"Diffusion Models: a Comprehensive Survey of Methods and Applications\", \"diffusion models\"],\n",
    "    [\"Geometric Deep Learning on Molecular Representations\", \"molecular representations\"],\n",
    "    [\"Ensemble Deep Learning in Bioinformatics\", \"ensemble bioinformatics\"],\n",
    "    [\"A Survey on Self-supervised Learning: Algorithms, Applications, and Future Trends\", \"self-supervised learning\"],\n",
    "    [\"Self-Supervised Learning: Generative or Contrastive\", \"self-supervised learning\"],\n",
    "    [\"A Survey on Visual Mamba\", \"visual mamba\"],\n",
    "    [\"A Comprehensive Survey on Segment Anything Model for Vision and Beyond\", \"segment anything model\"]\n",
    "]\n",
    "a = [i[0] for i in titles_and_topics]"
   ],
   "id": "7cd1f66e33505e69",
   "outputs": [],
   "execution_count": 10
  },
  {
   "metadata": {},
   "cell_type": "code",
   "outputs": [],
   "execution_count": null,
   "source": "",
   "id": "2c2bfede0933f8e7"
  }
 ],
 "metadata": {
  "kernelspec": {
   "display_name": "Python 3",
   "language": "python",
   "name": "python3"
  },
  "language_info": {
   "codemirror_mode": {
    "name": "ipython",
    "version": 2
   },
   "file_extension": ".py",
   "mimetype": "text/x-python",
   "name": "python",
   "nbconvert_exporter": "python",
   "pygments_lexer": "ipython2",
   "version": "2.7.6"
  }
 },
 "nbformat": 4,
 "nbformat_minor": 5
}
