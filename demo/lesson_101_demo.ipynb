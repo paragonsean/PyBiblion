{
 "cells": [
  {
   "cell_type": "markdown",
   "source": "# This is the most simplest demo of the Pybiblion. Have fun with it~",
   "metadata": {
    "collapsed": false
   },
   "id": "93b5ae5924ad31f1"
  },
  {
   "cell_type": "markdown",
   "source": [
    "## Retrieve meta-data of a certain paper."
   ],
   "metadata": {
    "collapsed": false
   },
   "id": "2b52ad314c78036"
  },
  {
   "cell_type": "code",
   "source": [
    "from retrievers.semantic_scholar_paper import *\n",
    "\n",
    "paper_seg_anything = S2paper(ref_obj='Segment anything') # ← Input paper title here\n",
    "\n",
    "print(f'Published at {paper_seg_anything.publication_date}, the paper \"{paper_seg_anything.title}\"'\n",
    "      f' has received {paper_seg_anything.citation_count} citations. '\n",
    "      f'Authored by {len(paper_seg_anything.authors)} researchers, '\n",
    "      f'it is now accepted by the {paper_seg_anything.publication_source}.')"
   ],
   "metadata": {
    "collapsed": false,
    "ExecuteTime": {
     "end_time": "2024-11-28T10:46:02.902479Z",
     "start_time": "2024-11-28T10:45:58.549064Z"
    }
   },
   "id": "2f94cbb984972af4",
   "outputs": [
    {
     "name": "stdout",
     "output_type": "stream",
     "text": [
      "Published at 2023-04-05 00:00:00, the paper \"segment anything\" has received 4572 citations. Authored by 12 researchers, it is now accepted by the IEEE International Conference on Computer Vision.\n"
     ]
    }
   ],
   "execution_count": 1
  },
  {
   "cell_type": "markdown",
   "source": "## If you wanna measure a certain paper with our proposed metric? Try this code below↓",
   "metadata": {
    "collapsed": false
   },
   "id": "9397a7230d66db79"
  },
  {
   "cell_type": "code",
   "source": [
    "from retrievers.semantic_scholar_paper import *\n",
    "s2paper = S2paper('A survey on segment anything model (sam): Vision foundation model meets prompt engineering')\n",
    "if s2paper.citation_count is not None:\n",
    "    print(f'Paper Title: {s2paper.title}, Topic Keyword: {s2paper.gpt_keyword}, TNCSI: {s2paper.TNCSI.get(\"TNCSI\")}, IEI: {s2paper.IEI.get(\"L6\")}, RQM: {s2paper.RQM.get(\"RQM\")}, RUI: {s2paper.RUI.get(\"RUI\")}')"
   ],
   "metadata": {
    "collapsed": false,
    "ExecuteTime": {
     "end_time": "2024-11-28T10:52:55.550321Z",
     "start_time": "2024-11-28T10:52:54.211188Z"
    }
   },
   "id": "8593e51568dde423",
   "outputs": [
    {
     "name": "stderr",
     "output_type": "stream",
     "text": [
      "2024-11-28 18:52:55,321 - INFO - HTTP Request: POST https://flag.smarttrot.com/v1/chat/completions \"HTTP/1.1 200 OK\"\n"
     ]
    },
    {
     "name": "stdout",
     "output_type": "stream",
     "text": [
      "Caution: Publication date of paper \"a survey on segment anything model (sam): vision foundation model meets prompt engineering\" is no longer accurate. Using the pubdate of the latest reference instead.\n",
      "Paper Title: a survey on segment anything model (sam): vision foundation model meets prompt engineering, Topic Keyword: segment anything model, TNCSI: 0.9185582974328894, IEI: -0.3999454515743826, RQM: 0.9932620530009145, RUI: 12.631354579184695\n"
     ]
    }
   ],
   "execution_count": 2
  },
  {
   "cell_type": "markdown",
   "source": [
    "# Feel free to contact us via email[oceanytech@gmail.com] or Github issues if you encounter any problems."
   ],
   "metadata": {
    "collapsed": false
   },
   "id": "4b8773875a570618"
  },
  {
   "metadata": {},
   "cell_type": "code",
   "outputs": [],
   "execution_count": null,
   "source": "",
   "id": "49ae2498ca450e9e"
  }
 ],
 "metadata": {
  "kernelspec": {
   "display_name": "Python 3",
   "language": "python",
   "name": "python3"
  },
  "language_info": {
   "codemirror_mode": {
    "name": "ipython",
    "version": 2
   },
   "file_extension": ".py",
   "mimetype": "text/x-python",
   "name": "python",
   "nbconvert_exporter": "python",
   "pygments_lexer": "ipython2",
   "version": "2.7.6"
  }
 },
 "nbformat": 4,
 "nbformat_minor": 5
}
