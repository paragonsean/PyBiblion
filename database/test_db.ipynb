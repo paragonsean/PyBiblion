{
 "cells": [
  {
   "cell_type": "markdown",
   "id": "initial_id",
   "metadata": {
    "collapsed": true
   },
   "source": [
    "# Database Connection Test"
   ]
  },
  {
   "cell_type": "code",
   "execution_count": 6,
   "id": "f0382d064a564949",
   "metadata": {
    "collapsed": false
   },
   "outputs": [],
   "source": [
    "import mysql.connector\n",
    "\n",
    "# Connect to the MySQL database\n",
    "connection = mysql.connector.connect(\n",
    "    host='localhost',\n",
    "    user='root',\n",
    "    password='xxx',\n",
    "    database='ripami'\n",
    ")\n",
    "\n",
    "# Create a cursor object to execute SQL queries\n",
    "cursor = connection.cursor()\n",
    "cursor.execute(r\"SELECT * FROM ripami\")\n",
    "result = cursor.fetchall()  # Fetch all rows\n",
    "# Python list\n",
    "# my_list = ['item1', 'item2', 'item3']\n",
    "#\n",
    "# # Insert each element into the table\n",
    "# for item in my_list:\n",
    "#     query = \"INSERT INTO ListElements (element) VALUES (%s)\"\n",
    "#     values = (item,)\n",
    "#     cursor.execute(query, values)\n",
    "\n",
    "# Commit the changes and close the connection\n",
    "connection.commit()\n",
    "cursor.close()\n",
    "connection.close()"
   ]
  }
 ],
 "metadata": {
  "kernelspec": {
   "display_name": "Python 3",
   "language": "python",
   "name": "python3"
  },
  "language_info": {
   "codemirror_mode": {
    "name": "ipython",
    "version": 3
   },
   "file_extension": ".py",
   "mimetype": "text/x-python",
   "name": "python",
   "nbconvert_exporter": "python",
   "pygments_lexer": "ipython3",
   "version": "3.11.9"
  }
 },
 "nbformat": 4,
 "nbformat_minor": 5
}
