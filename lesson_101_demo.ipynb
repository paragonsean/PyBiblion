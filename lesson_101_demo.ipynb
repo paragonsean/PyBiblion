{
 "cells": [
  {
   "cell_type": "markdown",
   "source": [
    "# This is the most simplest demo of our proj. Have fun with it~"
   ],
   "metadata": {
    "collapsed": false
   },
   "id": "93b5ae5924ad31f1"
  },
  {
   "cell_type": "markdown",
   "source": [
    "## Retrieve meta-data of a certain paper."
   ],
   "metadata": {
    "collapsed": false
   },
   "id": "2b52ad314c78036"
  },
  {
   "cell_type": "code",
   "execution_count": 2,
   "outputs": [
    {
     "name": "stdout",
     "output_type": "stream",
     "text": [
      "Published at 2023-04-05 00:00:00, the paper \"segment anything\" has received 1566 citations. Authored by 12 researchers, it is now accepted by the IEEE International Conference on Computer Vision.\n"
     ]
    }
   ],
   "source": [
    "from furnace.semantic_scholar_paper import *\n",
    "\n",
    "paper_seg_anything = S2paper(ref_obj='Segment anything') # ← Input paper title here\n",
    "\n",
    "print(f'Published at {paper_seg_anything.publication_date}, the paper \"{paper_seg_anything.title}\"'\n",
    "      f' has received {paper_seg_anything.citation_count} citations. '\n",
    "      f'Authored by {len(paper_seg_anything.authors)} researchers, '\n",
    "      f'it is now accepted by the {paper_seg_anything.publication_source}.')"
   ],
   "metadata": {
    "collapsed": false,
    "ExecuteTime": {
     "end_time": "2024-02-24T07:25:50.797407500Z",
     "start_time": "2024-02-24T07:25:50.683721800Z"
    }
   },
   "id": "2f94cbb984972af4"
  },
  {
   "cell_type": "markdown",
   "source": [
    "## If you wanna measure a certain paper with our proposed metric? Try this code below↓\n",
    "### Please note that we have used a regular research paper instead of a literature review for demonstration purposes. Our intention is to showcase the applicability of our code to non-review papers. Whether the proposed metrics are suitable for regular papers requires further discussion (e.g., regarding RQM and RUI, which were proposed for reviews)."
   ],
   "metadata": {
    "collapsed": false
   },
   "id": "9397a7230d66db79"
  },
  {
   "cell_type": "code",
   "execution_count": 2,
   "outputs": [],
   "source": [
    "from furnace.semantic_scholar_paper import *\n",
    "from metrics.metric import *\n",
    "\n",
    "s2paper = S2paper('A survey on segment anything model (sam): Vision foundation model meets prompt engineering') # ← Input paper title here\n",
    "\n",
    "if s2paper.citation_count is not None:\n",
    "    if s2paper.citation_count >=0:\n",
    "        print(s2paper.title)\n",
    "        tncsi_rst = get_TNCSI(s2paper,show_PDF=False,topic_keyword=None) # You may specify the topic keyword as you want\n",
    "        print(tncsi_rst)\n",
    "        if s2paper.publication_date is not None and s2paper.reference_count != 0:\n",
    "            \n",
    "            IEI = get_IEI(s2paper.title)\n",
    "            \n",
    "            RQM_rst = get_RQM(s2paper,tncsi_rst=tncsi_rst)\n",
    "            RQM = RQM_rst['RQM']\n",
    "            ARQ = RQM_rst['ARQ']\n",
    "            S_mp = RQM_rst['S_mp']\n",
    "            \n",
    "            RUI_rst = get_RUI(s2paper)\n",
    "            RUI = RUI_rst['RUI']\n",
    "            CDR = RUI_rst['CDR']\n",
    "            RAD = RUI_rst['RAD']\n",
    "            \n",
    "            print(f'Paper Title: {s2paper.title}, Topic Keyword: {tncsi_rst[\"topic\"]}, TNCSI: {tncsi_rst[\"TNCSI\"]}, IEI: {IEI[\"L6\"]}, RQM: {RQM}, RUI: {RUI}')"
   ],
   "metadata": {
    "collapsed": false,
    "ExecuteTime": {
     "end_time": "2024-04-18T07:21:44.260109700Z",
     "start_time": "2024-04-18T07:21:44.247117500Z"
    }
   },
   "id": "8593e51568dde423"
  },
  {
   "cell_type": "markdown",
   "source": [
    "# You may find more interesting stuff in furnace\\visualization\\tools folders. "
   ],
   "metadata": {
    "collapsed": false
   },
   "id": "14e18f0250cc992a"
  },
  {
   "cell_type": "markdown",
   "source": [
    "# Feel free to contact us via email[oceanytech@gmail.com] or Github issues if you encounter any problems."
   ],
   "metadata": {
    "collapsed": false
   },
   "id": "4b8773875a570618"
  },
  {
   "cell_type": "code",
   "execution_count": null,
   "outputs": [],
   "source": [],
   "metadata": {
    "collapsed": false
   },
   "id": "f5d67385b9099040"
  }
 ],
 "metadata": {
  "kernelspec": {
   "display_name": "Python 3",
   "language": "python",
   "name": "python3"
  },
  "language_info": {
   "codemirror_mode": {
    "name": "ipython",
    "version": 2
   },
   "file_extension": ".py",
   "mimetype": "text/x-python",
   "name": "python",
   "nbconvert_exporter": "python",
   "pygments_lexer": "ipython2",
   "version": "2.7.6"
  }
 },
 "nbformat": 4,
 "nbformat_minor": 5
}
